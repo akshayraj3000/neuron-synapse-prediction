{
 "cells": [
  {
   "cell_type": "code",
   "execution_count": 47,
   "metadata": {},
   "outputs": [],
   "source": [
    "import pandas as pd\n",
    "import numpy as np\n",
    "import matplotlib.pyplot as plt\n",
    "import seaborn as sns\n",
    "import scipy\n",
    "\n",
    "#Preprocessing\n",
    "from category_encoders import TargetEncoder\n",
    "from sklearn.preprocessing import StandardScaler, OneHotEncoder, MinMaxScaler, LabelEncoder\n",
    "from sklearn.compose import ColumnTransformer\n",
    "from sklearn.impute import SimpleImputer\n",
    "from sklearn.utils.class_weight import compute_sample_weight\n",
    "from sklearn.compose import ColumnTransformer\n",
    "from sklearn.pipeline import Pipeline\n",
    "\n",
    "\n",
    "\n",
    "#Model Selection\n",
    "from sklearn.model_selection import GridSearchCV, StratifiedKFold\n",
    "from sklearn.model_selection import train_test_split\n",
    "\n",
    "#Metrics\n",
    "from sklearn.metrics import balanced_accuracy_score, accuracy_score, confusion_matrix\n",
    "\n",
    "# Models\n",
    "from sklearn.linear_model import LogisticRegression, LogisticRegressionCV\n",
    "from sklearn.ensemble import  RandomForestClassifier, AdaBoostClassifier, GradientBoostingClassifier, StackingClassifier\n",
    "from xgboost import XGBClassifier\n",
    "from sklearn.calibration import CalibratedClassifierCV\n",
    "from sklearn.svm import SVC, LinearSVC\n",
    "\n",
    "#RegressionModels\n",
    "from sklearn.linear_model import LinearRegression\n",
    "from sklearn.ensemble import RandomForestRegressor\n",
    "from xgboost import XGBRegressor\n",
    "\n",
    "\n",
    "#Oversample \n",
    "from imblearn.over_sampling import RandomOverSampler, SMOTENC\n",
    "\n",
    "\n",
    "\n",
    "#Pipeline\n",
    "from sklearn.pipeline import Pipeline\n",
    "\n",
    "# Deep\n",
    "import tensorflow as tf\n",
    "from tensorflow.keras import layers, models\n",
    "from sklearn.neural_network import MLPClassifier\n",
    "\n",
    "\n",
    "#other\n",
    "import os\n",
    "import warnings\n",
    "warnings.filterwarnings(\"ignore\")"
   ]
  },
  {
   "cell_type": "code",
   "execution_count": 4,
   "metadata": {},
   "outputs": [],
   "source": [
    "\n",
    "os.chdir(r'C:\\Users\\danie\\OneDrive\\Desktop\\Fall2023\\ELEC478\\Competition\\neuron-synapse-prediction')\n",
    " \n",
    "#load in training data on each potential synapse\n",
    "data = pd.read_csv(\"./train_data.csv\")\n",
    "\n",
    "#load in additional features for each neuron\n",
    "feature_weights = pd.read_csv(\"./feature_weights.csv\")\n",
    "morph_embeddings = pd.read_csv(\"./morph_embeddings.csv\")"
   ]
  },
  {
   "cell_type": "code",
   "execution_count": 5,
   "metadata": {},
   "outputs": [
    {
     "name": "stdout",
     "output_type": "stream",
     "text": [
      "Main Dataframe Size: (185832, 30)\n",
      "\n",
      "Main Dataframe:\n",
      "<class 'pandas.core.frame.DataFrame'>\n",
      "RangeIndex: 185832 entries, 0 to 185831\n",
      "Data columns (total 30 columns):\n",
      " #   Column                          Non-Null Count   Dtype  \n",
      "---  ------                          --------------   -----  \n",
      " 0   ID                              185832 non-null  int64  \n",
      " 1   axonal_coor_x                   185832 non-null  int64  \n",
      " 2   axonal_coor_y                   185832 non-null  int64  \n",
      " 3   axonal_coor_z                   185832 non-null  int64  \n",
      " 4   dendritic_coor_x                185832 non-null  int64  \n",
      " 5   dendritic_coor_y                185832 non-null  int64  \n",
      " 6   dendritic_coor_z                185832 non-null  int64  \n",
      " 7   adp_dist                        185832 non-null  float64\n",
      " 8   post_skeletal_distance_to_soma  185832 non-null  float64\n",
      " 9   pre_skeletal_distance_to_soma   185832 non-null  float64\n",
      " 10  pre_oracle                      185832 non-null  float64\n",
      " 11  pre_test_score                  185832 non-null  float64\n",
      " 12  pre_rf_x                        185832 non-null  float64\n",
      " 13  pre_rf_y                        185832 non-null  float64\n",
      " 14  post_oracle                     185832 non-null  float64\n",
      " 15  post_test_score                 185832 non-null  float64\n",
      " 16  post_rf_x                       185832 non-null  float64\n",
      " 17  post_rf_y                       185832 non-null  float64\n",
      " 18  compartment                     185832 non-null  object \n",
      " 19  pre_brain_area                  185832 non-null  object \n",
      " 20  post_brain_area                 185832 non-null  object \n",
      " 21  pre_nucleus_x                   185832 non-null  int64  \n",
      " 22  pre_nucleus_y                   185832 non-null  int64  \n",
      " 23  pre_nucleus_z                   185832 non-null  int64  \n",
      " 24  post_nucleus_x                  185832 non-null  int64  \n",
      " 25  post_nucleus_y                  185832 non-null  int64  \n",
      " 26  post_nucleus_z                  185832 non-null  int64  \n",
      " 27  pre_nucleus_id                  185832 non-null  int64  \n",
      " 28  post_nucleus_id                 185832 non-null  int64  \n",
      " 29  connected                       185832 non-null  bool   \n",
      "dtypes: bool(1), float64(11), int64(15), object(3)\n",
      "memory usage: 41.3+ MB\n",
      "\n",
      "Feature Weights Size: (2692, 513)\n",
      "\n",
      "Feature Weights:\n",
      "<class 'pandas.core.frame.DataFrame'>\n",
      "RangeIndex: 2692 entries, 0 to 2691\n",
      "Columns: 513 entries, nucleus_id to feature_weight_511\n",
      "dtypes: float64(512), int64(1)\n",
      "memory usage: 10.5 MB\n",
      "\n",
      "Morphological Embeddings Size: (2667, 33)\n",
      "\n",
      "Morphological Embeddings:\n",
      "<class 'pandas.core.frame.DataFrame'>\n",
      "RangeIndex: 2667 entries, 0 to 2666\n",
      "Columns: 33 entries, nucleus_id to morph_emb_31\n",
      "dtypes: float64(32), int64(1)\n",
      "memory usage: 687.7 KB\n"
     ]
    }
   ],
   "source": [
    "print(\"Main Dataframe Size:\",data.shape)\n",
    "print(\"\\nMain Dataframe:\")\n",
    "data.info()\n",
    "\n",
    "print(\"\\nFeature Weights Size:\",feature_weights.shape)\n",
    "print(\"\\nFeature Weights:\")\n",
    "feature_weights.info(verbose=False)\n",
    "\n",
    "print(\"\\nMorphological Embeddings Size:\",morph_embeddings.shape)\n",
    "print(\"\\nMorphological Embeddings:\")\n",
    "morph_embeddings.info(verbose=False)"
   ]
  },
  {
   "cell_type": "code",
   "execution_count": 6,
   "metadata": {},
   "outputs": [],
   "source": [
    "# join all feature_weight_i columns into a single np.array column\n",
    "feature_weights[\"feature_weights\"] = (\n",
    "    feature_weights.filter(regex=\"feature_weight_\")\n",
    "    .sort_index(axis=1)\n",
    "    .apply(lambda x: np.array(x), axis=1)\n",
    ")\n",
    "# delete the feature_weight_i columns\n",
    "feature_weights.drop(\n",
    "    feature_weights.filter(regex=\"feature_weight_\").columns, axis=1, inplace=True\n",
    ")\n",
    "\n",
    "# join all morph_embed_i columns into a single np.array column\n",
    "morph_embeddings[\"morph_embeddings\"] = (\n",
    "    morph_embeddings.filter(regex=\"morph_emb_\")\n",
    "    .sort_index(axis=1)\n",
    "    .apply(lambda x: np.array(x), axis=1)\n",
    ")\n",
    "# delete the morph_embed_i columns\n",
    "morph_embeddings.drop(\n",
    "    morph_embeddings.filter(regex=\"morph_emb_\").columns, axis=1, inplace=True\n",
    ")"
   ]
  },
  {
   "cell_type": "code",
   "execution_count": 7,
   "metadata": {},
   "outputs": [],
   "source": [
    "data = (\n",
    "    data.merge(\n",
    "        feature_weights.rename(columns=lambda x: \"pre_\" + x), \n",
    "        how=\"left\", \n",
    "        validate=\"m:1\",\n",
    "        copy=False,\n",
    "    )\n",
    "    .merge(\n",
    "        feature_weights.rename(columns=lambda x: \"post_\" + x),\n",
    "        how=\"left\",\n",
    "        validate=\"m:1\",\n",
    "        copy=False,\n",
    "    )\n",
    "    .merge(\n",
    "        morph_embeddings.rename(columns=lambda x: \"pre_\" + x),\n",
    "        how=\"left\",\n",
    "        validate=\"m:1\",\n",
    "        copy=False,\n",
    "    )\n",
    "    .merge(\n",
    "        morph_embeddings.rename(columns=lambda x: \"post_\" + x),\n",
    "        how=\"left\",\n",
    "        validate=\"m:1\",\n",
    "        copy=False,\n",
    "    )\n",
    ")"
   ]
  },
  {
   "cell_type": "code",
   "execution_count": 8,
   "metadata": {},
   "outputs": [
    {
     "name": "stdout",
     "output_type": "stream",
     "text": [
      "<class 'pandas.core.frame.DataFrame'>\n",
      "Int64Index: 185832 entries, 0 to 185831\n",
      "Data columns (total 34 columns):\n",
      " #   Column                          Non-Null Count   Dtype  \n",
      "---  ------                          --------------   -----  \n",
      " 0   ID                              185832 non-null  int64  \n",
      " 1   axonal_coor_x                   185832 non-null  int64  \n",
      " 2   axonal_coor_y                   185832 non-null  int64  \n",
      " 3   axonal_coor_z                   185832 non-null  int64  \n",
      " 4   dendritic_coor_x                185832 non-null  int64  \n",
      " 5   dendritic_coor_y                185832 non-null  int64  \n",
      " 6   dendritic_coor_z                185832 non-null  int64  \n",
      " 7   adp_dist                        185832 non-null  float64\n",
      " 8   post_skeletal_distance_to_soma  185832 non-null  float64\n",
      " 9   pre_skeletal_distance_to_soma   185832 non-null  float64\n",
      " 10  pre_oracle                      185832 non-null  float64\n",
      " 11  pre_test_score                  185832 non-null  float64\n",
      " 12  pre_rf_x                        185832 non-null  float64\n",
      " 13  pre_rf_y                        185832 non-null  float64\n",
      " 14  post_oracle                     185832 non-null  float64\n",
      " 15  post_test_score                 185832 non-null  float64\n",
      " 16  post_rf_x                       185832 non-null  float64\n",
      " 17  post_rf_y                       185832 non-null  float64\n",
      " 18  compartment                     185832 non-null  object \n",
      " 19  pre_brain_area                  185832 non-null  object \n",
      " 20  post_brain_area                 185832 non-null  object \n",
      " 21  pre_nucleus_x                   185832 non-null  int64  \n",
      " 22  pre_nucleus_y                   185832 non-null  int64  \n",
      " 23  pre_nucleus_z                   185832 non-null  int64  \n",
      " 24  post_nucleus_x                  185832 non-null  int64  \n",
      " 25  post_nucleus_y                  185832 non-null  int64  \n",
      " 26  post_nucleus_z                  185832 non-null  int64  \n",
      " 27  pre_nucleus_id                  185832 non-null  int64  \n",
      " 28  post_nucleus_id                 185832 non-null  int64  \n",
      " 29  connected                       185832 non-null  bool   \n",
      " 30  pre_feature_weights             185832 non-null  object \n",
      " 31  post_feature_weights            185832 non-null  object \n",
      " 32  pre_morph_embeddings            138123 non-null  object \n",
      " 33  post_morph_embeddings           185832 non-null  object \n",
      "dtypes: bool(1), float64(11), int64(15), object(7)\n",
      "memory usage: 48.4+ MB\n"
     ]
    }
   ],
   "source": [
    "data.info()"
   ]
  },
  {
   "cell_type": "code",
   "execution_count": 9,
   "metadata": {},
   "outputs": [],
   "source": [
    "#cosine similarity function\n",
    "def row_feature_similarity(row):\n",
    "    pre = row[\"pre_feature_weights\"]\n",
    "    post = row[\"post_feature_weights\"]\n",
    "    return (pre * post).sum() / (np.linalg.norm(pre) * np.linalg.norm(post))"
   ]
  },
  {
   "cell_type": "code",
   "execution_count": 10,
   "metadata": {},
   "outputs": [],
   "source": [
    "#cosine similarity function\n",
    "def row_morph_similarity(row):\n",
    "    pre = row[\"pre_morph_embeddings\"]\n",
    "    post = row[\"post_morph_embeddings\"]\n",
    "    return (pre * post).sum() / (np.linalg.norm(pre) * np.linalg.norm(post))"
   ]
  },
  {
   "cell_type": "code",
   "execution_count": 11,
   "metadata": {},
   "outputs": [],
   "source": [
    "def feature_engineering(data, me_similarity = True):\n",
    "    # compute the cosine similarity between the pre- and post- feature weights\n",
    "    data[\"fw_similarity\"] = data.apply(row_feature_similarity, axis=1)  \n",
    "\n",
    "    if me_similarity:\n",
    "        data['me_similarity'] = data.apply(row_morph_similarity, axis=1)  \n",
    "        \n",
    "    data['log_adp_dist'] = np.log(data['adp_dist'])    \n",
    "\n",
    "    #Oracle \n",
    "    data['oracle_sq'] = data['pre_oracle'] * data['post_oracle']\n",
    "\n",
    "    #Test Score\n",
    "    data['test_score_sq'] = data['pre_test_score'] * data['post_test_score']\n",
    "\n",
    "    # generate projection group as pre->post\n",
    "    data[\"projection_group\"] = (\n",
    "        data[\"pre_brain_area\"].astype(str)\n",
    "        + \"_to_\"\n",
    "        + data[\"post_brain_area\"].astype(str)\n",
    "    )\n"
   ]
  },
  {
   "cell_type": "code",
   "execution_count": 12,
   "metadata": {},
   "outputs": [],
   "source": [
    "feature_engineering(data)"
   ]
  },
  {
   "cell_type": "code",
   "execution_count": 13,
   "metadata": {},
   "outputs": [
    {
     "data": {
      "text/plain": [
       "ID                                    0\n",
       "axonal_coor_x                         0\n",
       "axonal_coor_y                         0\n",
       "axonal_coor_z                         0\n",
       "dendritic_coor_x                      0\n",
       "dendritic_coor_y                      0\n",
       "dendritic_coor_z                      0\n",
       "adp_dist                              0\n",
       "post_skeletal_distance_to_soma        0\n",
       "pre_skeletal_distance_to_soma         0\n",
       "pre_oracle                            0\n",
       "pre_test_score                        0\n",
       "pre_rf_x                              0\n",
       "pre_rf_y                              0\n",
       "post_oracle                           0\n",
       "post_test_score                       0\n",
       "post_rf_x                             0\n",
       "post_rf_y                             0\n",
       "compartment                           0\n",
       "pre_brain_area                        0\n",
       "post_brain_area                       0\n",
       "pre_nucleus_x                         0\n",
       "pre_nucleus_y                         0\n",
       "pre_nucleus_z                         0\n",
       "post_nucleus_x                        0\n",
       "post_nucleus_y                        0\n",
       "post_nucleus_z                        0\n",
       "pre_nucleus_id                        0\n",
       "post_nucleus_id                       0\n",
       "connected                             0\n",
       "pre_feature_weights                   0\n",
       "post_feature_weights                  0\n",
       "pre_morph_embeddings              47709\n",
       "post_morph_embeddings                 0\n",
       "fw_similarity                         0\n",
       "me_similarity                     47709\n",
       "log_adp_dist                          0\n",
       "oracle_sq                             0\n",
       "test_score_sq                         0\n",
       "projection_group                      0\n",
       "dtype: int64"
      ]
     },
     "execution_count": 13,
     "metadata": {},
     "output_type": "execute_result"
    }
   ],
   "source": [
    "data.isna().sum()"
   ]
  },
  {
   "cell_type": "code",
   "execution_count": 14,
   "metadata": {},
   "outputs": [],
   "source": [
    "numerical_features=['adp_dist', 'post_skeletal_distance_to_soma', 'pre_skeletal_distance_to_soma',\n",
    "       'fw_similarity', 'me_similarity', 'pre_oracle', 'post_oracle', 'pre_test_score', 'post_test_score']\n",
    "\n",
    "categorical_features = ['compartment', 'projection_group']\n",
    "\n",
    "features = numerical_features + categorical_features\n",
    "\n",
    "target = ['connected']"
   ]
  },
  {
   "cell_type": "code",
   "execution_count": 15,
   "metadata": {},
   "outputs": [
    {
     "name": "stdout",
     "output_type": "stream",
     "text": [
      "<class 'pandas.core.frame.DataFrame'>\n",
      "Int64Index: 185832 entries, 0 to 185831\n",
      "Data columns (total 11 columns):\n",
      " #   Column                          Non-Null Count   Dtype  \n",
      "---  ------                          --------------   -----  \n",
      " 0   adp_dist                        185832 non-null  float64\n",
      " 1   post_skeletal_distance_to_soma  185832 non-null  float64\n",
      " 2   pre_skeletal_distance_to_soma   185832 non-null  float64\n",
      " 3   fw_similarity                   185832 non-null  float64\n",
      " 4   me_similarity                   138123 non-null  float64\n",
      " 5   pre_oracle                      185832 non-null  float64\n",
      " 6   post_oracle                     185832 non-null  float64\n",
      " 7   pre_test_score                  185832 non-null  float64\n",
      " 8   post_test_score                 185832 non-null  float64\n",
      " 9   compartment                     185832 non-null  object \n",
      " 10  projection_group                185832 non-null  object \n",
      "dtypes: float64(9), object(2)\n",
      "memory usage: 17.0+ MB\n"
     ]
    }
   ],
   "source": [
    "data[features].info()"
   ]
  },
  {
   "cell_type": "code",
   "execution_count": 16,
   "metadata": {},
   "outputs": [
    {
     "data": {
      "image/png": "[encoded data removed]",
      "text/plain": [
       "<Figure size 640x480 with 2 Axes>"
      ]
     },
     "metadata": {},
     "output_type": "display_data"
    }
   ],
   "source": [
    "sns.heatmap(data[features].corr(), annot=True)\n",
    "plt.show()"
   ]
  },
  {
   "cell_type": "markdown",
   "metadata": {},
   "source": [
    "Either impute values or remove column "
   ]
  },
  {
   "cell_type": "code",
   "execution_count": 17,
   "metadata": {},
   "outputs": [],
   "source": [
    "# split data\n",
    "X_data = data[features]\n",
    "y_data = data[target]\n",
    "\n",
    "#Get Training Set\n",
    "X_train, X_temp, y_train, y_temp = train_test_split(X_data, y_data, test_size=0.3, random_state=42)\n",
    "\n",
    "# Second, split the temporary set into validation and test sets\n",
    "X_valid, X_test, y_valid, y_test = train_test_split(X_temp, y_temp, test_size=0.5, random_state=42)\n",
    "\n",
    "# Combine training and validation sets for tuned model training\n",
    "X_train_combined = pd.concat([X_train, X_valid], axis=0)\n",
    "y_train_combined = pd.concat([y_train, y_valid], axis=0)"
   ]
  },
  {
   "cell_type": "code",
   "execution_count": 18,
   "metadata": {},
   "outputs": [],
   "source": [
    "def impute_missing(df, target_column,regressor, categorical_encoder):\n",
    "   \n",
    "    # Split the data into features and target\n",
    "    X = df.drop(columns=[target_column])\n",
    "    y = df[target_column]\n",
    "\n",
    "    # Identify missing values in the target column\n",
    "    missing_mask = y.isnull()\n",
    "\n",
    "\n",
    "    numerical_features_copy  = numerical_features.copy()\n",
    "    numerical_features_copy.remove(target_column)\n",
    "    # Define the column transformer for preprocessing\n",
    "    preprocessor = ColumnTransformer(\n",
    "        transformers=[\n",
    "            ('num', MinMaxScaler(), numerical_features_copy),  # Apply MinMaxScaler to numerical features\n",
    "            ('cat', categorical_encoder, categorical_features)    # Apply OneHotEncoder to categorical features\n",
    "        ])\n",
    "\n",
    "    # Create the pipeline with RandomForestRegressor for imputation\n",
    "    pipeline = Pipeline([\n",
    "        ('preprocessor', preprocessor),\n",
    "        ('regressor', regressor)\n",
    "    ])\n",
    "\n",
    "    # Fit the pipeline on the observed values\n",
    "    pipeline.fit(X[~missing_mask], y[~missing_mask])\n",
    "\n",
    "    # Predict missing values\n",
    "    y_imputed = y.copy()\n",
    "    y_imputed[missing_mask] = pipeline.predict(X[missing_mask])\n",
    "\n",
    "    # Create a new DataFrame with imputed values\n",
    "    df_imputed = df.copy()\n",
    "    df_imputed[target_column] = y_imputed\n",
    "\n",
    "    return df_imputed"
   ]
  },
  {
   "cell_type": "code",
   "execution_count": 71,
   "metadata": {},
   "outputs": [],
   "source": [
    "#delete me_similarity column\n",
    "X_train_nme = X_train.drop(columns=['me_similarity'], inplace = False)\n",
    "X_valid_nme = X_valid.drop(columns=['me_similarity'], inplace = False)\n",
    "X_test_nme = X_test.drop(columns=['me_similarity'], inplace = False)"
   ]
  },
  {
   "cell_type": "code",
   "execution_count": 19,
   "metadata": {},
   "outputs": [],
   "source": [
    "#Linear regression imputation\n",
    "\n",
    "X_data_lr =  impute_missing(X_data, 'me_similarity', LinearRegression(), OneHotEncoder())\n",
    "\n",
    "X_train_lr = impute_missing(X_train, 'me_similarity', LinearRegression(), OneHotEncoder())\n",
    "X_valid_lr = impute_missing(X_valid, 'me_similarity', LinearRegression(), OneHotEncoder())\n",
    "X_test_lr = impute_missing(X_test, 'me_similarity', LinearRegression(),  OneHotEncoder())\n",
    "\n",
    "X_train_combined_lr = impute_missing(X_train_combined, 'me_similarity', LinearRegression(), OneHotEncoder())"
   ]
  },
  {
   "cell_type": "code",
   "execution_count": 57,
   "metadata": {},
   "outputs": [],
   "source": [
    "#RandomForest regression imputation \n",
    "X_train_rf = impute_missing(X_train, 'me_similarity', RandomForestRegressor(random_state=42, n_estimators= 100, max_depth= 5),TargetEncoder())\n",
    "X_valid_rf = impute_missing(X_valid, 'me_similarity', RandomForestRegressor(random_state=42, n_estimators= 100, max_depth= 5),TargetEncoder())\n",
    "X_test_rf = impute_missing(X_test, 'me_similarity', RandomForestRegressor(random_state=42, n_estimators= 100, max_depth= 5),TargetEncoder())\n",
    "\n",
    "X_train_combined_rf = impute_missing(X_train_combined, 'me_similarity', RandomForestRegressor(random_state=42, n_estimators= 500, max_depth= 5),TargetEncoder())\n"
   ]
  },
  {
   "cell_type": "markdown",
   "metadata": {},
   "source": [
    "# LASSO for Feature Selection "
   ]
  },
  {
   "cell_type": "code",
   "execution_count": 20,
   "metadata": {},
   "outputs": [
    {
     "name": "stdout",
     "output_type": "stream",
     "text": [
      "0.765\n"
     ]
    }
   ],
   "source": [
    "# Lasso with OneHotEncoding and me_similarity linear regression imputation\n",
    "\n",
    "\n",
    "# Define the column transformer for preprocessing\n",
    "preprocessor = ColumnTransformer(\n",
    "    transformers=[\n",
    "        ('num', MinMaxScaler(), numerical_features),\n",
    "        ('cat', OneHotEncoder(), categorical_features)\n",
    "    ])\n",
    "\n",
    "X_pre = preprocessor.fit_transform(X_train_lr)\n",
    "\n",
    "#Oversample\n",
    "oversampler = RandomOverSampler(random_state=42)\n",
    "X_train_resampled, y_train_resampled = oversampler.fit_resample(X_pre, y_train)\n",
    "   \n",
    "# Define the pipeline with preprocessing, oversampling, and logistic regression\n",
    "lasso = LogisticRegression(random_state=42, penalty='l1', solver='saga')\n",
    "\n",
    "\n",
    "lasso.fit(X_train_resampled, y_train_resampled)\n",
    "y_pred = lasso.predict_proba(preprocessor.transform(X_valid_lr))[:, 1]\n",
    "\n",
    "print(round(balanced_accuracy_score(y_valid, y_pred > .5), 3))\n",
    "\n"
   ]
  },
  {
   "cell_type": "code",
   "execution_count": 29,
   "metadata": {},
   "outputs": [
    {
     "ename": "NameError",
     "evalue": "name 'X_train_rf' is not defined",
     "output_type": "error",
     "traceback": [
      "\u001b[1;31m---------------------------------------------------------------------------\u001b[0m",
      "\u001b[1;31mNameError\u001b[0m                                 Traceback (most recent call last)",
      "\u001b[1;32m~\\AppData\\Local\\Temp\\ipykernel_7748\\341250212.py\u001b[0m in \u001b[0;36m<module>\u001b[1;34m\u001b[0m\n\u001b[0;32m      9\u001b[0m     ])\n\u001b[0;32m     10\u001b[0m \u001b[1;33m\u001b[0m\u001b[0m\n\u001b[1;32m---> 11\u001b[1;33m \u001b[0mX_pre\u001b[0m \u001b[1;33m=\u001b[0m \u001b[0mpreprocessor\u001b[0m\u001b[1;33m.\u001b[0m\u001b[0mfit_transform\u001b[0m\u001b[1;33m(\u001b[0m\u001b[0mX_train_rf\u001b[0m\u001b[1;33m)\u001b[0m\u001b[1;33m\u001b[0m\u001b[1;33m\u001b[0m\u001b[0m\n\u001b[0m\u001b[0;32m     12\u001b[0m \u001b[1;33m\u001b[0m\u001b[0m\n\u001b[0;32m     13\u001b[0m \u001b[1;31m#Oversample\u001b[0m\u001b[1;33m\u001b[0m\u001b[1;33m\u001b[0m\u001b[0m\n",
      "\u001b[1;31mNameError\u001b[0m: name 'X_train_rf' is not defined"
     ]
    }
   ],
   "source": [
    "# Lasso with OneHotEncoding and me_similarity RandomForest Regression imputation\n",
    "\n",
    "\n",
    "# Define the column transformer for preprocessing\n",
    "preprocessor = ColumnTransformer(\n",
    "    transformers=[\n",
    "        ('num', MinMaxScaler(), numerical_features),\n",
    "        ('cat', OneHotEncoder(), categorical_features)\n",
    "    ])\n",
    "\n",
    "X_pre = preprocessor.fit_transform(X_train_rf)\n",
    "\n",
    "#Oversample\n",
    "oversampler = RandomOverSampler(random_state=42)\n",
    "X_train_resampled, y_train_resampled = oversampler.fit_resample(X_pre, y_train)\n",
    "   \n",
    "# Define the pipeline with preprocessing, oversampling, and logistic regression\n",
    "lasso = LogisticRegression(random_state=42, penalty='l1', solver='saga')\n",
    "\n",
    "\n",
    "lasso.fit(X_train_resampled, y_train_resampled)\n",
    "y_pred = lasso.predict_proba(preprocessor.transform(X_valid_rf))[:, 1]\n",
    "\n",
    "print(round(balanced_accuracy_score(y_valid, y_pred > .5), 3))\n"
   ]
  },
  {
   "cell_type": "code",
   "execution_count": 56,
   "metadata": {},
   "outputs": [
    {
     "name": "stdout",
     "output_type": "stream",
     "text": [
      "0.744\n"
     ]
    }
   ],
   "source": [
    "# Lasso with OneHotEncoding and no me_similarity\n",
    "\n",
    "# Define the column transformer for preprocessing\n",
    "numerical_features_nme = numerical_features.copy()\n",
    "numerical_features_nme.remove('me_similarity')\n",
    "\n",
    "preprocessor = ColumnTransformer(\n",
    "    transformers=[\n",
    "        ('num', MinMaxScaler(), numerical_features_nme),\n",
    "        ('cat', OneHotEncoder(), categorical_features)\n",
    "    ])\n",
    "\n",
    "\n",
    "\n",
    "X_pre = preprocessor.fit_transform(X_train_nme)\n",
    "\n",
    "#Oversample\n",
    "oversampler = RandomOverSampler(random_state=42)\n",
    "X_train_resampled, y_train_resampled = oversampler.fit_resample(X_pre, y_train)\n",
    "   \n",
    "# Define the pipeline with preprocessing, oversampling, and logistic regression\n",
    "lasso = LogisticRegression(random_state=42, penalty='l1', solver='saga')\n",
    "\n",
    "\n",
    "lasso.fit(X_train_resampled, y_train_resampled)\n",
    "y_pred = lasso.predict_proba(preprocessor.transform(X_valid_nme))[:, 1]\n",
    "\n",
    "print(round(balanced_accuracy_score(y_valid, y_pred > .5), 3))\n"
   ]
  },
  {
   "cell_type": "code",
   "execution_count": 77,
   "metadata": {},
   "outputs": [
    {
     "name": "stdout",
     "output_type": "stream",
     "text": [
      "0.758\n"
     ]
    }
   ],
   "source": [
    "# Lasso with TargetEncoding and me_similarity linear regression imputation\n",
    "\n",
    "\n",
    "# Define the column transformer for preprocessing\n",
    "preprocessor = ColumnTransformer(\n",
    "    transformers=[\n",
    "        ('num', MinMaxScaler(), numerical_features),\n",
    "        ('cat', TargetEncoder(), categorical_features)\n",
    "    ])\n",
    "\n",
    "X_pre = preprocessor.fit_transform(X_train_lr, y_train)\n",
    "\n",
    "#Oversample\n",
    "oversampler = RandomOverSampler(random_state=42)\n",
    "X_train_resampled, y_train_resampled = oversampler.fit_resample(X_pre, y_train)\n",
    "   \n",
    "# Define the pipeline with preprocessing, oversampling, and logistic regression\n",
    "lasso = LogisticRegression(random_state=42, penalty='l1', solver='saga')\n",
    "\n",
    "\n",
    "lasso.fit(X_train_resampled, y_train_resampled)\n",
    "y_pred = lasso.predict_proba(preprocessor.transform(X_valid_lr))[:, 1]\n",
    "\n",
    "print(round(balanced_accuracy_score(y_valid, y_pred > .5), 3))\n"
   ]
  },
  {
   "cell_type": "code",
   "execution_count": 76,
   "metadata": {},
   "outputs": [
    {
     "data": {
      "image/png": "[encoded data removed]",
      "text/plain": [
       "<Figure size 1000x600 with 1 Axes>"
      ]
     },
     "metadata": {},
     "output_type": "display_data"
    }
   ],
   "source": [
    "# Get feature importances (absolute values of coefficients for L1 regularization)\n",
    "feature_importances = np.abs(lasso.coef_[0])\n",
    "\n",
    "# Sort the features based on their importance\n",
    "sorted_indices = np.argsort(feature_importances)[::-1]\n",
    "sorted_feature_importances = feature_importances[sorted_indices]\n",
    "\n",
    "# Plot the feature importances\n",
    "plt.figure(figsize=(10, 6))\n",
    "plt.barh(range(X_train.shape[1]), sorted_feature_importances, align=\"center\")\n",
    "plt.yticks(range(X_train.shape[1]), np.array(X_train.columns)[sorted_indices])\n",
    "plt.xlabel(\"Feature\")\n",
    "plt.ylabel(\"Absolute Coefficient Value\")\n",
    "plt.title(\"Feature Importances from Logistic Regression (L1 Regularization)\")\n",
    "plt.show()"
   ]
  },
  {
   "cell_type": "code",
   "execution_count": 80,
   "metadata": {},
   "outputs": [
    {
     "name": "stdout",
     "output_type": "stream",
     "text": [
      "{'C': 0.15848931924611134, 'l1_ratio': 1}\n",
      "0.7797238696511701\n",
      "0.796\n"
     ]
    }
   ],
   "source": [
    "# Lasso with OneHotEncoding and me_similarity linear regression imputation\n",
    "\n",
    "\n",
    "# Define the column transformer for preprocessing\n",
    "preprocessor = ColumnTransformer(\n",
    "    transformers=[\n",
    "        ('num', MinMaxScaler(), numerical_features),\n",
    "        ('cat', OneHotEncoder(), categorical_features)\n",
    "    ])\n",
    "\n",
    "X_pre = preprocessor.fit_transform(X_train_combined_lr)\n",
    "\n",
    "#Oversample\n",
    "oversampler = RandomOverSampler(random_state=42)\n",
    "X_train_resampled, y_train_resampled = oversampler.fit_resample(X_pre, y_train_combined)\n",
    "   \n",
    "# Define the pipeline with preprocessing, oversampling, and logistic regression\n",
    " \n",
    "cv = StratifiedKFold(n_splits=5)\n",
    "param_grid = {'C': np.logspace(-2,1,6),\n",
    "              'l1_ratio': [0,0.25,0.5,0.75,1]}\n",
    "\n",
    "\n",
    "grid = GridSearchCV(LogisticRegression(random_state=42, penalty= 'elasticnet', solver = 'saga'),\n",
    "                     param_grid = param_grid, cv = cv , scoring = 'balanced_accuracy' )\n",
    "grid.fit(X_train_resampled, y_train_resampled)\n",
    "\n",
    "print(grid.best_params_)\n",
    "print(grid.best_score_)\n",
    "\n",
    "logistic = LogisticRegression(**grid.best_params_)\n",
    "\n",
    "\n",
    "logistic.fit(X_train_resampled, y_train_resampled)\n",
    "y_pred = logistic.predict_proba(preprocessor.transform(X_test_lr))[:, 1]\n",
    "\n",
    "print(round(balanced_accuracy_score(y_test, y_pred > .5), 3))\n",
    "\n"
   ]
  },
  {
   "cell_type": "code",
   "execution_count": 59,
   "metadata": {},
   "outputs": [
    {
     "name": "stdout",
     "output_type": "stream",
     "text": [
      "0.796\n"
     ]
    }
   ],
   "source": [
    "# Logistic with OneHotEncoding and me_similarity random forest imputation\n",
    "\n",
    "\n",
    "# Define the column transformer for preprocessing\n",
    "preprocessor = ColumnTransformer(\n",
    "    transformers=[\n",
    "        ('num', MinMaxScaler(), numerical_features),\n",
    "        ('cat', OneHotEncoder(), categorical_features)\n",
    "    ])\n",
    "\n",
    "X_pre = preprocessor.fit_transform(X_train_combined_lr)\n",
    "\n",
    "#Oversample\n",
    "oversampler = RandomOverSampler(random_state=42)\n",
    "X_train_resampled, y_train_resampled = oversampler.fit_resample(X_pre, y_train_combined)\n",
    "\n",
    "    \n",
    "# Logistic Regression Params from Grid Search\n",
    "lasso = LogisticRegression(random_state=42, penalty='elasticnet', solver='saga', C = 0.15848931924611134, l1_ratio=1)\n",
    "\n",
    "\n",
    "lasso.fit(X_train_resampled, y_train_resampled)\n",
    "y_pred = lasso.predict_proba(preprocessor.transform(X_test_lr))[:, 1]\n",
    "\n",
    "print(round(balanced_accuracy_score(y_test, y_pred > .5), 3))\n"
   ]
  },
  {
   "cell_type": "code",
   "execution_count": 78,
   "metadata": {},
   "outputs": [
    {
     "name": "stdout",
     "output_type": "stream",
     "text": [
      "0.799\n"
     ]
    }
   ],
   "source": [
    "# Logistic with OneHotEncoding and me_similarity linear regression imputation\n",
    "\n",
    "\n",
    "# Define the column transformer for preprocessing\n",
    "preprocessor = ColumnTransformer(\n",
    "    transformers=[\n",
    "        ('num', MinMaxScaler(), numerical_features),\n",
    "        ('cat', OneHotEncoder(), categorical_features)\n",
    "    ])\n",
    "\n",
    "X_pre = preprocessor.fit_transform(X_train_combined_lr)\n",
    "\n",
    "#Oversample\n",
    "oversampler = RandomOverSampler(random_state=42)\n",
    "X_train_resampled, y_train_resampled = oversampler.fit_resample(X_pre, y_train_combined)\n",
    "\n",
    "    \n",
    "# Logistic Regression Params from Grid Search\n",
    "lasso = LogisticRegression(random_state=42, penalty='elasticnet', solver='saga', C = 0.01, l1_ratio=0.5)\n",
    "\n",
    "\n",
    "lasso.fit(X_train_resampled, y_train_resampled)\n",
    "y_pred = lasso.predict_proba(preprocessor.transform(X_test_lr))[:, 1]\n",
    "\n",
    "print(round(balanced_accuracy_score(y_test, y_pred > .5), 3))\n"
   ]
  },
  {
   "cell_type": "code",
   "execution_count": 58,
   "metadata": {},
   "outputs": [
    {
     "name": "stdout",
     "output_type": "stream",
     "text": [
      "0.799\n"
     ]
    }
   ],
   "source": [
    "# Logistic with OneHotEncoding and me_similarity linear regression imputation\n",
    "\n",
    "\n",
    "# Define the column transformer for preprocessing\n",
    "preprocessor = ColumnTransformer(\n",
    "    transformers=[\n",
    "        ('num', MinMaxScaler(), numerical_features),\n",
    "        ('cat', OneHotEncoder(), categorical_features)\n",
    "    ])\n",
    "\n",
    "X_pre = preprocessor.fit_transform(X_train_combined_lr)\n",
    "\n",
    "#Oversample\n",
    "oversampler = RandomOverSampler(random_state=42)\n",
    "X_train_resampled, y_train_resampled = oversampler.fit_resample(X_pre, y_train_combined)\n",
    "\n",
    "    \n",
    "# Logistic Regression Params from Grid Search\n",
    "lasso = LogisticRegression(random_state=42, penalty='elasticnet', solver='saga', C = 0.01, l1_ratio=0.5)\n",
    "\n",
    "\n",
    "lasso.fit(X_train_resampled, y_train_resampled)\n",
    "y_pred = lasso.predict_proba(preprocessor.transform(X_test_lr))[:, 1]\n",
    "\n",
    "print(round(balanced_accuracy_score(y_test, y_pred > .5), 3))"
   ]
  },
  {
   "cell_type": "code",
   "execution_count": null,
   "metadata": {},
   "outputs": [
    {
     "name": "stdout",
     "output_type": "stream",
     "text": [
      "0.784\n"
     ]
    }
   ],
   "source": [
    "# Lasso with Target and me_similarity random forest imputation\n",
    "\n",
    "\n",
    "# Define the column transformer for preprocessing\n",
    "preprocessor = ColumnTransformer(\n",
    "    transformers=[\n",
    "        ('num', MinMaxScaler(), numerical_features),\n",
    "        ('cat', TargetEncoder(), categorical_features)\n",
    "    ])\n",
    "\n",
    "X_pre = preprocessor.fit_transform(X_train_combined_rf, y_train_combined)\n",
    "\n",
    "#Oversample\n",
    "oversampler = RandomOverSampler(random_state=42)\n",
    "X_train_resampled, y_train_resampled = oversampler.fit_resample(X_pre, y_train_combined)\n",
    "\n",
    "    \n",
    "# Define the pipeline with preprocessing, oversampling, and logistic regression\n",
    "lasso = LogisticRegression(random_state=42, penalty='l1', solver='saga')\n",
    "\n",
    "\n",
    "lasso.fit(X_train_resampled, y_train_resampled)\n",
    "y_pred = lasso.predict_proba(preprocessor.transform(X_test_rf))[:, 1]\n",
    "\n",
    "print(round(balanced_accuracy_score(y_test, y_pred > .5), 3))"
   ]
  },
  {
   "cell_type": "code",
   "execution_count": null,
   "metadata": {},
   "outputs": [
    {
     "data": {
      "image/png": "[encoded data removed]",
      "text/plain": [
       "<Figure size 1000x600 with 1 Axes>"
      ]
     },
     "metadata": {},
     "output_type": "display_data"
    }
   ],
   "source": [
    "# Get feature importances (absolute values of coefficients for L1 regularization)\n",
    "feature_importances = np.abs(lasso.coef_[0])\n",
    "\n",
    "# Sort the features based on their importance\n",
    "sorted_indices = np.argsort(feature_importances)[::-1]\n",
    "sorted_feature_importances = feature_importances[sorted_indices]\n",
    "\n",
    "# Plot the feature importances\n",
    "plt.figure(figsize=(10, 6))\n",
    "plt.barh(range(X_train.shape[1]), sorted_feature_importances, align=\"center\")\n",
    "plt.yticks(range(X_train.shape[1]), np.array(X_train.columns)[sorted_indices])\n",
    "plt.xlabel(\"Feature\")\n",
    "plt.ylabel(\"Absolute Coefficient Value\")\n",
    "plt.title(\"Feature Importances from Logistic Regression (L1 Regularization)\")\n",
    "plt.show()"
   ]
  },
  {
   "cell_type": "code",
   "execution_count": null,
   "metadata": {},
   "outputs": [],
   "source": []
  },
  {
   "cell_type": "markdown",
   "metadata": {},
   "source": [
    "# Random Forest for Feature Selection"
   ]
  },
  {
   "cell_type": "code",
   "execution_count": null,
   "metadata": {},
   "outputs": [],
   "source": [
    "#   Random Forest with me_similarity imputation"
   ]
  },
  {
   "cell_type": "code",
   "execution_count": 82,
   "metadata": {},
   "outputs": [],
   "source": [
    "def plot_feature_importance(model, feature_names, title=\"Feature Importance\", rotation=45):\n",
    "  \n",
    "    feature_importance = model.feature_importances_\n",
    "    sorted_idx = np.argsort(feature_importance)\n",
    "\n",
    "    plt.figure(figsize=(10, 6))\n",
    "    plt.barh(range(len(sorted_idx)), feature_importance[sorted_idx], align=\"center\")\n",
    "    plt.yticks(range(len(sorted_idx)), np.array(feature_names)[sorted_idx])\n",
    "    plt.xlabel(\"Feature Importance\")\n",
    "    plt.title(title)\n",
    "    plt.xticks(rotation=rotation)\n",
    "    plt.show()"
   ]
  },
  {
   "cell_type": "code",
   "execution_count": 84,
   "metadata": {},
   "outputs": [
    {
     "name": "stdout",
     "output_type": "stream",
     "text": [
      "0.487\n"
     ]
    }
   ],
   "source": [
    "# RandomForest with Target and me_similarity linear regression imputation\n",
    "\n",
    "# Define the column transformer for preprocessing\n",
    "preprocessor = ColumnTransformer(\n",
    "    transformers=[\n",
    "        ('num', MinMaxScaler(), numerical_features),\n",
    "        ('cat', TargetEncoder(), categorical_features)\n",
    "    ])\n",
    "\n",
    "X_pre = preprocessor.fit_transform(X_train_lr, y_train)\n",
    "\n",
    "oversampler = RandomOverSampler(random_state=42)\n",
    "X_train_resampled, y_train_resampled = oversampler.fit_resample(X_pre, y_train)\n",
    "\n",
    "\n",
    "    \n",
    "# Define the pipeline with preprocessing, oversampling, and logistic regression\n",
    "model = RandomForestClassifier(random_state=42, n_estimators= 500, max_depth= 3)\n",
    "\n",
    "\n",
    "model.fit(X_train_resampled, y_train_resampled)\n",
    "y_pred = model.predict_proba(preprocessor.transform(X_valid_lr))[:, 1]\n",
    "\n",
    "print(round(balanced_accuracy_score(y_test, y_pred > .5), 3))"
   ]
  },
  {
   "cell_type": "code",
   "execution_count": null,
   "metadata": {},
   "outputs": [
    {
     "data": {
      "image/png": "[encoded data removed]",
      "text/plain": [
       "<Figure size 1000x600 with 1 Axes>"
      ]
     },
     "metadata": {},
     "output_type": "display_data"
    }
   ],
   "source": [
    "plot_feature_importance(model, features, title=\"Feature Importance\", rotation=45)"
   ]
  },
  {
   "cell_type": "code",
   "execution_count": null,
   "metadata": {},
   "outputs": [
    {
     "name": "stdout",
     "output_type": "stream",
     "text": [
      "0.787\n"
     ]
    }
   ],
   "source": [
    "# RandomForest with Target and me_similarity linear regression imputation\n",
    "\n",
    "# Define the column transformer for preprocessing\n",
    "preprocessor = ColumnTransformer(\n",
    "    transformers=[\n",
    "        ('num', MinMaxScaler(), numerical_features),\n",
    "        ('cat', OneHotEncoder(), categorical_features)\n",
    "    ])\n",
    "\n",
    "X_pre = preprocessor.fit_transform(X_train_lr)\n",
    "\n",
    "oversampler = RandomOverSampler(random_state=42)\n",
    "X_train_resampled, y_train_resampled = oversampler.fit_resample(X_pre, y_train)\n",
    "\n",
    "\n",
    "model = RandomForestClassifier(random_state=42, n_estimators= 500, max_depth= 10)\n",
    "\n",
    "\n",
    "model.fit(X_train_resampled, y_train_resampled)\n",
    "y_pred = model.predict_proba(preprocessor.transform(X_test_lr))[:, 1]\n",
    "\n",
    "print(round(balanced_accuracy_score(y_test, y_pred > .5), 3))"
   ]
  },
  {
   "cell_type": "code",
   "execution_count": null,
   "metadata": {},
   "outputs": [
    {
     "name": "stdout",
     "output_type": "stream",
     "text": [
      "0.72\n"
     ]
    }
   ],
   "source": [
    "#RandomForest without Encoding\n",
    "# Define the column transformer for preprocessing\n",
    "preprocessor = ColumnTransformer(\n",
    "    transformers=[\n",
    "        ('num', MinMaxScaler(), numerical_features),\n",
    "    ])\n",
    "\n",
    "X_pre = preprocessor.fit_transform(X_train_lr)\n",
    "\n",
    "oversampler = RandomOverSampler(random_state=42)\n",
    "X_train_resampled, y_train_resampled = oversampler.fit_resample(X_pre, y_train)\n",
    "\n",
    "\n",
    "    \n",
    "# Define the pipeline with preprocessing, oversampling, and logistic regression\n",
    "model = RandomForestClassifier(random_state=42, n_estimators= 500, max_depth= 10)\n",
    "\n",
    "\n",
    "model.fit(X_train_resampled, y_train_resampled)\n",
    "y_pred = model.predict_proba(preprocessor.transform(X_test_lr))[:, 1]\n",
    "\n",
    "print(round(balanced_accuracy_score(y_test, y_pred > .5), 3))"
   ]
  },
  {
   "cell_type": "code",
   "execution_count": null,
   "metadata": {},
   "outputs": [
    {
     "data": {
      "image/png": "[encoded data removed]",
      "text/plain": [
       "<Figure size 1000x600 with 1 Axes>"
      ]
     },
     "metadata": {},
     "output_type": "display_data"
    }
   ],
   "source": [
    "plot_feature_importance(model, features, title=\"Feature Importance\", rotation=45)"
   ]
  },
  {
   "cell_type": "markdown",
   "metadata": {},
   "source": [
    "# Tuning Random Forest"
   ]
  },
  {
   "cell_type": "markdown",
   "metadata": {},
   "source": [
    "## RandomOversample"
   ]
  },
  {
   "cell_type": "code",
   "execution_count": 85,
   "metadata": {},
   "outputs": [
    {
     "name": "stdout",
     "output_type": "stream",
     "text": [
      "{'max_depth': None, 'n_estimators': 100}\n",
      "0.999802308526242\n",
      "0.502\n"
     ]
    }
   ],
   "source": [
    "# Random Forest with OneHotEncoding and me_similarity linear regression imputation\n",
    "\n",
    "# Define the column transformer for preprocessing\n",
    "preprocessor = ColumnTransformer(\n",
    "    transformers=[\n",
    "        ('num', MinMaxScaler(), numerical_features),\n",
    "        ('cat', OneHotEncoder(), categorical_features)\n",
    "    ])\n",
    "\n",
    "#combined data set as validation is done automatically\n",
    "X_pre = preprocessor.fit_transform(X_train_combined_lr)\n",
    "\n",
    "#Oversample\n",
    "oversampler = RandomOverSampler(random_state=42)\n",
    "X_train_resampled, y_train_resampled = oversampler.fit_resample(X_pre, y_train_combined)\n",
    "   \n",
    "# Define the pipeline with preprocessing, oversampling, and logistic regression\n",
    " \n",
    "cv = StratifiedKFold(n_splits=5)\n",
    "param_grid = {'n_estimators': [100, 300, 500],\n",
    "              'max_depth': [5,10,20,None],\n",
    "              }\n",
    "\n",
    "\n",
    "grid = GridSearchCV(RandomForestClassifier(n_jobs = -1),\n",
    "                     param_grid = param_grid, cv = cv, scoring = 'balanced_accuracy' )\n",
    "grid.fit(X_train_resampled, y_train_resampled)\n",
    "\n",
    "print(grid.best_params_)\n",
    "print(grid.best_score_)\n",
    "\n",
    "rf = RandomForestClassifier(**grid.best_params_)\n",
    "\n",
    "\n",
    "rf.fit(X_train_resampled, y_train_resampled)\n",
    "y_pred = rf.predict_proba(preprocessor.transform(X_test_lr))[:, 1]\n",
    "\n",
    "print(round(balanced_accuracy_score(y_test, y_pred > .5), 3))\n"
   ]
  },
  {
   "cell_type": "code",
   "execution_count": 88,
   "metadata": {},
   "outputs": [
    {
     "data": {
      "text/html": [
       "<div>\n",
       "<style scoped>\n",
       "    .dataframe tbody tr th:only-of-type {\n",
       "        vertical-align: middle;\n",
       "    }\n",
       "\n",
       "    .dataframe tbody tr th {\n",
       "        vertical-align: top;\n",
       "    }\n",
       "\n",
       "    .dataframe thead th {\n",
       "        text-align: right;\n",
       "    }\n",
       "</style>\n",
       "<table border=\"1\" class=\"dataframe\">\n",
       "  <thead>\n",
       "    <tr style=\"text-align: right;\">\n",
       "      <th></th>\n",
       "      <th>mean_fit_time</th>\n",
       "      <th>std_fit_time</th>\n",
       "      <th>mean_score_time</th>\n",
       "      <th>std_score_time</th>\n",
       "      <th>param_max_depth</th>\n",
       "      <th>param_n_estimators</th>\n",
       "      <th>params</th>\n",
       "      <th>split0_test_score</th>\n",
       "      <th>split1_test_score</th>\n",
       "      <th>split2_test_score</th>\n",
       "      <th>split3_test_score</th>\n",
       "      <th>split4_test_score</th>\n",
       "      <th>mean_test_score</th>\n",
       "      <th>std_test_score</th>\n",
       "      <th>rank_test_score</th>\n",
       "    </tr>\n",
       "  </thead>\n",
       "  <tbody>\n",
       "    <tr>\n",
       "      <th>9</th>\n",
       "      <td>22.375546</td>\n",
       "      <td>0.737293</td>\n",
       "      <td>0.357253</td>\n",
       "      <td>0.048401</td>\n",
       "      <td>None</td>\n",
       "      <td>100</td>\n",
       "      <td>{'max_depth': None, 'n_estimators': 100}</td>\n",
       "      <td>0.999793</td>\n",
       "      <td>0.999825</td>\n",
       "      <td>0.999745</td>\n",
       "      <td>0.999857</td>\n",
       "      <td>0.999793</td>\n",
       "      <td>0.999802</td>\n",
       "      <td>0.000037</td>\n",
       "      <td>1</td>\n",
       "    </tr>\n",
       "    <tr>\n",
       "      <th>11</th>\n",
       "      <td>104.204622</td>\n",
       "      <td>2.437480</td>\n",
       "      <td>1.809677</td>\n",
       "      <td>0.091835</td>\n",
       "      <td>None</td>\n",
       "      <td>500</td>\n",
       "      <td>{'max_depth': None, 'n_estimators': 500}</td>\n",
       "      <td>0.999777</td>\n",
       "      <td>0.999809</td>\n",
       "      <td>0.999729</td>\n",
       "      <td>0.999809</td>\n",
       "      <td>0.999857</td>\n",
       "      <td>0.999796</td>\n",
       "      <td>0.000042</td>\n",
       "      <td>2</td>\n",
       "    </tr>\n",
       "    <tr>\n",
       "      <th>10</th>\n",
       "      <td>63.500313</td>\n",
       "      <td>2.890248</td>\n",
       "      <td>0.996726</td>\n",
       "      <td>0.089504</td>\n",
       "      <td>None</td>\n",
       "      <td>300</td>\n",
       "      <td>{'max_depth': None, 'n_estimators': 300}</td>\n",
       "      <td>0.999793</td>\n",
       "      <td>0.999793</td>\n",
       "      <td>0.999729</td>\n",
       "      <td>0.999793</td>\n",
       "      <td>0.999841</td>\n",
       "      <td>0.999790</td>\n",
       "      <td>0.000036</td>\n",
       "      <td>3</td>\n",
       "    </tr>\n",
       "    <tr>\n",
       "      <th>8</th>\n",
       "      <td>96.894693</td>\n",
       "      <td>1.370506</td>\n",
       "      <td>1.426977</td>\n",
       "      <td>0.172244</td>\n",
       "      <td>20</td>\n",
       "      <td>500</td>\n",
       "      <td>{'max_depth': 20, 'n_estimators': 500}</td>\n",
       "      <td>0.972291</td>\n",
       "      <td>0.971670</td>\n",
       "      <td>0.973104</td>\n",
       "      <td>0.971670</td>\n",
       "      <td>0.972690</td>\n",
       "      <td>0.972285</td>\n",
       "      <td>0.000564</td>\n",
       "      <td>4</td>\n",
       "    </tr>\n",
       "    <tr>\n",
       "      <th>7</th>\n",
       "      <td>58.049039</td>\n",
       "      <td>1.615072</td>\n",
       "      <td>0.788124</td>\n",
       "      <td>0.041546</td>\n",
       "      <td>20</td>\n",
       "      <td>300</td>\n",
       "      <td>{'max_depth': 20, 'n_estimators': 300}</td>\n",
       "      <td>0.972881</td>\n",
       "      <td>0.970856</td>\n",
       "      <td>0.971462</td>\n",
       "      <td>0.970474</td>\n",
       "      <td>0.970314</td>\n",
       "      <td>0.971198</td>\n",
       "      <td>0.000930</td>\n",
       "      <td>5</td>\n",
       "    </tr>\n",
       "    <tr>\n",
       "      <th>6</th>\n",
       "      <td>20.319210</td>\n",
       "      <td>0.968625</td>\n",
       "      <td>0.291766</td>\n",
       "      <td>0.054930</td>\n",
       "      <td>20</td>\n",
       "      <td>100</td>\n",
       "      <td>{'max_depth': 20, 'n_estimators': 100}</td>\n",
       "      <td>0.969597</td>\n",
       "      <td>0.971112</td>\n",
       "      <td>0.970378</td>\n",
       "      <td>0.970665</td>\n",
       "      <td>0.973455</td>\n",
       "      <td>0.971041</td>\n",
       "      <td>0.001304</td>\n",
       "      <td>6</td>\n",
       "    </tr>\n",
       "    <tr>\n",
       "      <th>5</th>\n",
       "      <td>73.604393</td>\n",
       "      <td>1.266247</td>\n",
       "      <td>0.921321</td>\n",
       "      <td>0.038400</td>\n",
       "      <td>10</td>\n",
       "      <td>500</td>\n",
       "      <td>{'max_depth': 10, 'n_estimators': 500}</td>\n",
       "      <td>0.850918</td>\n",
       "      <td>0.854872</td>\n",
       "      <td>0.852337</td>\n",
       "      <td>0.849691</td>\n",
       "      <td>0.852911</td>\n",
       "      <td>0.852146</td>\n",
       "      <td>0.001766</td>\n",
       "      <td>7</td>\n",
       "    </tr>\n",
       "    <tr>\n",
       "      <th>4</th>\n",
       "      <td>45.182033</td>\n",
       "      <td>1.760654</td>\n",
       "      <td>0.551642</td>\n",
       "      <td>0.038694</td>\n",
       "      <td>10</td>\n",
       "      <td>300</td>\n",
       "      <td>{'max_depth': 10, 'n_estimators': 300}</td>\n",
       "      <td>0.852050</td>\n",
       "      <td>0.855685</td>\n",
       "      <td>0.851189</td>\n",
       "      <td>0.849037</td>\n",
       "      <td>0.851253</td>\n",
       "      <td>0.851843</td>\n",
       "      <td>0.002166</td>\n",
       "      <td>8</td>\n",
       "    </tr>\n",
       "    <tr>\n",
       "      <th>3</th>\n",
       "      <td>15.200356</td>\n",
       "      <td>0.288550</td>\n",
       "      <td>0.189552</td>\n",
       "      <td>0.012913</td>\n",
       "      <td>10</td>\n",
       "      <td>100</td>\n",
       "      <td>{'max_depth': 10, 'n_estimators': 100}</td>\n",
       "      <td>0.847857</td>\n",
       "      <td>0.855000</td>\n",
       "      <td>0.850839</td>\n",
       "      <td>0.849436</td>\n",
       "      <td>0.847730</td>\n",
       "      <td>0.850172</td>\n",
       "      <td>0.002669</td>\n",
       "      <td>9</td>\n",
       "    </tr>\n",
       "    <tr>\n",
       "      <th>1</th>\n",
       "      <td>28.662047</td>\n",
       "      <td>1.973316</td>\n",
       "      <td>0.500215</td>\n",
       "      <td>0.062170</td>\n",
       "      <td>5</td>\n",
       "      <td>300</td>\n",
       "      <td>{'max_depth': 5, 'n_estimators': 300}</td>\n",
       "      <td>0.791627</td>\n",
       "      <td>0.789825</td>\n",
       "      <td>0.790367</td>\n",
       "      <td>0.787625</td>\n",
       "      <td>0.786716</td>\n",
       "      <td>0.789232</td>\n",
       "      <td>0.001805</td>\n",
       "      <td>10</td>\n",
       "    </tr>\n",
       "    <tr>\n",
       "      <th>2</th>\n",
       "      <td>49.193988</td>\n",
       "      <td>2.647089</td>\n",
       "      <td>0.834660</td>\n",
       "      <td>0.077403</td>\n",
       "      <td>5</td>\n",
       "      <td>500</td>\n",
       "      <td>{'max_depth': 5, 'n_estimators': 500}</td>\n",
       "      <td>0.789985</td>\n",
       "      <td>0.788964</td>\n",
       "      <td>0.790798</td>\n",
       "      <td>0.785505</td>\n",
       "      <td>0.787561</td>\n",
       "      <td>0.788563</td>\n",
       "      <td>0.001873</td>\n",
       "      <td>11</td>\n",
       "    </tr>\n",
       "    <tr>\n",
       "      <th>0</th>\n",
       "      <td>13.865507</td>\n",
       "      <td>2.146593</td>\n",
       "      <td>0.212035</td>\n",
       "      <td>0.031208</td>\n",
       "      <td>5</td>\n",
       "      <td>100</td>\n",
       "      <td>{'max_depth': 5, 'n_estimators': 100}</td>\n",
       "      <td>0.789538</td>\n",
       "      <td>0.789188</td>\n",
       "      <td>0.790670</td>\n",
       "      <td>0.780722</td>\n",
       "      <td>0.784963</td>\n",
       "      <td>0.787016</td>\n",
       "      <td>0.003695</td>\n",
       "      <td>12</td>\n",
       "    </tr>\n",
       "  </tbody>\n",
       "</table>\n",
       "</div>"
      ],
      "text/plain": [
       "    mean_fit_time  std_fit_time  mean_score_time  std_score_time  \\\n",
       "9       22.375546      0.737293         0.357253        0.048401   \n",
       "11     104.204622      2.437480         1.809677        0.091835   \n",
       "10      63.500313      2.890248         0.996726        0.089504   \n",
       "8       96.894693      1.370506         1.426977        0.172244   \n",
       "7       58.049039      1.615072         0.788124        0.041546   \n",
       "6       20.319210      0.968625         0.291766        0.054930   \n",
       "5       73.604393      1.266247         0.921321        0.038400   \n",
       "4       45.182033      1.760654         0.551642        0.038694   \n",
       "3       15.200356      0.288550         0.189552        0.012913   \n",
       "1       28.662047      1.973316         0.500215        0.062170   \n",
       "2       49.193988      2.647089         0.834660        0.077403   \n",
       "0       13.865507      2.146593         0.212035        0.031208   \n",
       "\n",
       "   param_max_depth param_n_estimators  \\\n",
       "9             None                100   \n",
       "11            None                500   \n",
       "10            None                300   \n",
       "8               20                500   \n",
       "7               20                300   \n",
       "6               20                100   \n",
       "5               10                500   \n",
       "4               10                300   \n",
       "3               10                100   \n",
       "1                5                300   \n",
       "2                5                500   \n",
       "0                5                100   \n",
       "\n",
       "                                      params  split0_test_score  \\\n",
       "9   {'max_depth': None, 'n_estimators': 100}           0.999793   \n",
       "11  {'max_depth': None, 'n_estimators': 500}           0.999777   \n",
       "10  {'max_depth': None, 'n_estimators': 300}           0.999793   \n",
       "8     {'max_depth': 20, 'n_estimators': 500}           0.972291   \n",
       "7     {'max_depth': 20, 'n_estimators': 300}           0.972881   \n",
       "6     {'max_depth': 20, 'n_estimators': 100}           0.969597   \n",
       "5     {'max_depth': 10, 'n_estimators': 500}           0.850918   \n",
       "4     {'max_depth': 10, 'n_estimators': 300}           0.852050   \n",
       "3     {'max_depth': 10, 'n_estimators': 100}           0.847857   \n",
       "1      {'max_depth': 5, 'n_estimators': 300}           0.791627   \n",
       "2      {'max_depth': 5, 'n_estimators': 500}           0.789985   \n",
       "0      {'max_depth': 5, 'n_estimators': 100}           0.789538   \n",
       "\n",
       "    split1_test_score  split2_test_score  split3_test_score  \\\n",
       "9            0.999825           0.999745           0.999857   \n",
       "11           0.999809           0.999729           0.999809   \n",
       "10           0.999793           0.999729           0.999793   \n",
       "8            0.971670           0.973104           0.971670   \n",
       "7            0.970856           0.971462           0.970474   \n",
       "6            0.971112           0.970378           0.970665   \n",
       "5            0.854872           0.852337           0.849691   \n",
       "4            0.855685           0.851189           0.849037   \n",
       "3            0.855000           0.850839           0.849436   \n",
       "1            0.789825           0.790367           0.787625   \n",
       "2            0.788964           0.790798           0.785505   \n",
       "0            0.789188           0.790670           0.780722   \n",
       "\n",
       "    split4_test_score  mean_test_score  std_test_score  rank_test_score  \n",
       "9            0.999793         0.999802        0.000037                1  \n",
       "11           0.999857         0.999796        0.000042                2  \n",
       "10           0.999841         0.999790        0.000036                3  \n",
       "8            0.972690         0.972285        0.000564                4  \n",
       "7            0.970314         0.971198        0.000930                5  \n",
       "6            0.973455         0.971041        0.001304                6  \n",
       "5            0.852911         0.852146        0.001766                7  \n",
       "4            0.851253         0.851843        0.002166                8  \n",
       "3            0.847730         0.850172        0.002669                9  \n",
       "1            0.786716         0.789232        0.001805               10  \n",
       "2            0.787561         0.788563        0.001873               11  \n",
       "0            0.784963         0.787016        0.003695               12  "
      ]
     },
     "execution_count": 88,
     "metadata": {},
     "output_type": "execute_result"
    }
   ],
   "source": [
    "pd.DataFrame(grid.cv_results_).sort_values(by = 'rank_test_score')"
   ]
  },
  {
   "cell_type": "code",
   "execution_count": 96,
   "metadata": {},
   "outputs": [
    {
     "name": "stdout",
     "output_type": "stream",
     "text": [
      "0.502\n"
     ]
    }
   ],
   "source": [
    "#RandomForest without Encoding\n",
    "# Define the column transformer for preprocessing\n",
    "preprocessor = ColumnTransformer(\n",
    "    transformers=[\n",
    "        ('num', MinMaxScaler(), numerical_features),\n",
    "        ('cat', OneHotEncoder(), categorical_features)\n",
    "    ])\n",
    "\n",
    "X_pre = preprocessor.fit_transform(X_train_combined_lr)\n",
    "\n",
    "oversampler = RandomOverSampler(random_state=42)\n",
    "X_train_resampled, y_train_resampled = oversampler.fit_resample(X_pre, y_train_combined)\n",
    "\n",
    "\n",
    "    \n",
    "# Define the pipeline with preprocessing, oversampling, and logistic regression\n",
    "model = RandomForestClassifier(random_state=42, n_estimators= 100, max_depth= None, class_weight= 'balanced')\n",
    "\n",
    "\n",
    "model.fit(X_train_resampled, y_train_resampled)\n",
    "y_pred = model.predict_proba(preprocessor.transform(X_test_lr))[:, 1]\n",
    "\n",
    "print(round(balanced_accuracy_score(y_test, y_pred > .5), 3))"
   ]
  },
  {
   "cell_type": "markdown",
   "metadata": {},
   "source": [
    "## Classweight"
   ]
  },
  {
   "cell_type": "code",
   "execution_count": 102,
   "metadata": {},
   "outputs": [
    {
     "name": "stdout",
     "output_type": "stream",
     "text": [
      "0.792\n"
     ]
    }
   ],
   "source": [
    "#RandomForest without Encoding\n",
    "# Define the column transformer for preprocessing\n",
    "preprocessor = ColumnTransformer(\n",
    "    transformers=[\n",
    "        ('num', MinMaxScaler(), numerical_features),\n",
    "        ('cat', OneHotEncoder(), categorical_features)\n",
    "    ])\n",
    "\n",
    "X_pre = preprocessor.fit_transform(X_train_combined_lr)\n",
    "\n",
    "    \n",
    "# Define the pipeline with preprocessing, oversampling, and logistic regression\n",
    "model = RandomForestClassifier(random_state=42, n_estimators= 500, max_depth= 5, class_weight= 'balanced')\n",
    "\n",
    "\n",
    "model.fit(X_pre, y_train_combined)\n",
    "y_pred = model.predict_proba(preprocessor.transform(X_test_lr))[:, 1]\n",
    "\n",
    "print(round(balanced_accuracy_score(y_test, y_pred > .5), 3))"
   ]
  },
  {
   "cell_type": "code",
   "execution_count": 98,
   "metadata": {},
   "outputs": [
    {
     "name": "stdout",
     "output_type": "stream",
     "text": [
      "{'max_depth': 5, 'n_estimators': 500}\n",
      "0.779762016767107\n",
      "0.789\n"
     ]
    }
   ],
   "source": [
    "# Random Forest with OneHotEncoding and me_similarity linear regression imputation\n",
    "\n",
    "# Define the column transformer for preprocessing\n",
    "preprocessor = ColumnTransformer(\n",
    "    transformers=[\n",
    "        ('num', MinMaxScaler(), numerical_features),\n",
    "        ('cat', OneHotEncoder(), categorical_features)\n",
    "    ])\n",
    "\n",
    "#combined data set as validation is done automatically\n",
    "X_pre = preprocessor.fit_transform(X_train_combined_lr)\n",
    "\n",
    "#Oversample\n",
    "oversampler = RandomOverSampler(random_state=42)\n",
    "X_train_resampled, y_train_resampled = oversampler.fit_resample(X_pre, y_train_combined)\n",
    "   \n",
    "# Define the pipeline with preprocessing, oversampling, and logistic regression\n",
    " \n",
    "cv = StratifiedKFold(n_splits=5)\n",
    "param_grid = {'n_estimators': [100, 300, 500],\n",
    "              'max_depth': [5,10,20,None],\n",
    "              }\n",
    "\n",
    "rf = RandomForestClassifier(n_jobs = -1, class_weight= 'balanced')\n",
    "\n",
    "grid = GridSearchCV(rf, param_grid = param_grid, cv = cv, scoring = 'balanced_accuracy' )\n",
    "\n",
    "grid.fit(X_pre, y_train_combined)\n",
    "\n",
    "print(grid.best_params_)\n",
    "print(grid.best_score_)\n",
    "\n",
    "rf = RandomForestClassifier(**grid.best_params_)\n",
    "\n",
    "\n",
    "rf.fit(X_train_resampled, y_train_resampled)\n",
    "y_pred = rf.predict_proba(preprocessor.transform(X_test_lr))[:, 1]\n",
    "\n",
    "print(round(balanced_accuracy_score(y_test, y_pred > .5), 3))\n"
   ]
  },
  {
   "cell_type": "code",
   "execution_count": 30,
   "metadata": {},
   "outputs": [
    {
     "name": "stdout",
     "output_type": "stream",
     "text": [
      "0.792\n"
     ]
    }
   ],
   "source": [
    "#RandomForest without Encoding\n",
    "# Define the column transformer for preprocessing\n",
    "preprocessor = ColumnTransformer(\n",
    "    transformers=[\n",
    "        ('num', MinMaxScaler(), numerical_features),\n",
    "        ('cat', OneHotEncoder(), categorical_features)\n",
    "    ])\n",
    "\n",
    "X_pre = preprocessor.fit_transform(X_train_combined_lr)\n",
    "\n",
    "    \n",
    "# Define the pipeline with preprocessing, oversampling, and logistic regression\n",
    "model = RandomForestClassifier(random_state=42, n_estimators= 500, max_depth= 5, class_weight= 'balanced')\n",
    "\n",
    "\n",
    "model.fit(X_pre, y_train_combined)\n",
    "y_pred = model.predict_proba(preprocessor.transform(X_test_lr))[:, 1]\n",
    "\n",
    "print(round(balanced_accuracy_score(y_test, y_pred > .5), 3))"
   ]
  },
  {
   "cell_type": "code",
   "execution_count": 46,
   "metadata": {},
   "outputs": [
    {
     "name": "stdout",
     "output_type": "stream",
     "text": [
      "{'max_depth': 5, 'max_samples': 0.5, 'n_estimators': 300}\n",
      "0.779063279832761\n",
      "0.79\n"
     ]
    }
   ],
   "source": [
    "# Random Forest with OneHotEncoding and me_similarity linear regression imputation\n",
    "\n",
    "# Define the column transformer for preprocessing\n",
    "preprocessor = ColumnTransformer(\n",
    "    transformers=[\n",
    "        ('num', MinMaxScaler(), numerical_features),\n",
    "        ('cat', OneHotEncoder(), categorical_features)\n",
    "    ])\n",
    "\n",
    "#combined data set as validation is done automatically\n",
    "X_pre = preprocessor.fit_transform(X_train_combined_lr)\n",
    "\n",
    "#Oversample\n",
    "oversampler = RandomOverSampler(random_state=42)\n",
    "X_train_resampled, y_train_resampled = oversampler.fit_resample(X_pre, y_train_combined)\n",
    "   \n",
    "# Define the pipeline with preprocessing, oversampling, and logistic regression\n",
    " \n",
    "cv = StratifiedKFold(n_splits=5)\n",
    "param_grid = {'n_estimators': [300, 500, 1000],\n",
    "              'max_depth': [3,5,7],\n",
    "              'max_samples': [0.5, 1]\n",
    "              }\n",
    "\n",
    "rf = RandomForestClassifier(n_jobs = -1, class_weight= 'balanced')\n",
    "\n",
    "grid = GridSearchCV(rf, param_grid = param_grid, cv = cv, scoring = 'balanced_accuracy' )\n",
    "\n",
    "grid.fit(X_pre, y_train_combined)\n",
    "\n",
    "print(grid.best_params_)\n",
    "print(grid.best_score_)\n",
    "\n",
    "rf = RandomForestClassifier(**grid.best_params_)\n",
    "\n",
    "\n",
    "rf.fit(X_train_resampled, y_train_resampled)\n",
    "y_pred = rf.predict_proba(preprocessor.transform(X_test_lr))[:, 1]\n",
    "\n",
    "print(round(balanced_accuracy_score(y_test, y_pred > .5), 3))"
   ]
  },
  {
   "cell_type": "code",
   "execution_count": 32,
   "metadata": {},
   "outputs": [
    {
     "name": "stdout",
     "output_type": "stream",
     "text": [
      "0.789\n"
     ]
    }
   ],
   "source": [
    "#RandomForest without Encoding\n",
    "# Define the column transformer for preprocessing\n",
    "preprocessor = ColumnTransformer(\n",
    "    transformers=[\n",
    "        ('num', MinMaxScaler(), numerical_features),\n",
    "        ('cat', OneHotEncoder(), categorical_features)\n",
    "    ])\n",
    "\n",
    "X_pre = preprocessor.fit_transform(X_train_combined_lr)\n",
    "\n",
    "    \n",
    "# Define the pipeline with preprocessing, oversampling, and logistic regression\n",
    "model = RandomForestClassifier(random_state=42, n_estimators= 1000, max_depth= 3, class_weight= 'balanced')\n",
    "\n",
    "\n",
    "model.fit(X_pre, y_train_combined)\n",
    "y_pred = model.predict_proba(preprocessor.transform(X_test_lr))[:, 1]\n",
    "\n",
    "print(round(balanced_accuracy_score(y_test, y_pred > .5), 3))"
   ]
  },
  {
   "cell_type": "code",
   "execution_count": 52,
   "metadata": {},
   "outputs": [
    {
     "name": "stdout",
     "output_type": "stream",
     "text": [
      "0.794\n"
     ]
    }
   ],
   "source": [
    "#RandomForest without Encoding\n",
    "# Define the column transformer for preprocessing\n",
    "preprocessor = ColumnTransformer(\n",
    "    transformers=[\n",
    "        ('num', MinMaxScaler(), numerical_features),\n",
    "        ('cat', OneHotEncoder(), categorical_features)\n",
    "    ])\n",
    "\n",
    "X_pre = preprocessor.fit_transform(X_train_combined_lr)\n",
    "\n",
    "    \n",
    "# Define the pipeline with preprocessing, oversampling, and logistic regression\n",
    "model = RandomForestClassifier(random_state=42, n_estimators= 500, max_depth= 5, class_weight= 'balanced', max_samples = 0.66)\n",
    "\n",
    "\n",
    "model.fit(X_pre, y_train_combined)\n",
    "y_pred = model.predict_proba(preprocessor.transform(X_test_lr))[:, 1]\n",
    "\n",
    "print(round(balanced_accuracy_score(y_test, y_pred > .5), 3))"
   ]
  },
  {
   "cell_type": "markdown",
   "metadata": {},
   "source": [
    "# Gradient Boosting "
   ]
  },
  {
   "cell_type": "code",
   "execution_count": 76,
   "metadata": {},
   "outputs": [
    {
     "name": "stdout",
     "output_type": "stream",
     "text": [
      "0.797\n"
     ]
    }
   ],
   "source": [
    "# Gradient Boosting with Target and me_similarity linear regression imputation\n",
    "\n",
    "# Define the column transformer for preprocessing\n",
    "preprocessor = ColumnTransformer(\n",
    "    transformers=[\n",
    "        ('num', MinMaxScaler(), numerical_features),\n",
    "        ('cat', OneHotEncoder(), categorical_features)\n",
    "    ])\n",
    "\n",
    "X_pre = preprocessor.fit_transform(X_train_combined_lr, y_train_combined)\n",
    "\n",
    "oversampler = RandomOverSampler(random_state=42)\n",
    "X_train_resampled, y_train_resampled = oversampler.fit_resample(X_pre, y_train_combined)\n",
    "\n",
    "\n",
    "    \n",
    "# Define the pipeline with preprocessing, oversampling, and logistic regression\n",
    "model = GradientBoostingClassifier(random_state=42, n_estimators= 200, max_depth= 3, subsample = 0.66)\n",
    "\n",
    "\n",
    "model.fit(X_train_resampled, y_train_resampled)\n",
    "y_pred = model.predict_proba(preprocessor.transform(X_test_lr))[:, 1]\n",
    "\n",
    "print(round(balanced_accuracy_score(y_test, y_pred > .5), 3))"
   ]
  },
  {
   "cell_type": "markdown",
   "metadata": {},
   "source": [
    "# Gradient Boosting Hypertuning"
   ]
  },
  {
   "cell_type": "code",
   "execution_count": 91,
   "metadata": {},
   "outputs": [],
   "source": [
    "\n",
    "# Define the column transformer for preprocessing\n",
    "preprocessor = ColumnTransformer(\n",
    "    transformers=[\n",
    "        ('num', MinMaxScaler(), numerical_features),\n",
    "        ('cat', OneHotEncoder(), categorical_features)\n",
    "    ])\n",
    "\n",
    "X_pre = preprocessor.fit_transform(X_train_combined_lr)\n",
    "\n",
    "#Oversample\n",
    "oversampler = RandomOverSampler(random_state=42)\n",
    "X_train_resampled, y_train_resampled = oversampler.fit_resample(X_pre, y_train_combined)\n",
    "\n",
    "cv = StratifiedKFold(n_splits=5)\n",
    "    \n",
    "param_grid = {\n",
    "    'n_estimators': [200, 300, 500],\n",
    "    'max_depth': [ 3, 5, 10],\n",
    "    'subsample': [0.5, 0.66, 0.83,1],\n",
    "    'learning_rate': [0.1, 1, 5]\n",
    "}\n",
    "\n",
    "model =  GradientBoostingClassifier(random_state=42)\n",
    "grid = GridSearchCV(model, param_grid = param_grid, n_jobs= -1, scoring = 'balanced_accuracy' , cv = cv)\n",
    "\n",
    "grid.fit(X_train_resampled, y_train_resampled)\n",
    "\n",
    "print(grid.best_estimator_)\n",
    "print(grid.best_score_)"
   ]
  },
  {
   "cell_type": "code",
   "execution_count": null,
   "metadata": {},
   "outputs": [],
   "source": [
    "pd.DataFrame(grid.cv_results_).sort_values(by = 'rank_test_score')"
   ]
  },
  {
   "cell_type": "markdown",
   "metadata": {},
   "source": [
    "# Neural Network"
   ]
  },
  {
   "cell_type": "code",
   "execution_count": 40,
   "metadata": {},
   "outputs": [],
   "source": [
    "#define  network classifier\n",
    "class MyBinaryNNClassifier:\n",
    "    def __init__(self, input_shape, layer1_neurons_num, layer2_neurons_num):\n",
    "        self.model = self._build_model(input_shape, layer1_neurons_num, layer2_neurons_num)\n",
    "\n",
    "    def _build_model(self, input_shape, layer1_neurons_num, layer2_neurons_num):\n",
    "        model = models.Sequential()\n",
    "        \n",
    "        # Input layer with specified input_shape\n",
    "        model.add(layers.InputLayer(input_shape=(input_shape,)))\n",
    "        \n",
    "        # First hidden layer with specified number of neurons and ReLU activation\n",
    "        model.add(layers.Dense(layer1_neurons_num, activation='relu'))\n",
    "        \n",
    "        # Second hidden layer with specified number of neurons and ReLU activation\n",
    "        model.add(layers.Dense(layer2_neurons_num, activation='relu'))\n",
    "        \n",
    "        # Output layer with sigmoid activation for binary classification\n",
    "        model.add(layers.Dense(1, activation='sigmoid'))\n",
    "        \n",
    "        # Compile the model with appropriate settings\n",
    "        model.compile(optimizer='adam',\n",
    "                      loss='binary_crossentropy',  # For binary classification\n",
    "                      metrics=['accuracy'])\n",
    "        \n",
    "        return model\n",
    "    \n",
    "    def fit(self, X, y, epochs=1, batch_size=32):\n",
    "        self.model.fit(X, y, epochs=epochs, batch_size=batch_size)\n",
    "\n",
    "    def predict_proba(self, X):\n",
    "        return self.model.predict(X)\n",
    "    "
   ]
  },
  {
   "cell_type": "code",
   "execution_count": 35,
   "metadata": {},
   "outputs": [
    {
     "name": "stdout",
     "output_type": "stream",
     "text": [
      "8070/8070 [==============================] - 13s 2ms/step - loss: 0.4297 - accuracy: 0.7986\n",
      "0.75\n"
     ]
    }
   ],
   "source": [
    "# NN with OneHot and me_similarity linear regression imputation\n",
    "\n",
    "# Define the column transformer for preprocessing\n",
    "preprocessor = ColumnTransformer(\n",
    "    transformers=[\n",
    "        ('num', MinMaxScaler(), numerical_features),\n",
    "        ('cat', OneHotEncoder(), categorical_features)\n",
    "    ])\n",
    "\n",
    "\n",
    "\n",
    "X_pre = preprocessor.fit_transform(X_train_lr)\n",
    "\n",
    "oversampler = RandomOverSampler(random_state=42)\n",
    "X_train_resampled, y_train_resampled = oversampler.fit_resample(X_pre, y_train)\n",
    "\n",
    "input_shape = X_pre.shape[1]\n",
    "\n",
    "\n",
    "model = MyBinaryNNClassifier(input_shape= input_shape,  layer1_neurons_num= 3*input_shape,\n",
    "                       layer2_neurons_num= input_shape)\n",
    "\n",
    "\n",
    "model.fit(X_train_resampled, y_train_resampled, epochs = 1, batch_size = 32)\n",
    "\n",
    "\n",
    "NN1_predict_proba = model.predict_proba(preprocessor.transform(X_valid_lr))\n",
    "y_pred = NN1_predict_proba\n",
    "\n",
    "print(round(balanced_accuracy_score(y_valid, y_pred > .5), 3))"
   ]
  },
  {
   "cell_type": "code",
   "execution_count": 64,
   "metadata": {},
   "outputs": [
    {
     "name": "stdout",
     "output_type": "stream",
     "text": [
      "0.76\n"
     ]
    }
   ],
   "source": [
    "# NN with OneHot and me_similarity linear regression imputation\n",
    "\n",
    "# Define the column transformer for preprocessing\n",
    "preprocessor = ColumnTransformer(\n",
    "    transformers=[\n",
    "        ('num', MinMaxScaler(), numerical_features),\n",
    "        ('cat', OneHotEncoder(), categorical_features)\n",
    "    ])\n",
    "\n",
    "\n",
    "\n",
    "X_pre = preprocessor.fit_transform(X_train_lr)\n",
    "\n",
    "oversampler = RandomOverSampler(random_state=42)\n",
    "X_train_resampled, y_train_resampled = oversampler.fit_resample(X_pre, y_train)\n",
    "\n",
    "input_shape = X_pre.shape[1]\n",
    "\n",
    "\n",
    "model = MLPClassifier(hidden_layer_sizes= (3*input_shape, input_shape), activation= 'relu', solver = 'adam', max_iter = 2)\n",
    "\n",
    "\n",
    "model.fit(X_train_resampled, y_train_resampled)\n",
    "\n",
    "\n",
    "NN2_predict_proba = model.predict_proba(preprocessor.transform(X_valid_lr))[:, 1]\n",
    "y_pred = NN2_predict_proba > .5\n",
    "\n",
    "print(round(balanced_accuracy_score(y_valid, y_pred), 3))"
   ]
  },
  {
   "cell_type": "markdown",
   "metadata": {},
   "source": [
    "# Stacking!"
   ]
  },
  {
   "cell_type": "code",
   "execution_count": 75,
   "metadata": {},
   "outputs": [
    {
     "ename": "ValueError",
     "evalue": "Found input variables with inconsistent numbers of samples: [157957, 130082]",
     "output_type": "error",
     "traceback": [
      "\u001b[1;31m---------------------------------------------------------------------------\u001b[0m",
      "\u001b[1;31mValueError\u001b[0m                                Traceback (most recent call last)",
      "\u001b[1;32m~\\AppData\\Local\\Temp\\ipykernel_17320\\3480706520.py\u001b[0m in \u001b[0;36m<module>\u001b[1;34m\u001b[0m\n\u001b[0;32m     25\u001b[0m         \u001b[0mmodel\u001b[0m\u001b[1;33m.\u001b[0m\u001b[0mfit\u001b[0m\u001b[1;33m(\u001b[0m\u001b[0mX_train_resampled\u001b[0m\u001b[1;33m,\u001b[0m \u001b[0my_train_resampled\u001b[0m\u001b[1;33m)\u001b[0m\u001b[1;33m\u001b[0m\u001b[1;33m\u001b[0m\u001b[0m\n\u001b[0;32m     26\u001b[0m     \u001b[1;32melse\u001b[0m\u001b[1;33m:\u001b[0m\u001b[1;33m\u001b[0m\u001b[1;33m\u001b[0m\u001b[0m\n\u001b[1;32m---> 27\u001b[1;33m         \u001b[0mmodel\u001b[0m\u001b[1;33m.\u001b[0m\u001b[0mfit\u001b[0m\u001b[1;33m(\u001b[0m\u001b[0mX_pre\u001b[0m\u001b[1;33m,\u001b[0m \u001b[0my_train\u001b[0m\u001b[1;33m)\u001b[0m\u001b[1;33m\u001b[0m\u001b[1;33m\u001b[0m\u001b[0m\n\u001b[0m",
      "\u001b[1;32mc:\\Users\\danie\\anaconda3\\lib\\site-packages\\sklearn\\base.py\u001b[0m in \u001b[0;36mwrapper\u001b[1;34m(estimator, *args, **kwargs)\u001b[0m\n\u001b[0;32m   1149\u001b[0m                 )\n\u001b[0;32m   1150\u001b[0m             ):\n\u001b[1;32m-> 1151\u001b[1;33m                 \u001b[1;32mreturn\u001b[0m \u001b[0mfit_method\u001b[0m\u001b[1;33m(\u001b[0m\u001b[0mestimator\u001b[0m\u001b[1;33m,\u001b[0m \u001b[1;33m*\u001b[0m\u001b[0margs\u001b[0m\u001b[1;33m,\u001b[0m \u001b[1;33m**\u001b[0m\u001b[0mkwargs\u001b[0m\u001b[1;33m)\u001b[0m\u001b[1;33m\u001b[0m\u001b[1;33m\u001b[0m\u001b[0m\n\u001b[0m\u001b[0;32m   1152\u001b[0m \u001b[1;33m\u001b[0m\u001b[0m\n\u001b[0;32m   1153\u001b[0m         \u001b[1;32mreturn\u001b[0m \u001b[0mwrapper\u001b[0m\u001b[1;33m\u001b[0m\u001b[1;33m\u001b[0m\u001b[0m\n",
      "\u001b[1;32mc:\\Users\\danie\\anaconda3\\lib\\site-packages\\sklearn\\ensemble\\_forest.py\u001b[0m in \u001b[0;36mfit\u001b[1;34m(self, X, y, sample_weight)\u001b[0m\n\u001b[0;32m    346\u001b[0m         \u001b[1;32mif\u001b[0m \u001b[0missparse\u001b[0m\u001b[1;33m(\u001b[0m\u001b[0my\u001b[0m\u001b[1;33m)\u001b[0m\u001b[1;33m:\u001b[0m\u001b[1;33m\u001b[0m\u001b[1;33m\u001b[0m\u001b[0m\n\u001b[0;32m    347\u001b[0m             \u001b[1;32mraise\u001b[0m \u001b[0mValueError\u001b[0m\u001b[1;33m(\u001b[0m\u001b[1;34m\"sparse multilabel-indicator for y is not supported.\"\u001b[0m\u001b[1;33m)\u001b[0m\u001b[1;33m\u001b[0m\u001b[1;33m\u001b[0m\u001b[0m\n\u001b[1;32m--> 348\u001b[1;33m         X, y = self._validate_data(\n\u001b[0m\u001b[0;32m    349\u001b[0m             \u001b[0mX\u001b[0m\u001b[1;33m,\u001b[0m \u001b[0my\u001b[0m\u001b[1;33m,\u001b[0m \u001b[0mmulti_output\u001b[0m\u001b[1;33m=\u001b[0m\u001b[1;32mTrue\u001b[0m\u001b[1;33m,\u001b[0m \u001b[0maccept_sparse\u001b[0m\u001b[1;33m=\u001b[0m\u001b[1;34m\"csc\"\u001b[0m\u001b[1;33m,\u001b[0m \u001b[0mdtype\u001b[0m\u001b[1;33m=\u001b[0m\u001b[0mDTYPE\u001b[0m\u001b[1;33m\u001b[0m\u001b[1;33m\u001b[0m\u001b[0m\n\u001b[0;32m    350\u001b[0m         )\n",
      "\u001b[1;32mc:\\Users\\danie\\anaconda3\\lib\\site-packages\\sklearn\\base.py\u001b[0m in \u001b[0;36m_validate_data\u001b[1;34m(self, X, y, reset, validate_separately, cast_to_ndarray, **check_params)\u001b[0m\n\u001b[0;32m    619\u001b[0m                 \u001b[0my\u001b[0m \u001b[1;33m=\u001b[0m \u001b[0mcheck_array\u001b[0m\u001b[1;33m(\u001b[0m\u001b[0my\u001b[0m\u001b[1;33m,\u001b[0m \u001b[0minput_name\u001b[0m\u001b[1;33m=\u001b[0m\u001b[1;34m\"y\"\u001b[0m\u001b[1;33m,\u001b[0m \u001b[1;33m**\u001b[0m\u001b[0mcheck_y_params\u001b[0m\u001b[1;33m)\u001b[0m\u001b[1;33m\u001b[0m\u001b[1;33m\u001b[0m\u001b[0m\n\u001b[0;32m    620\u001b[0m             \u001b[1;32melse\u001b[0m\u001b[1;33m:\u001b[0m\u001b[1;33m\u001b[0m\u001b[1;33m\u001b[0m\u001b[0m\n\u001b[1;32m--> 621\u001b[1;33m                 \u001b[0mX\u001b[0m\u001b[1;33m,\u001b[0m \u001b[0my\u001b[0m \u001b[1;33m=\u001b[0m \u001b[0mcheck_X_y\u001b[0m\u001b[1;33m(\u001b[0m\u001b[0mX\u001b[0m\u001b[1;33m,\u001b[0m \u001b[0my\u001b[0m\u001b[1;33m,\u001b[0m \u001b[1;33m**\u001b[0m\u001b[0mcheck_params\u001b[0m\u001b[1;33m)\u001b[0m\u001b[1;33m\u001b[0m\u001b[1;33m\u001b[0m\u001b[0m\n\u001b[0m\u001b[0;32m    622\u001b[0m             \u001b[0mout\u001b[0m \u001b[1;33m=\u001b[0m \u001b[0mX\u001b[0m\u001b[1;33m,\u001b[0m \u001b[0my\u001b[0m\u001b[1;33m\u001b[0m\u001b[1;33m\u001b[0m\u001b[0m\n\u001b[0;32m    623\u001b[0m \u001b[1;33m\u001b[0m\u001b[0m\n",
      "\u001b[1;32mc:\\Users\\danie\\anaconda3\\lib\\site-packages\\sklearn\\utils\\validation.py\u001b[0m in \u001b[0;36mcheck_X_y\u001b[1;34m(X, y, accept_sparse, accept_large_sparse, dtype, order, copy, force_all_finite, ensure_2d, allow_nd, multi_output, ensure_min_samples, ensure_min_features, y_numeric, estimator)\u001b[0m\n\u001b[0;32m   1163\u001b[0m     \u001b[0my\u001b[0m \u001b[1;33m=\u001b[0m \u001b[0m_check_y\u001b[0m\u001b[1;33m(\u001b[0m\u001b[0my\u001b[0m\u001b[1;33m,\u001b[0m \u001b[0mmulti_output\u001b[0m\u001b[1;33m=\u001b[0m\u001b[0mmulti_output\u001b[0m\u001b[1;33m,\u001b[0m \u001b[0my_numeric\u001b[0m\u001b[1;33m=\u001b[0m\u001b[0my_numeric\u001b[0m\u001b[1;33m,\u001b[0m \u001b[0mestimator\u001b[0m\u001b[1;33m=\u001b[0m\u001b[0mestimator\u001b[0m\u001b[1;33m)\u001b[0m\u001b[1;33m\u001b[0m\u001b[1;33m\u001b[0m\u001b[0m\n\u001b[0;32m   1164\u001b[0m \u001b[1;33m\u001b[0m\u001b[0m\n\u001b[1;32m-> 1165\u001b[1;33m     \u001b[0mcheck_consistent_length\u001b[0m\u001b[1;33m(\u001b[0m\u001b[0mX\u001b[0m\u001b[1;33m,\u001b[0m \u001b[0my\u001b[0m\u001b[1;33m)\u001b[0m\u001b[1;33m\u001b[0m\u001b[1;33m\u001b[0m\u001b[0m\n\u001b[0m\u001b[0;32m   1166\u001b[0m \u001b[1;33m\u001b[0m\u001b[0m\n\u001b[0;32m   1167\u001b[0m     \u001b[1;32mreturn\u001b[0m \u001b[0mX\u001b[0m\u001b[1;33m,\u001b[0m \u001b[0my\u001b[0m\u001b[1;33m\u001b[0m\u001b[1;33m\u001b[0m\u001b[0m\n",
      "\u001b[1;32mc:\\Users\\danie\\anaconda3\\lib\\site-packages\\sklearn\\utils\\validation.py\u001b[0m in \u001b[0;36mcheck_consistent_length\u001b[1;34m(*arrays)\u001b[0m\n\u001b[0;32m    407\u001b[0m     \u001b[0muniques\u001b[0m \u001b[1;33m=\u001b[0m \u001b[0mnp\u001b[0m\u001b[1;33m.\u001b[0m\u001b[0munique\u001b[0m\u001b[1;33m(\u001b[0m\u001b[0mlengths\u001b[0m\u001b[1;33m)\u001b[0m\u001b[1;33m\u001b[0m\u001b[1;33m\u001b[0m\u001b[0m\n\u001b[0;32m    408\u001b[0m     \u001b[1;32mif\u001b[0m \u001b[0mlen\u001b[0m\u001b[1;33m(\u001b[0m\u001b[0muniques\u001b[0m\u001b[1;33m)\u001b[0m \u001b[1;33m>\u001b[0m \u001b[1;36m1\u001b[0m\u001b[1;33m:\u001b[0m\u001b[1;33m\u001b[0m\u001b[1;33m\u001b[0m\u001b[0m\n\u001b[1;32m--> 409\u001b[1;33m         raise ValueError(\n\u001b[0m\u001b[0;32m    410\u001b[0m             \u001b[1;34m\"Found input variables with inconsistent numbers of samples: %r\"\u001b[0m\u001b[1;33m\u001b[0m\u001b[1;33m\u001b[0m\u001b[0m\n\u001b[0;32m    411\u001b[0m             \u001b[1;33m%\u001b[0m \u001b[1;33m[\u001b[0m\u001b[0mint\u001b[0m\u001b[1;33m(\u001b[0m\u001b[0ml\u001b[0m\u001b[1;33m)\u001b[0m \u001b[1;32mfor\u001b[0m \u001b[0ml\u001b[0m \u001b[1;32min\u001b[0m \u001b[0mlengths\u001b[0m\u001b[1;33m]\u001b[0m\u001b[1;33m\u001b[0m\u001b[1;33m\u001b[0m\u001b[0m\n",
      "\u001b[1;31mValueError\u001b[0m: Found input variables with inconsistent numbers of samples: [157957, 130082]"
     ]
    }
   ],
   "source": [
    "preprocessor = ColumnTransformer(\n",
    "    transformers=[\n",
    "        ('num', MinMaxScaler(), numerical_features),\n",
    "        ('cat', OneHotEncoder(), categorical_features)\n",
    "    ])\n",
    "\n",
    "X_pre = preprocessor.fit_transform(X_train_combined_lr)\n",
    "\n",
    "oversampler = RandomOverSampler(random_state=42)\n",
    "X_train_resampled, y_train_resampled = oversampler.fit_resample(X_pre, y_train_combined)\n",
    "\n",
    "# Get Base Estimators\n",
    "base_estimators = [('MLP', MLPClassifier(hidden_layer_sizes= (3*input_shape, input_shape), activation= 'relu', solver = 'adam', max_iter = 1)),\n",
    "                   ('GBoost', GradientBoostingClassifier(random_state=42, n_estimators= 200, max_depth= 3, subsample = 0.66)),\n",
    "                   ('RF', RandomForestClassifier(random_state=42, n_estimators= 500, max_depth= 5, class_weight= 'balanced', max_samples = 0.66)),\n",
    "                   ('elasticnet',  LogisticRegression(random_state=42, penalty='elasticnet', solver='saga', C = 0.01, l1_ratio=0.5)),\n",
    "                    ('lasso', LogisticRegression(random_state=42, penalty='elasticnet', solver='saga', C = 0.15848931924611134, l1_ratio=1))\n",
    "\n",
    "]\n",
    "\n",
    "\n",
    "# Train the base estimators separately\n",
    "for name, model in base_estimators:\n",
    "    if name not in ['RF']:\n",
    "        model.fit(X_train_resampled, y_train_resampled)\n",
    "    else: \n",
    "        model.fit(X_pre, y_train_combined)\n"
   ]
  },
  {
   "cell_type": "code",
   "execution_count": null,
   "metadata": {},
   "outputs": [
    {
     "name": "stdout",
     "output_type": "stream",
     "text": [
      "Balanced Accuracy: 0.7324744028969381\n"
     ]
    }
   ],
   "source": [
    "\n",
    "# Create a StackingClassifier with the trained base models\n",
    "stacking_clf = StackingClassifier(estimators=base_estimators, final_estimator= LogisticRegression(random_state=42, penalty='elasticnet', solver='saga', C = 0.01, l1_ratio=0.5), cv = 'prefit', stack_method= 'predict_proba')\n",
    "\n",
    "# Fit the stacking classifier on the training data (meta-estimator will be trained)\n",
    "stacking_clf.fit(X_train_resampled, y_train_resampled)\n",
    "\n",
    "# Make predictions on the test data\n",
    "y_pred = stacking_clf.predict(preprocessor.transform(X_test_lr))\n",
    "\n",
    "# Evaluate the balanced accuracy\n",
    "balanced_acc = balanced_accuracy_score(y_test, y_pred)\n",
    "print(f\"Balanced Accuracy: {balanced_acc}\")\n"
   ]
  },
  {
   "cell_type": "code",
   "execution_count": 74,
   "metadata": {},
   "outputs": [
    {
     "name": "stdout",
     "output_type": "stream",
     "text": [
      "Balanced Accuracy: 0.7237157525889921\n"
     ]
    }
   ],
   "source": [
    "# Create a StackingClassifier with the trained base models\n",
    "stacking_clf = StackingClassifier(estimators=base_estimators, final_estimator=RandomForestClassifier(random_state=42, n_estimators= 500, max_depth= 5, class_weight= 'balanced', max_samples = 0.66), cv = 'prefit', stack_method= 'predict_proba')\n",
    "\n",
    "# Fit the stacking classifier on the training data (meta-estimator will be trained)\n",
    "stacking_clf.fit(X_train_resampled, y_train_resampled)\n",
    "\n",
    "# Make predictions on the test data\n",
    "y_pred = stacking_clf.predict(preprocessor.transform(X_valid_lr))\n",
    "\n",
    "# Evaluate the balanced accuracy\n",
    "balanced_acc = balanced_accuracy_score(y_valid, y_pred)\n",
    "print(f\"Balanced Accuracy: {balanced_acc}\")\n"
   ]
  },
  {
   "cell_type": "markdown",
   "metadata": {},
   "source": [
    "# Submission Builder"
   ]
  },
  {
   "cell_type": "code",
   "execution_count": 77,
   "metadata": {},
   "outputs": [],
   "source": [
    "#we need to first load and merge the leaderboard data to have the same format as the training set\n",
    "lb_data = pd.read_csv(\"./leaderboard_data.csv\")"
   ]
  },
  {
   "cell_type": "code",
   "execution_count": 78,
   "metadata": {},
   "outputs": [],
   "source": [
    "lb_data = (\n",
    "    lb_data.merge(\n",
    "        feature_weights.rename(columns=lambda x: \"pre_\" + x), \n",
    "        how=\"left\", \n",
    "        validate=\"m:1\",\n",
    "        copy=False,\n",
    "    )\n",
    "    .merge(\n",
    "        feature_weights.rename(columns=lambda x: \"post_\" + x),\n",
    "        how=\"left\",\n",
    "        validate=\"m:1\",\n",
    "        copy=False,\n",
    "    )\n",
    "    .merge(\n",
    "        morph_embeddings.rename(columns=lambda x: \"pre_\" + x),\n",
    "        how=\"left\",\n",
    "        validate=\"m:1\",\n",
    "        copy=False,\n",
    "    )\n",
    "    .merge(\n",
    "        morph_embeddings.rename(columns=lambda x: \"post_\" + x),\n",
    "        how=\"left\",\n",
    "        validate=\"m:1\",\n",
    "        copy=False,\n",
    "    )\n",
    ")"
   ]
  },
  {
   "cell_type": "code",
   "execution_count": 79,
   "metadata": {},
   "outputs": [],
   "source": [
    "feature_engineering(lb_data)"
   ]
  },
  {
   "cell_type": "code",
   "execution_count": 80,
   "metadata": {},
   "outputs": [],
   "source": [
    "X_lb = impute_missing(lb_data[features], 'me_similarity', LinearRegression(), OneHotEncoder())"
   ]
  },
  {
   "cell_type": "code",
   "execution_count": 81,
   "metadata": {},
   "outputs": [
    {
     "data": {
      "text/html": [
       "<div>\n",
       "<style scoped>\n",
       "    .dataframe tbody tr th:only-of-type {\n",
       "        vertical-align: middle;\n",
       "    }\n",
       "\n",
       "    .dataframe tbody tr th {\n",
       "        vertical-align: top;\n",
       "    }\n",
       "\n",
       "    .dataframe thead th {\n",
       "        text-align: right;\n",
       "    }\n",
       "</style>\n",
       "<table border=\"1\" class=\"dataframe\">\n",
       "  <thead>\n",
       "    <tr style=\"text-align: right;\">\n",
       "      <th></th>\n",
       "      <th>adp_dist</th>\n",
       "      <th>post_skeletal_distance_to_soma</th>\n",
       "      <th>pre_skeletal_distance_to_soma</th>\n",
       "      <th>fw_similarity</th>\n",
       "      <th>me_similarity</th>\n",
       "      <th>pre_oracle</th>\n",
       "      <th>post_oracle</th>\n",
       "      <th>pre_test_score</th>\n",
       "      <th>post_test_score</th>\n",
       "    </tr>\n",
       "  </thead>\n",
       "  <tbody>\n",
       "    <tr>\n",
       "      <th>count</th>\n",
       "      <td>42593.000000</td>\n",
       "      <td>4.259300e+04</td>\n",
       "      <td>4.259300e+04</td>\n",
       "      <td>42593.000000</td>\n",
       "      <td>42593.000000</td>\n",
       "      <td>42593.000000</td>\n",
       "      <td>42593.000000</td>\n",
       "      <td>42593.000000</td>\n",
       "      <td>42593.000000</td>\n",
       "    </tr>\n",
       "    <tr>\n",
       "      <th>mean</th>\n",
       "      <td>2500.138601</td>\n",
       "      <td>1.165027e+05</td>\n",
       "      <td>8.033975e+05</td>\n",
       "      <td>0.152224</td>\n",
       "      <td>0.564509</td>\n",
       "      <td>0.831087</td>\n",
       "      <td>0.764480</td>\n",
       "      <td>0.549682</td>\n",
       "      <td>0.542661</td>\n",
       "    </tr>\n",
       "    <tr>\n",
       "      <th>std</th>\n",
       "      <td>1454.437301</td>\n",
       "      <td>1.149648e+05</td>\n",
       "      <td>4.113242e+05</td>\n",
       "      <td>0.108338</td>\n",
       "      <td>0.264665</td>\n",
       "      <td>0.078058</td>\n",
       "      <td>0.087275</td>\n",
       "      <td>0.126480</td>\n",
       "      <td>0.122590</td>\n",
       "    </tr>\n",
       "    <tr>\n",
       "      <th>min</th>\n",
       "      <td>0.125472</td>\n",
       "      <td>0.000000e+00</td>\n",
       "      <td>0.000000e+00</td>\n",
       "      <td>-0.253719</td>\n",
       "      <td>-0.474063</td>\n",
       "      <td>0.626120</td>\n",
       "      <td>0.600079</td>\n",
       "      <td>0.357342</td>\n",
       "      <td>0.350200</td>\n",
       "    </tr>\n",
       "    <tr>\n",
       "      <th>25%</th>\n",
       "      <td>1186.530000</td>\n",
       "      <td>5.359440e+04</td>\n",
       "      <td>5.194680e+05</td>\n",
       "      <td>0.076156</td>\n",
       "      <td>0.406157</td>\n",
       "      <td>0.806080</td>\n",
       "      <td>0.695155</td>\n",
       "      <td>0.469712</td>\n",
       "      <td>0.444351</td>\n",
       "    </tr>\n",
       "    <tr>\n",
       "      <th>50%</th>\n",
       "      <td>2469.260000</td>\n",
       "      <td>8.935670e+04</td>\n",
       "      <td>7.108990e+05</td>\n",
       "      <td>0.150670</td>\n",
       "      <td>0.606734</td>\n",
       "      <td>0.826901</td>\n",
       "      <td>0.764196</td>\n",
       "      <td>0.532627</td>\n",
       "      <td>0.526347</td>\n",
       "    </tr>\n",
       "    <tr>\n",
       "      <th>75%</th>\n",
       "      <td>3786.470000</td>\n",
       "      <td>1.342950e+05</td>\n",
       "      <td>1.048720e+06</td>\n",
       "      <td>0.226265</td>\n",
       "      <td>0.759469</td>\n",
       "      <td>0.892273</td>\n",
       "      <td>0.830939</td>\n",
       "      <td>0.609988</td>\n",
       "      <td>0.624590</td>\n",
       "    </tr>\n",
       "    <tr>\n",
       "      <th>max</th>\n",
       "      <td>4999.920000</td>\n",
       "      <td>1.682710e+06</td>\n",
       "      <td>2.071320e+06</td>\n",
       "      <td>0.594270</td>\n",
       "      <td>0.995029</td>\n",
       "      <td>0.983410</td>\n",
       "      <td>0.983410</td>\n",
       "      <td>0.870534</td>\n",
       "      <td>0.940354</td>\n",
       "    </tr>\n",
       "  </tbody>\n",
       "</table>\n",
       "</div>"
      ],
      "text/plain": [
       "           adp_dist  post_skeletal_distance_to_soma  \\\n",
       "count  42593.000000                    4.259300e+04   \n",
       "mean    2500.138601                    1.165027e+05   \n",
       "std     1454.437301                    1.149648e+05   \n",
       "min        0.125472                    0.000000e+00   \n",
       "25%     1186.530000                    5.359440e+04   \n",
       "50%     2469.260000                    8.935670e+04   \n",
       "75%     3786.470000                    1.342950e+05   \n",
       "max     4999.920000                    1.682710e+06   \n",
       "\n",
       "       pre_skeletal_distance_to_soma  fw_similarity  me_similarity  \\\n",
       "count                   4.259300e+04   42593.000000   42593.000000   \n",
       "mean                    8.033975e+05       0.152224       0.564509   \n",
       "std                     4.113242e+05       0.108338       0.264665   \n",
       "min                     0.000000e+00      -0.253719      -0.474063   \n",
       "25%                     5.194680e+05       0.076156       0.406157   \n",
       "50%                     7.108990e+05       0.150670       0.606734   \n",
       "75%                     1.048720e+06       0.226265       0.759469   \n",
       "max                     2.071320e+06       0.594270       0.995029   \n",
       "\n",
       "         pre_oracle   post_oracle  pre_test_score  post_test_score  \n",
       "count  42593.000000  42593.000000    42593.000000     42593.000000  \n",
       "mean       0.831087      0.764480        0.549682         0.542661  \n",
       "std        0.078058      0.087275        0.126480         0.122590  \n",
       "min        0.626120      0.600079        0.357342         0.350200  \n",
       "25%        0.806080      0.695155        0.469712         0.444351  \n",
       "50%        0.826901      0.764196        0.532627         0.526347  \n",
       "75%        0.892273      0.830939        0.609988         0.624590  \n",
       "max        0.983410      0.983410        0.870534         0.940354  "
      ]
     },
     "execution_count": 81,
     "metadata": {},
     "output_type": "execute_result"
    }
   ],
   "source": [
    "X_lb.describe()"
   ]
  },
  {
   "cell_type": "code",
   "execution_count": 82,
   "metadata": {},
   "outputs": [
    {
     "data": {
      "text/html": [
       "<div>\n",
       "<style scoped>\n",
       "    .dataframe tbody tr th:only-of-type {\n",
       "        vertical-align: middle;\n",
       "    }\n",
       "\n",
       "    .dataframe tbody tr th {\n",
       "        vertical-align: top;\n",
       "    }\n",
       "\n",
       "    .dataframe thead th {\n",
       "        text-align: right;\n",
       "    }\n",
       "</style>\n",
       "<table border=\"1\" class=\"dataframe\">\n",
       "  <thead>\n",
       "    <tr style=\"text-align: right;\">\n",
       "      <th></th>\n",
       "      <th>adp_dist</th>\n",
       "      <th>post_skeletal_distance_to_soma</th>\n",
       "      <th>pre_skeletal_distance_to_soma</th>\n",
       "      <th>fw_similarity</th>\n",
       "      <th>me_similarity</th>\n",
       "      <th>pre_oracle</th>\n",
       "      <th>post_oracle</th>\n",
       "      <th>pre_test_score</th>\n",
       "      <th>post_test_score</th>\n",
       "    </tr>\n",
       "  </thead>\n",
       "  <tbody>\n",
       "    <tr>\n",
       "      <th>count</th>\n",
       "      <td>185832.000000</td>\n",
       "      <td>1.858320e+05</td>\n",
       "      <td>1.858320e+05</td>\n",
       "      <td>185832.000000</td>\n",
       "      <td>185832.000000</td>\n",
       "      <td>185832.000000</td>\n",
       "      <td>185832.000000</td>\n",
       "      <td>185832.000000</td>\n",
       "      <td>185832.000000</td>\n",
       "    </tr>\n",
       "    <tr>\n",
       "      <th>mean</th>\n",
       "      <td>2504.942886</td>\n",
       "      <td>1.197602e+05</td>\n",
       "      <td>8.059328e+05</td>\n",
       "      <td>0.146818</td>\n",
       "      <td>0.553256</td>\n",
       "      <td>0.828847</td>\n",
       "      <td>0.763027</td>\n",
       "      <td>0.607309</td>\n",
       "      <td>0.540290</td>\n",
       "    </tr>\n",
       "    <tr>\n",
       "      <th>std</th>\n",
       "      <td>1451.981377</td>\n",
       "      <td>1.162254e+05</td>\n",
       "      <td>4.040988e+05</td>\n",
       "      <td>0.107391</td>\n",
       "      <td>0.274522</td>\n",
       "      <td>0.075433</td>\n",
       "      <td>0.086910</td>\n",
       "      <td>0.123354</td>\n",
       "      <td>0.121985</td>\n",
       "    </tr>\n",
       "    <tr>\n",
       "      <th>min</th>\n",
       "      <td>0.023439</td>\n",
       "      <td>0.000000e+00</td>\n",
       "      <td>0.000000e+00</td>\n",
       "      <td>-0.218348</td>\n",
       "      <td>-0.514667</td>\n",
       "      <td>0.618007</td>\n",
       "      <td>0.600079</td>\n",
       "      <td>0.376039</td>\n",
       "      <td>0.350200</td>\n",
       "    </tr>\n",
       "    <tr>\n",
       "      <th>25%</th>\n",
       "      <td>1198.125000</td>\n",
       "      <td>5.449803e+04</td>\n",
       "      <td>5.303278e+05</td>\n",
       "      <td>0.072658</td>\n",
       "      <td>0.416717</td>\n",
       "      <td>0.777913</td>\n",
       "      <td>0.694268</td>\n",
       "      <td>0.514948</td>\n",
       "      <td>0.442000</td>\n",
       "    </tr>\n",
       "    <tr>\n",
       "      <th>50%</th>\n",
       "      <td>2478.690000</td>\n",
       "      <td>9.051745e+04</td>\n",
       "      <td>7.332060e+05</td>\n",
       "      <td>0.140787</td>\n",
       "      <td>0.594727</td>\n",
       "      <td>0.831762</td>\n",
       "      <td>0.761219</td>\n",
       "      <td>0.584530</td>\n",
       "      <td>0.523602</td>\n",
       "    </tr>\n",
       "    <tr>\n",
       "      <th>75%</th>\n",
       "      <td>3788.427500</td>\n",
       "      <td>1.384212e+05</td>\n",
       "      <td>1.019975e+06</td>\n",
       "      <td>0.216522</td>\n",
       "      <td>0.755917</td>\n",
       "      <td>0.886881</td>\n",
       "      <td>0.829264</td>\n",
       "      <td>0.703243</td>\n",
       "      <td>0.622310</td>\n",
       "    </tr>\n",
       "    <tr>\n",
       "      <th>max</th>\n",
       "      <td>4999.990000</td>\n",
       "      <td>1.901600e+06</td>\n",
       "      <td>2.433020e+06</td>\n",
       "      <td>0.634512</td>\n",
       "      <td>0.991663</td>\n",
       "      <td>0.952325</td>\n",
       "      <td>0.983410</td>\n",
       "      <td>0.879986</td>\n",
       "      <td>0.940354</td>\n",
       "    </tr>\n",
       "  </tbody>\n",
       "</table>\n",
       "</div>"
      ],
      "text/plain": [
       "            adp_dist  post_skeletal_distance_to_soma  \\\n",
       "count  185832.000000                    1.858320e+05   \n",
       "mean     2504.942886                    1.197602e+05   \n",
       "std      1451.981377                    1.162254e+05   \n",
       "min         0.023439                    0.000000e+00   \n",
       "25%      1198.125000                    5.449803e+04   \n",
       "50%      2478.690000                    9.051745e+04   \n",
       "75%      3788.427500                    1.384212e+05   \n",
       "max      4999.990000                    1.901600e+06   \n",
       "\n",
       "       pre_skeletal_distance_to_soma  fw_similarity  me_similarity  \\\n",
       "count                   1.858320e+05  185832.000000  185832.000000   \n",
       "mean                    8.059328e+05       0.146818       0.553256   \n",
       "std                     4.040988e+05       0.107391       0.274522   \n",
       "min                     0.000000e+00      -0.218348      -0.514667   \n",
       "25%                     5.303278e+05       0.072658       0.416717   \n",
       "50%                     7.332060e+05       0.140787       0.594727   \n",
       "75%                     1.019975e+06       0.216522       0.755917   \n",
       "max                     2.433020e+06       0.634512       0.991663   \n",
       "\n",
       "          pre_oracle    post_oracle  pre_test_score  post_test_score  \n",
       "count  185832.000000  185832.000000   185832.000000    185832.000000  \n",
       "mean        0.828847       0.763027        0.607309         0.540290  \n",
       "std         0.075433       0.086910        0.123354         0.121985  \n",
       "min         0.618007       0.600079        0.376039         0.350200  \n",
       "25%         0.777913       0.694268        0.514948         0.442000  \n",
       "50%         0.831762       0.761219        0.584530         0.523602  \n",
       "75%         0.886881       0.829264        0.703243         0.622310  \n",
       "max         0.952325       0.983410        0.879986         0.940354  "
      ]
     },
     "execution_count": 82,
     "metadata": {},
     "output_type": "execute_result"
    }
   ],
   "source": [
    "X_data_lr.describe()"
   ]
  },
  {
   "cell_type": "code",
   "execution_count": 41,
   "metadata": {},
   "outputs": [],
   "source": [
    "#RandomForest without Encoding\n",
    "# Define the column transformer for preprocessing\n",
    "preprocessor = ColumnTransformer(\n",
    "    transformers=[\n",
    "        ('num', MinMaxScaler(), numerical_features),\n",
    "        ('cat', OneHotEncoder(), categorical_features)\n",
    "    ])\n",
    "\n",
    "\n",
    "    \n",
    "# Define the pipeline with preprocessing, oversampling, and logistic regression\n",
    "model = RandomForestClassifier(random_state=42, n_estimators= 500, max_depth= 5, class_weight= 'balanced')\n",
    "\n",
    "pipe = Pipeline([('preprocessor', preprocessor),\n",
    "                 ('model', model)])\n",
    "\n",
    "pipe.fit(X_data_lr, y_data)\n",
    "\n",
    "# predict on leaderboard data\n",
    "lb_data[\"pred\"] = pipe.predict_proba(X_lb)[:, 1]\n",
    "\n",
    "#create a boolean prediction solution\n",
    "lb_data[\"connected\"] = lb_data[\"pred\"] > .5"
   ]
  },
  {
   "cell_type": "code",
   "execution_count": 83,
   "metadata": {},
   "outputs": [
    {
     "ename": "NameError",
     "evalue": "name 'pipe' is not defined",
     "output_type": "error",
     "traceback": [
      "\u001b[1;31m---------------------------------------------------------------------------\u001b[0m",
      "\u001b[1;31mNameError\u001b[0m                                 Traceback (most recent call last)",
      "\u001b[1;32m~\\AppData\\Local\\Temp\\ipykernel_17320\\2417039398.py\u001b[0m in \u001b[0;36m<module>\u001b[1;34m\u001b[0m\n\u001b[0;32m     22\u001b[0m \u001b[1;33m\u001b[0m\u001b[0m\n\u001b[0;32m     23\u001b[0m \u001b[1;31m# predict on leaderboard data\u001b[0m\u001b[1;33m\u001b[0m\u001b[1;33m\u001b[0m\u001b[0m\n\u001b[1;32m---> 24\u001b[1;33m \u001b[0mlb_data\u001b[0m\u001b[1;33m[\u001b[0m\u001b[1;34m\"pred\"\u001b[0m\u001b[1;33m]\u001b[0m \u001b[1;33m=\u001b[0m \u001b[0mpipe\u001b[0m\u001b[1;33m.\u001b[0m\u001b[0mpredict_proba\u001b[0m\u001b[1;33m(\u001b[0m\u001b[0mX_lb\u001b[0m\u001b[1;33m)\u001b[0m\u001b[1;33m[\u001b[0m\u001b[1;33m:\u001b[0m\u001b[1;33m,\u001b[0m \u001b[1;36m1\u001b[0m\u001b[1;33m]\u001b[0m\u001b[1;33m\u001b[0m\u001b[1;33m\u001b[0m\u001b[0m\n\u001b[0m\u001b[0;32m     25\u001b[0m \u001b[1;33m\u001b[0m\u001b[0m\n\u001b[0;32m     26\u001b[0m \u001b[1;31m#create a boolean prediction solution\u001b[0m\u001b[1;33m\u001b[0m\u001b[1;33m\u001b[0m\u001b[0m\n",
      "\u001b[1;31mNameError\u001b[0m: name 'pipe' is not defined"
     ]
    }
   ],
   "source": [
    "#RandomForest without Encoding\n",
    "# Define the column transformer for preprocessing\n",
    "preprocessor = ColumnTransformer(\n",
    "    transformers=[\n",
    "        ('num', MinMaxScaler(), numerical_features),\n",
    "        ('cat', OneHotEncoder(), categorical_features)\n",
    "    ])\n",
    "\n",
    "\n",
    "X_pre = preprocessor.fit_transform(X_data_lr)\n",
    "\n",
    "oversampler = RandomOverSampler(random_state=42)\n",
    "X_train_resampled, y_train_resampled = oversampler.fit_resample(X_pre, y_data)\n",
    "    \n",
    "# Define the pipeline with preprocessing, oversampling, and logistic regression\n",
    "#model = RandomForestClassifier(random_state=42, n_estimators= 500, max_depth= 5, class_weight= 'balanced')\n",
    "\n",
    "model = GradientBoostingClassifier(random_state=42, n_estimators= 200, max_depth= 3, subsample = 0.66)\n",
    "\n",
    "\n",
    "model.fit(X_train_resampled, y_train_resampled)\n"
   ]
  },
  {
   "cell_type": "code",
   "execution_count": 85,
   "metadata": {},
   "outputs": [],
   "source": [
    "\n",
    "# predict on leaderboard data\n",
    "lb_data[\"pred\"] = model.predict_proba(preprocessor.transform(X_lb))[:, 1]\n",
    "\n",
    "#create a boolean prediction solution\n",
    "lb_data[\"connected\"] = lb_data[\"pred\"] > .5"
   ]
  },
  {
   "cell_type": "code",
   "execution_count": 86,
   "metadata": {},
   "outputs": [],
   "source": [
    "#columns should be ID, connected\n",
    "submission_data = lb_data.filter(['ID','connected'])"
   ]
  },
  {
   "cell_type": "code",
   "execution_count": 87,
   "metadata": {},
   "outputs": [],
   "source": [
    "import os\n",
    "os.chdir(r\"C:\\Users\\danie\\OneDrive\\Desktop\\Fall2023\\ELEC478\\Competition\")"
   ]
  },
  {
   "cell_type": "code",
   "execution_count": 88,
   "metadata": {},
   "outputs": [],
   "source": [
    "#writing csv files\n",
    "submission_data.to_csv('submission_14.csv',index=False)"
   ]
  }
 ],
 "metadata": {
  "kernelspec": {
   "display_name": "base",
   "language": "python",
   "name": "python3"
  },
  "language_info": {
   "codemirror_mode": {
    "name": "ipython",
    "version": 3
   },
   "file_extension": ".py",
   "mimetype": "text/x-python",
   "name": "python",
   "nbconvert_exporter": "python",
   "pygments_lexer": "ipython3",
   "version": "3.9.13"
  }
 },
 "nbformat": 4,
 "nbformat_minor": 2
}
