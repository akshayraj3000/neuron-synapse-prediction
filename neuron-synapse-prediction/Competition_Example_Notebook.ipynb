{
 "cells": [
  {
   "cell_type": "markdown",
   "id": "0a38a23b",
   "metadata": {},
   "source": [
    "# Example Notebook: Neuron Synapse Competition"
   ]
  },
  {
   "cell_type": "markdown",
   "id": "66105ff6",
   "metadata": {},
   "source": [
    "## Load in and Wrangle Training Data"
   ]
  },
  {
   "cell_type": "code",
   "execution_count": 16,
   "id": "e2237b6d",
   "metadata": {},
   "outputs": [],
   "source": [
    "import pandas as pd\n",
    "import numpy as np\n",
    "import matplotlib.pyplot as plt\n",
    "import seaborn as sns\n",
    "\n",
    "#load in training data on each potential synapse\n",
    "data = pd.read_csv(\"./train_data.csv\")\n",
    "\n",
    "#load in additional features for each neuron\n",
    "feature_weights = pd.read_csv(\"./feature_weights.csv\")\n",
    "morph_embeddings = pd.read_csv(\"./morph_embeddings.csv\")"
   ]
  },
  {
   "cell_type": "markdown",
   "id": "c4070b48",
   "metadata": {},
   "source": [
    "#### Basic info on these dataframes"
   ]
  },
  {
   "cell_type": "code",
   "execution_count": 17,
   "id": "21377c2f",
   "metadata": {},
   "outputs": [
    {
     "name": "stdout",
     "output_type": "stream",
     "text": [
      "Main Dataframe Size: (185832, 30)\n",
      "\n",
      "Main Dataframe:\n",
      "<class 'pandas.core.frame.DataFrame'>\n",
      "RangeIndex: 185832 entries, 0 to 185831\n",
      "Data columns (total 30 columns):\n",
      " #   Column                          Non-Null Count   Dtype  \n",
      "---  ------                          --------------   -----  \n",
      " 0   ID                              185832 non-null  int64  \n",
      " 1   axonal_coor_x                   185832 non-null  int64  \n",
      " 2   axonal_coor_y                   185832 non-null  int64  \n",
      " 3   axonal_coor_z                   185832 non-null  int64  \n",
      " 4   dendritic_coor_x                185832 non-null  int64  \n",
      " 5   dendritic_coor_y                185832 non-null  int64  \n",
      " 6   dendritic_coor_z                185832 non-null  int64  \n",
      " 7   adp_dist                        185832 non-null  float64\n",
      " 8   post_skeletal_distance_to_soma  185832 non-null  float64\n",
      " 9   pre_skeletal_distance_to_soma   185832 non-null  float64\n",
      " 10  pre_oracle                      185832 non-null  float64\n",
      " 11  pre_test_score                  185832 non-null  float64\n",
      " 12  pre_rf_x                        185832 non-null  float64\n",
      " 13  pre_rf_y                        185832 non-null  float64\n",
      " 14  post_oracle                     185832 non-null  float64\n",
      " 15  post_test_score                 185832 non-null  float64\n",
      " 16  post_rf_x                       185832 non-null  float64\n",
      " 17  post_rf_y                       185832 non-null  float64\n",
      " 18  compartment                     185832 non-null  object \n",
      " 19  pre_brain_area                  185832 non-null  object \n",
      " 20  post_brain_area                 185832 non-null  object \n",
      " 21  pre_nucleus_x                   185832 non-null  int64  \n",
      " 22  pre_nucleus_y                   185832 non-null  int64  \n",
      " 23  pre_nucleus_z                   185832 non-null  int64  \n",
      " 24  post_nucleus_x                  185832 non-null  int64  \n",
      " 25  post_nucleus_y                  185832 non-null  int64  \n",
      " 26  post_nucleus_z                  185832 non-null  int64  \n",
      " 27  pre_nucleus_id                  185832 non-null  int64  \n",
      " 28  post_nucleus_id                 185832 non-null  int64  \n",
      " 29  connected                       185832 non-null  bool   \n",
      "dtypes: bool(1), float64(11), int64(15), object(3)\n",
      "memory usage: 41.3+ MB\n",
      "\n",
      "Feature Weights Size: (2692, 513)\n",
      "\n",
      "Feature Weights:\n",
      "<class 'pandas.core.frame.DataFrame'>\n",
      "RangeIndex: 2692 entries, 0 to 2691\n",
      "Columns: 513 entries, nucleus_id to feature_weight_511\n",
      "dtypes: float64(512), int64(1)\n",
      "memory usage: 10.5 MB\n",
      "\n",
      "Morphological Embeddings Size: (2667, 33)\n",
      "\n",
      "Morphological Embeddings:\n",
      "<class 'pandas.core.frame.DataFrame'>\n",
      "RangeIndex: 2667 entries, 0 to 2666\n",
      "Columns: 33 entries, nucleus_id to morph_emb_31\n",
      "dtypes: float64(32), int64(1)\n",
      "memory usage: 687.7 KB\n"
     ]
    }
   ],
   "source": [
    "print(\"Main Dataframe Size:\",data.shape)\n",
    "print(\"\\nMain Dataframe:\")\n",
    "data.info()\n",
    "\n",
    "print(\"\\nFeature Weights Size:\",feature_weights.shape)\n",
    "print(\"\\nFeature Weights:\")\n",
    "feature_weights.info(verbose=False)\n",
    "\n",
    "print(\"\\nMorphological Embeddings Size:\",morph_embeddings.shape)\n",
    "print(\"\\nMorphological Embeddings:\")\n",
    "morph_embeddings.info(verbose=False)"
   ]
  },
  {
   "cell_type": "markdown",
   "id": "9157b5f4",
   "metadata": {},
   "source": [
    "See the documentation for additional information on these features.  The main dataframe contains features for each potential synapse (each row).  The outcome to predict is 'connected'.  Note that many of the raw features in this dataframe will not be directly useful for prediction (e.g. x,y,z coordiantes, pre- and post-synapse neuron ID and etc.).  You will need to creatively engineer new features that will be more useful for prediction.\n",
    "\n",
    "The additional information on feature weights and morphological embeddings are given for each separate neuron (the neuron ID is matched with that in the main dataframe).  These will need to be merged with the other data to create training and test sets. "
   ]
  },
  {
   "cell_type": "markdown",
   "id": "49737cbf",
   "metadata": {},
   "source": [
    "#### Merge Data"
   ]
  },
  {
   "cell_type": "markdown",
   "id": "2b83752d",
   "metadata": {},
   "source": [
    "Before merging, we concatenate the feature weights and morphological embeddings into np.array's to decrease memory usage."
   ]
  },
  {
   "cell_type": "code",
   "execution_count": 18,
   "id": "2a78bac9",
   "metadata": {},
   "outputs": [],
   "source": [
    "# join all feature_weight_i columns into a single np.array column\n",
    "feature_weights[\"feature_weights\"] = (\n",
    "    feature_weights.filter(regex=\"feature_weight_\")\n",
    "    .sort_index(axis=1)\n",
    "    .apply(lambda x: np.array(x), axis=1)\n",
    ")\n",
    "# delete the feature_weight_i columns\n",
    "feature_weights.drop(\n",
    "    feature_weights.filter(regex=\"feature_weight_\").columns, axis=1, inplace=True\n",
    ")\n",
    "\n",
    "# join all morph_embed_i columns into a single np.array column\n",
    "morph_embeddings[\"morph_embeddings\"] = (\n",
    "    morph_embeddings.filter(regex=\"morph_emb_\")\n",
    "    .sort_index(axis=1)\n",
    "    .apply(lambda x: np.array(x), axis=1)\n",
    ")\n",
    "# delete the morph_embed_i columns\n",
    "morph_embeddings.drop(\n",
    "    morph_embeddings.filter(regex=\"morph_emb_\").columns, axis=1, inplace=True\n",
    ")"
   ]
  },
  {
   "cell_type": "code",
   "execution_count": 19,
   "id": "3f87211b",
   "metadata": {},
   "outputs": [],
   "source": [
    "data = (\n",
    "    data.merge(\n",
    "        feature_weights.rename(columns=lambda x: \"pre_\" + x), \n",
    "        how=\"left\", \n",
    "        validate=\"m:1\",\n",
    "        copy=False,\n",
    "    )\n",
    "    .merge(\n",
    "        feature_weights.rename(columns=lambda x: \"post_\" + x),\n",
    "        how=\"left\",\n",
    "        validate=\"m:1\",\n",
    "        copy=False,\n",
    "    )\n",
    "    .merge(\n",
    "        morph_embeddings.rename(columns=lambda x: \"pre_\" + x),\n",
    "        how=\"left\",\n",
    "        validate=\"m:1\",\n",
    "        copy=False,\n",
    "    )\n",
    "    .merge(\n",
    "        morph_embeddings.rename(columns=lambda x: \"post_\" + x),\n",
    "        how=\"left\",\n",
    "        validate=\"m:1\",\n",
    "        copy=False,\n",
    "    )\n",
    ")"
   ]
  },
  {
   "cell_type": "code",
   "execution_count": 20,
   "id": "210ce030",
   "metadata": {},
   "outputs": [
    {
     "name": "stdout",
     "output_type": "stream",
     "text": [
      "Data Size: (185832, 34)\n",
      "\n",
      "Data:\n",
      "<class 'pandas.core.frame.DataFrame'>\n",
      "Int64Index: 185832 entries, 0 to 185831\n",
      "Data columns (total 34 columns):\n",
      " #   Column                          Non-Null Count   Dtype  \n",
      "---  ------                          --------------   -----  \n",
      " 0   ID                              185832 non-null  int64  \n",
      " 1   axonal_coor_x                   185832 non-null  int64  \n",
      " 2   axonal_coor_y                   185832 non-null  int64  \n",
      " 3   axonal_coor_z                   185832 non-null  int64  \n",
      " 4   dendritic_coor_x                185832 non-null  int64  \n",
      " 5   dendritic_coor_y                185832 non-null  int64  \n",
      " 6   dendritic_coor_z                185832 non-null  int64  \n",
      " 7   adp_dist                        185832 non-null  float64\n",
      " 8   post_skeletal_distance_to_soma  185832 non-null  float64\n",
      " 9   pre_skeletal_distance_to_soma   185832 non-null  float64\n",
      " 10  pre_oracle                      185832 non-null  float64\n",
      " 11  pre_test_score                  185832 non-null  float64\n",
      " 12  pre_rf_x                        185832 non-null  float64\n",
      " 13  pre_rf_y                        185832 non-null  float64\n",
      " 14  post_oracle                     185832 non-null  float64\n",
      " 15  post_test_score                 185832 non-null  float64\n",
      " 16  post_rf_x                       185832 non-null  float64\n",
      " 17  post_rf_y                       185832 non-null  float64\n",
      " 18  compartment                     185832 non-null  object \n",
      " 19  pre_brain_area                  185832 non-null  object \n",
      " 20  post_brain_area                 185832 non-null  object \n",
      " 21  pre_nucleus_x                   185832 non-null  int64  \n",
      " 22  pre_nucleus_y                   185832 non-null  int64  \n",
      " 23  pre_nucleus_z                   185832 non-null  int64  \n",
      " 24  post_nucleus_x                  185832 non-null  int64  \n",
      " 25  post_nucleus_y                  185832 non-null  int64  \n",
      " 26  post_nucleus_z                  185832 non-null  int64  \n",
      " 27  pre_nucleus_id                  185832 non-null  int64  \n",
      " 28  post_nucleus_id                 185832 non-null  int64  \n",
      " 29  connected                       185832 non-null  bool   \n",
      " 30  pre_feature_weights             185832 non-null  object \n",
      " 31  post_feature_weights            185832 non-null  object \n",
      " 32  pre_morph_embeddings            138123 non-null  object \n",
      " 33  post_morph_embeddings           185832 non-null  object \n",
      "dtypes: bool(1), float64(11), int64(15), object(7)\n",
      "memory usage: 48.4+ MB\n"
     ]
    }
   ],
   "source": [
    "print(\"Data Size:\",data.shape)\n",
    "print(\"\\nData:\")\n",
    "data.info()"
   ]
  },
  {
   "cell_type": "markdown",
   "id": "798015c5",
   "metadata": {},
   "source": [
    "## Basic Exploratory Analysis"
   ]
  },
  {
   "cell_type": "code",
   "execution_count": 21,
   "id": "bcdb53dc",
   "metadata": {},
   "outputs": [],
   "source": [
    "import numpy as np\n",
    "import pandas as pd\n",
    "import seaborn as sns\n",
    "import matplotlib.pyplot as plt\n",
    "from tqdm import tqdm\n",
    "from sklearn.metrics.pairwise import cosine_similarity"
   ]
  },
  {
   "cell_type": "markdown",
   "id": "2dc227ee",
   "metadata": {},
   "source": [
    "### Unbalanced Data"
   ]
  },
  {
   "cell_type": "markdown",
   "id": "660421ac",
   "metadata": {},
   "source": [
    "The outcomes, the adps that form a connection or synapse ('connected'==True) and the adps that do not synapse ('connected'==False), are unbalanced:"
   ]
  },
  {
   "cell_type": "code",
   "execution_count": 22,
   "id": "13ff436c",
   "metadata": {},
   "outputs": [
    {
     "name": "stdout",
     "output_type": "stream",
     "text": [
      "Number Connected (Synapses): 1366\n",
      "\n",
      "Number Not Connected: 184466\n"
     ]
    }
   ],
   "source": [
    "print(\"Number Connected (Synapses):\",data['connected'].sum())\n",
    "\n",
    "print(\"\\nNumber Not Connected:\",(~data['connected']).sum())"
   ]
  },
  {
   "cell_type": "markdown",
   "id": "1abf1022",
   "metadata": {},
   "source": [
    "The number of presynaptic neurons and postsynaptic neurons are also unbalanced:"
   ]
  },
  {
   "cell_type": "code",
   "execution_count": 23,
   "id": "44a8917f",
   "metadata": {},
   "outputs": [
    {
     "name": "stdout",
     "output_type": "stream",
     "text": [
      "All the adps are from 77 pre- neurons and 2663 post- neurons.\n"
     ]
    }
   ],
   "source": [
    "print(f\"All the adps are from {data['pre_nucleus_id'].nunique()} pre- neurons and {data['post_nucleus_id'].nunique()} post- neurons.\")"
   ]
  },
  {
   "cell_type": "markdown",
   "id": "e8c02cc6",
   "metadata": {},
   "source": [
    "### Exploration: Synaptic Proximity Distance "
   ]
  },
  {
   "cell_type": "code",
   "execution_count": 9,
   "id": "a6163e8c",
   "metadata": {},
   "outputs": [
    {
     "data": {
      "text/plain": [
       "<seaborn.axisgrid.FacetGrid at 0x1aadc1d8a30>"
      ]
     },
     "execution_count": 9,
     "metadata": {},
     "output_type": "execute_result"
    },
    {
     "data": {
      "image/png": "[encoded data removed]",
      "text/plain": [
       "<Figure size 500x500 with 1 Axes>"
      ]
     },
     "metadata": {},
     "output_type": "display_data"
    }
   ],
   "source": [
    "sns.catplot(data=data, x='connected', y='adp_dist', kind='boxen')"
   ]
  },
  {
   "cell_type": "markdown",
   "id": "80f50d61",
   "metadata": {},
   "source": [
    "Neurons that form a synpase ('connected') tend to be closer together (smaller distance between pre- and post-synaptic ADP - 'adp_dist')."
   ]
  },
  {
   "cell_type": "markdown",
   "id": "1d6717c6",
   "metadata": {},
   "source": [
    "## Example: Basic Feature Engineering"
   ]
  },
  {
   "cell_type": "markdown",
   "id": "5d306806",
   "metadata": {},
   "source": [
    "### Exploration: Neurons that form a synpase tend to have similar functional neural responses"
   ]
  },
  {
   "cell_type": "markdown",
   "id": "97bc6105",
   "metadata": {},
   "source": [
    "Neurons in the visual cortex each respond differently to visual stimuli.  This is often captured by a neuron's tuning function, or the visual features that drive a neuron to fire.  The feature weight vectors ('feature_weights') are a kind of summary of each neuron's tuning function.  Neuroscience suggests that neurons with similar tuning are slightly more likely to be connected.  To assess this, we would need to engineer a new feature that capture the tuning similarity of the pre- and post- synaptic neurons for each ADP.  (See the documentation for more details).  "
   ]
  },
  {
   "cell_type": "code",
   "execution_count": 24,
   "id": "e6679b5c",
   "metadata": {},
   "outputs": [],
   "source": [
    "#cosine similarity function\n",
    "def row_feature_similarity(row):\n",
    "    pre = row[\"pre_feature_weights\"]\n",
    "    post = row[\"post_feature_weights\"]\n",
    "    return (pre * post).sum() / (np.linalg.norm(pre) * np.linalg.norm(post))"
   ]
  },
  {
   "cell_type": "code",
   "execution_count": 25,
   "id": "3388f91f",
   "metadata": {},
   "outputs": [],
   "source": [
    "# compute the cosine similarity between the pre- and post- feature weights\n",
    "data[\"fw_similarity\"] = data.apply(row_feature_similarity, axis=1)"
   ]
  },
  {
   "cell_type": "code",
   "execution_count": 12,
   "id": "2bd80efe",
   "metadata": {},
   "outputs": [
    {
     "data": {
      "text/plain": [
       "<seaborn.axisgrid.FacetGrid at 0x1aadeadceb0>"
      ]
     },
     "execution_count": 12,
     "metadata": {},
     "output_type": "execute_result"
    },
    {
     "data": {
      "image/png": "[encoded data removed]",
      "text/plain": [
       "<Figure size 500x500 with 1 Axes>"
      ]
     },
     "metadata": {},
     "output_type": "display_data"
    }
   ],
   "source": [
    "#visualize these results\n",
    "sns.catplot(data=data, x='connected', y='fw_similarity', kind='boxen')"
   ]
  },
  {
   "cell_type": "markdown",
   "id": "dd7bad1b",
   "metadata": {},
   "source": [
    "## Log ADP distance"
   ]
  },
  {
   "cell_type": "code",
   "execution_count": 26,
   "id": "8d0887ce",
   "metadata": {},
   "outputs": [],
   "source": [
    "data['log_adp_dist'] = np.log(data['adp_dist'])"
   ]
  },
  {
   "cell_type": "code",
   "execution_count": 14,
   "id": "91e99ab7",
   "metadata": {},
   "outputs": [
    {
     "data": {
      "text/plain": [
       "<seaborn.axisgrid.FacetGrid at 0x1aaf386af10>"
      ]
     },
     "execution_count": 14,
     "metadata": {},
     "output_type": "execute_result"
    },
    {
     "data": {
      "image/png": "[encoded data removed]",
      "text/plain": [
       "<Figure size 500x500 with 1 Axes>"
      ]
     },
     "metadata": {},
     "output_type": "display_data"
    }
   ],
   "source": [
    "sns.catplot(data=data, x='connected', y='log_adp_dist', kind='boxen')"
   ]
  },
  {
   "cell_type": "markdown",
   "id": "a24770bf",
   "metadata": {},
   "source": [
    "## Dist to Soma"
   ]
  },
  {
   "cell_type": "code",
   "execution_count": 15,
   "id": "b16f31a8",
   "metadata": {},
   "outputs": [
    {
     "data": {
      "text/plain": [
       "<seaborn.axisgrid.FacetGrid at 0x1aadf4b6580>"
      ]
     },
     "execution_count": 15,
     "metadata": {},
     "output_type": "execute_result"
    },
    {
     "data": {
      "image/png": "[encoded data removed]",
      "text/plain": [
       "<Figure size 500x500 with 1 Axes>"
      ]
     },
     "metadata": {},
     "output_type": "display_data"
    }
   ],
   "source": [
    "sns.catplot(data=data, x='connected', y='pre_skeletal_distance_to_soma', kind='boxen')\n"
   ]
  },
  {
   "cell_type": "code",
   "execution_count": 27,
   "id": "e24fd1a3",
   "metadata": {},
   "outputs": [
    {
     "name": "stderr",
     "output_type": "stream",
     "text": [
      "c:\\Users\\danie\\anaconda3\\lib\\site-packages\\pandas\\core\\arraylike.py:397: RuntimeWarning: divide by zero encountered in log\n",
      "  result = getattr(ufunc, method)(*inputs, **kwargs)\n",
      "c:\\Users\\danie\\anaconda3\\lib\\site-packages\\numpy\\lib\\function_base.py:4527: RuntimeWarning: invalid value encountered in subtract\n",
      "  diff_b_a = subtract(b, a)\n"
     ]
    },
    {
     "data": {
      "text/plain": [
       "<seaborn.axisgrid.FacetGrid at 0x254fa37bac0>"
      ]
     },
     "execution_count": 27,
     "metadata": {},
     "output_type": "execute_result"
    },
    {
     "data": {
      "image/png": "[encoded data removed]",
      "text/plain": [
       "<Figure size 500x500 with 1 Axes>"
      ]
     },
     "metadata": {},
     "output_type": "display_data"
    }
   ],
   "source": [
    "data['log_pre_skeletal_distance_to_soma'] = np.log(data['post_skeletal_distance_to_soma'])\n",
    "sns.catplot(data=data, x='connected', y='log_pre_skeletal_distance_to_soma', kind='boxen')"
   ]
  },
  {
   "cell_type": "code",
   "execution_count": 17,
   "id": "8d8e6d0b",
   "metadata": {},
   "outputs": [
    {
     "data": {
      "text/plain": [
       "<seaborn.axisgrid.FacetGrid at 0x1aaf3839f70>"
      ]
     },
     "execution_count": 17,
     "metadata": {},
     "output_type": "execute_result"
    },
    {
     "data": {
      "image/png": "[encoded data removed]",
      "text/plain": [
       "<Figure size 500x500 with 1 Axes>"
      ]
     },
     "metadata": {},
     "output_type": "display_data"
    }
   ],
   "source": [
    "sns.catplot(data=data, x='connected', y='post_skeletal_distance_to_soma', kind='boxen')"
   ]
  },
  {
   "cell_type": "code",
   "execution_count": 28,
   "id": "c6db6f04",
   "metadata": {},
   "outputs": [
    {
     "name": "stderr",
     "output_type": "stream",
     "text": [
      "c:\\Users\\danie\\anaconda3\\lib\\site-packages\\pandas\\core\\arraylike.py:397: RuntimeWarning: divide by zero encountered in log\n",
      "  result = getattr(ufunc, method)(*inputs, **kwargs)\n"
     ]
    }
   ],
   "source": [
    "data['log_post_skeletal_distance_to_soma'] = np.log(data['post_skeletal_distance_to_soma'])"
   ]
  },
  {
   "cell_type": "code",
   "execution_count": 19,
   "id": "9c6c44b8",
   "metadata": {},
   "outputs": [
    {
     "name": "stderr",
     "output_type": "stream",
     "text": [
      "c:\\Users\\danie\\anaconda3\\lib\\site-packages\\numpy\\lib\\function_base.py:4527: RuntimeWarning: invalid value encountered in subtract\n",
      "  diff_b_a = subtract(b, a)\n"
     ]
    },
    {
     "data": {
      "text/plain": [
       "<seaborn.axisgrid.FacetGrid at 0x1aadea1ff70>"
      ]
     },
     "execution_count": 19,
     "metadata": {},
     "output_type": "execute_result"
    },
    {
     "data": {
      "image/png": "[encoded data removed]",
      "text/plain": [
       "<Figure size 500x500 with 1 Axes>"
      ]
     },
     "metadata": {},
     "output_type": "display_data"
    }
   ],
   "source": [
    "sns.catplot(data=data, x='connected', y='log_post_skeletal_distance_to_soma', kind='boxen')"
   ]
  },
  {
   "cell_type": "markdown",
   "id": "01035751",
   "metadata": {},
   "source": [
    "There may be a very, very slight difference, but we can investigate this further."
   ]
  },
  {
   "cell_type": "markdown",
   "id": "106744b9",
   "metadata": {},
   "source": [
    "### Exploration: Similar functional nerual responses by projection region in the brain"
   ]
  },
  {
   "cell_type": "markdown",
   "id": "7fe3de1b",
   "metadata": {},
   "source": [
    "Projection regions indicate the brain regions where the pre-synaptic and post-synaptic neurons are located in the brain.  Each brain region is responsible for different neural functions.  We can engineer a new feature to capture the projection regions and perhaps see if similar neural tuning is affiliated with connecitons in particular projection regions.  For example, it has been shown that connected neurons have slightly more similar neural tuning than unconnected neurons in the V1->V1 projection region."
   ]
  },
  {
   "cell_type": "code",
   "execution_count": 29,
   "id": "29908dfb",
   "metadata": {},
   "outputs": [],
   "source": [
    "# generate projection group as pre->post\n",
    "data[\"projection_group\"] = (\n",
    "    data[\"pre_brain_area\"].astype(str)\n",
    "    + \"_to_\"\n",
    "    + data[\"post_brain_area\"].astype(str)\n",
    ")"
   ]
  },
  {
   "cell_type": "code",
   "execution_count": 30,
   "id": "e7b83b7b",
   "metadata": {},
   "outputs": [
    {
     "data": {
      "text/plain": [
       "<seaborn.axisgrid.FacetGrid at 0x254835b8df0>"
      ]
     },
     "execution_count": 30,
     "metadata": {},
     "output_type": "execute_result"
    },
    {
     "data": {
      "image/png": "[encoded data removed]",
      "text/plain": [
       "<Figure size 884.875x800 with 4 Axes>"
      ]
     },
     "metadata": {},
     "output_type": "display_data"
    }
   ],
   "source": [
    "# check the distribution of the cosine similarity for projections groups with more than 100 synapses\n",
    "projection_group_counts = data.query('connected')['projection_group'].value_counts()\n",
    "projection_group_counts = projection_group_counts[projection_group_counts > 100].index\n",
    "sns.displot(\n",
    "    data=data.query('projection_group in @projection_group_counts'), \n",
    "    x='fw_similarity', \n",
    "    hue='connected', \n",
    "    row='projection_group',\n",
    "    common_norm=False, \n",
    "    stat='probability',\n",
    "    binwidth=.02,\n",
    "    height=2,\n",
    "    aspect=4,\n",
    "    facet_kws={'sharey': False}\n",
    ")"
   ]
  },
  {
   "cell_type": "code",
   "execution_count": 31,
   "id": "1582585b",
   "metadata": {},
   "outputs": [
    {
     "data": {
      "image/png": "[encoded data removed]",
      "text/plain": [
       "<Figure size 584.875x500 with 1 Axes>"
      ]
     },
     "metadata": {},
     "output_type": "display_data"
    }
   ],
   "source": [
    "sns.catplot(data=data, x='projection_group', y='fw_similarity', hue='connected', kind='bar', alpha=.7)\n",
    "plt.tight_layout()\n",
    "plt.legend(bbox_to_anchor=(1.05, 1), loc=2, borderaxespad=0.);\n",
    "plt.xticks(rotation=90);"
   ]
  },
  {
   "cell_type": "markdown",
   "id": "080ec5af",
   "metadata": {},
   "source": [
    "## One hot encoding"
   ]
  },
  {
   "cell_type": "code",
   "execution_count": 32,
   "id": "3c203404",
   "metadata": {},
   "outputs": [
    {
     "data": {
      "text/plain": [
       "array(['RL_to_RL', 'RL_to_V1', 'RL_to_AL', 'AL_to_V1', 'AL_to_AL',\n",
       "       'AL_to_RL', 'V1_to_V1', 'V1_to_RL', 'V1_to_AL'], dtype=object)"
      ]
     },
     "execution_count": 32,
     "metadata": {},
     "output_type": "execute_result"
    }
   ],
   "source": [
    "data[\"projection_group\"].unique()"
   ]
  },
  {
   "cell_type": "code",
   "execution_count": 33,
   "id": "16b88c84",
   "metadata": {},
   "outputs": [],
   "source": [
    "#data['pre_brain_area'].unique()"
   ]
  },
  {
   "cell_type": "code",
   "execution_count": 34,
   "id": "68225da2",
   "metadata": {},
   "outputs": [],
   "source": [
    "#data['post_brain_area'].unique()"
   ]
  },
  {
   "cell_type": "code",
   "execution_count": 35,
   "id": "dba97aed",
   "metadata": {},
   "outputs": [],
   "source": [
    "from sklearn.preprocessing import OneHotEncoder, LabelBinarizer"
   ]
  },
  {
   "cell_type": "code",
   "execution_count": 36,
   "id": "d949f0a1",
   "metadata": {},
   "outputs": [],
   "source": [
    "encoder = LabelBinarizer()\n",
    "\n",
    "one_hot_encoded1 = encoder.fit_transform(data[\"projection_group\"])\n",
    "\n",
    "pre_post_brain_area_encoders = list(encoder.classes_)\n",
    "oh_df = pd.DataFrame(one_hot_encoded1, columns=pre_post_brain_area_encoders)\n",
    "data[pre_post_brain_area_encoders] = oh_df"
   ]
  },
  {
   "cell_type": "code",
   "execution_count": 37,
   "id": "273e1c1a",
   "metadata": {},
   "outputs": [
    {
     "data": {
      "text/plain": [
       "array(['axon', 'oblique', 'apical', 'basal', 'soma', 'apical_tuft',\n",
       "       'apical_shaft'], dtype=object)"
      ]
     },
     "execution_count": 37,
     "metadata": {},
     "output_type": "execute_result"
    }
   ],
   "source": [
    "data[\"compartment\"].unique()"
   ]
  },
  {
   "cell_type": "code",
   "execution_count": 38,
   "id": "a289d683",
   "metadata": {},
   "outputs": [],
   "source": [
    "encoder = LabelBinarizer()\n",
    "\n",
    "one_hot_encoded2 = encoder.fit_transform(data[\"compartment\"])\n",
    "\n",
    "compartment_encoders = list(encoder.classes_)\n",
    "oh2_df = pd.DataFrame(one_hot_encoded2, columns=compartment_encoders)\n",
    "data[compartment_encoders] = oh2_df"
   ]
  },
  {
   "cell_type": "code",
   "execution_count": 39,
   "id": "ab3932b9",
   "metadata": {},
   "outputs": [
    {
     "data": {
      "text/plain": [
       "Index(['ID', 'axonal_coor_x', 'axonal_coor_y', 'axonal_coor_z',\n",
       "       'dendritic_coor_x', 'dendritic_coor_y', 'dendritic_coor_z', 'adp_dist',\n",
       "       'post_skeletal_distance_to_soma', 'pre_skeletal_distance_to_soma',\n",
       "       'pre_oracle', 'pre_test_score', 'pre_rf_x', 'pre_rf_y', 'post_oracle',\n",
       "       'post_test_score', 'post_rf_x', 'post_rf_y', 'compartment',\n",
       "       'pre_brain_area', 'post_brain_area', 'pre_nucleus_x', 'pre_nucleus_y',\n",
       "       'pre_nucleus_z', 'post_nucleus_x', 'post_nucleus_y', 'post_nucleus_z',\n",
       "       'pre_nucleus_id', 'post_nucleus_id', 'connected', 'pre_feature_weights',\n",
       "       'post_feature_weights', 'pre_morph_embeddings', 'post_morph_embeddings',\n",
       "       'fw_similarity', 'log_adp_dist', 'log_pre_skeletal_distance_to_soma',\n",
       "       'log_post_skeletal_distance_to_soma', 'projection_group', 'AL_to_AL',\n",
       "       'AL_to_RL', 'AL_to_V1', 'RL_to_AL', 'RL_to_RL', 'RL_to_V1', 'V1_to_AL',\n",
       "       'V1_to_RL', 'V1_to_V1', 'apical', 'apical_shaft', 'apical_tuft', 'axon',\n",
       "       'basal', 'oblique', 'soma'],\n",
       "      dtype='object')"
      ]
     },
     "execution_count": 39,
     "metadata": {},
     "output_type": "execute_result"
    }
   ],
   "source": [
    "data.columns"
   ]
  },
  {
   "cell_type": "markdown",
   "id": "2dc827ab",
   "metadata": {},
   "source": [
    "We have shown some simple examples of how to engineer new features and also shown that these are related to neuron connectivity.  You will likley need to explore and engineer many other possible features in this competition.  "
   ]
  },
  {
   "cell_type": "markdown",
   "id": "3a78d7f6",
   "metadata": {},
   "source": [
    "## Example: Simple Logistic Regression"
   ]
  },
  {
   "cell_type": "markdown",
   "id": "937655df",
   "metadata": {},
   "source": [
    "Now that we have shown some features are associated with neuron connectivity, we fit a simple calssification model: Logistic Regression."
   ]
  },
  {
   "cell_type": "code",
   "execution_count": 40,
   "id": "54850f42",
   "metadata": {},
   "outputs": [],
   "source": [
    "# logistic regression model (connected ~ fw_similarity + adp)\n",
    "from sklearn.linear_model import LogisticRegression\n",
    "from sklearn.metrics import balanced_accuracy_score, accuracy_score, confusion_matrix\n",
    "from sklearn.model_selection import train_test_split\n",
    "from sklearn.preprocessing import StandardScaler, MinMaxScaler\n",
    "from sklearn.pipeline import Pipeline\n",
    "\n"
   ]
  },
  {
   "cell_type": "code",
   "execution_count": 41,
   "id": "15bff04d",
   "metadata": {},
   "outputs": [
    {
     "name": "stderr",
     "output_type": "stream",
     "text": [
      "c:\\Users\\danie\\anaconda3\\lib\\site-packages\\sklearn\\utils\\validation.py:1858: FutureWarning: Feature names only support names that are all strings. Got feature names with dtypes: ['str', 'str_']. An error will be raised in 1.2.\n",
      "  warnings.warn(\n",
      "c:\\Users\\danie\\anaconda3\\lib\\site-packages\\sklearn\\utils\\validation.py:1858: FutureWarning: Feature names only support names that are all strings. Got feature names with dtypes: ['str', 'str_']. An error will be raised in 1.2.\n",
      "  warnings.warn(\n"
     ]
    },
    {
     "name": "stdout",
     "output_type": "stream",
     "text": [
      "accuracy: 0.9927085855732236\n"
     ]
    },
    {
     "name": "stderr",
     "output_type": "stream",
     "text": [
      "c:\\Users\\danie\\anaconda3\\lib\\site-packages\\sklearn\\utils\\validation.py:1858: FutureWarning: Feature names only support names that are all strings. Got feature names with dtypes: ['str', 'str_']. An error will be raised in 1.2.\n",
      "  warnings.warn(\n"
     ]
    }
   ],
   "source": [
    "# split into a train and test set \n",
    "#(Even though we're working with the competition training set, you may want to have your own internal train and test sets.)\n",
    "train_data, test_data = train_test_split(data, test_size=0.2, random_state=1)\n",
    "\n",
    "\n",
    "# create pipeline\n",
    "pipe = Pipeline(\n",
    "  [(\"scaler\", MinMaxScaler()), (\"model\", LogisticRegression(random_state=42, penalty = 'l1', solver='saga'))]\n",
    ")\n",
    "\n",
    "vars = [\"fw_similarity\", \"adp_dist\", \"log_adp_dist\", \"pre_skeletal_distance_to_soma\", \"post_skeletal_distance_to_soma\"]\n",
    "\n",
    "vars = vars + pre_post_brain_area_encoders + compartment_encoders# Encoder is sparse, regularization is recommended\n",
    "# fit model\n",
    "pipe.fit(train_data[vars], train_data[\"connected\"])\n",
    "\n",
    "# predict on test data\n",
    "test_data[\"pred\"] = pipe.predict_proba(test_data[vars])[:, 1]\n",
    "\n",
    "# compute accuracy\n",
    "print(f\"accuracy: {accuracy_score(test_data['connected'], test_data['pred'] > .5)}\")\n"
   ]
  },
  {
   "cell_type": "markdown",
   "id": "341f94fb",
   "metadata": {},
   "source": [
    "## SVM "
   ]
  },
  {
   "cell_type": "code",
   "execution_count": 50,
   "id": "40189134",
   "metadata": {},
   "outputs": [],
   "source": [
    "from sklearn.calibration import CalibratedClassifierCV\n",
    "from sklearn.svm import SVC"
   ]
  },
  {
   "cell_type": "code",
   "execution_count": 56,
   "id": "5d566376",
   "metadata": {},
   "outputs": [
    {
     "name": "stderr",
     "output_type": "stream",
     "text": [
      "c:\\Users\\danie\\anaconda3\\lib\\site-packages\\sklearn\\utils\\validation.py:1858: FutureWarning: Feature names only support names that are all strings. Got feature names with dtypes: ['str', 'str_']. An error will be raised in 1.2.\n",
      "  warnings.warn(\n",
      "c:\\Users\\danie\\anaconda3\\lib\\site-packages\\sklearn\\utils\\validation.py:1858: FutureWarning: Feature names only support names that are all strings. Got feature names with dtypes: ['str', 'str_']. An error will be raised in 1.2.\n",
      "  warnings.warn(\n",
      "c:\\Users\\danie\\anaconda3\\lib\\site-packages\\sklearn\\utils\\validation.py:1858: FutureWarning: Feature names only support names that are all strings. Got feature names with dtypes: ['str', 'str_']. An error will be raised in 1.2.\n",
      "  warnings.warn(\n"
     ]
    },
    {
     "name": "stdout",
     "output_type": "stream",
     "text": [
      "accuracy: 0.9927085855732236\n"
     ]
    }
   ],
   "source": [
    "# split into a train and test set \n",
    "#(Even though we're working with the competition training set, you may want to have your own internal train and test sets.)\n",
    "train_data, test_data = train_test_split(data, test_size=0.2, random_state=1)\n",
    "\n",
    "\n",
    "# create pipeline\n",
    "pipe = Pipeline(\n",
    "  [(\"scaler\", MinMaxScaler()), (\"model\",  CalibratedClassifierCV(SVC(kernel ='poly'),method= \"isotonic\"))]\n",
    ")\n",
    "\n",
    "vars = [\"fw_similarity\", \"adp_dist\", \"log_adp_dist\", \"pre_skeletal_distance_to_soma\", \"post_skeletal_distance_to_soma\"]\n",
    "\n",
    "vars = vars + pre_post_brain_area_encoders # Encoder is sparse, regularization is recommended\n",
    "# fit model\n",
    "pipe.fit(train_data[vars], train_data[\"connected\"])\n",
    "\n",
    "# predict on test data\n",
    "test_data[\"pred\"] = pipe.predict_proba(test_data[vars])[:, 1]\n",
    "\n",
    "# compute accuracy\n",
    "print(f\"accuracy: {accuracy_score(test_data['connected'], test_data['pred'] > .5)}\")"
   ]
  },
  {
   "cell_type": "markdown",
   "id": "9f213f61",
   "metadata": {},
   "source": [
    "## XGBoost?"
   ]
  },
  {
   "cell_type": "code",
   "execution_count": 126,
   "id": "cd8357ac",
   "metadata": {},
   "outputs": [],
   "source": [
    "import xgboost"
   ]
  },
  {
   "cell_type": "code",
   "execution_count": 138,
   "id": "2f91b614",
   "metadata": {},
   "outputs": [
    {
     "name": "stderr",
     "output_type": "stream",
     "text": [
      "c:\\Users\\danie\\anaconda3\\lib\\site-packages\\sklearn\\utils\\validation.py:1858: FutureWarning: Feature names only support names that are all strings. Got feature names with dtypes: ['str', 'str_']. An error will be raised in 1.2.\n",
      "  warnings.warn(\n",
      "c:\\Users\\danie\\anaconda3\\lib\\site-packages\\sklearn\\utils\\validation.py:1858: FutureWarning: Feature names only support names that are all strings. Got feature names with dtypes: ['str', 'str_']. An error will be raised in 1.2.\n",
      "  warnings.warn(\n"
     ]
    },
    {
     "name": "stdout",
     "output_type": "stream",
     "text": [
      "[03:38:54] WARNING: C:\\Users\\dev-admin\\croot2\\xgboost-split_1675461376218\\work\\src\\learner.cc:767: \n",
      "Parameters: { \"class_weight\" } are not used.\n",
      "\n",
      "accuracy: 0.7492937283073694\n"
     ]
    },
    {
     "name": "stderr",
     "output_type": "stream",
     "text": [
      "c:\\Users\\danie\\anaconda3\\lib\\site-packages\\sklearn\\utils\\validation.py:1858: FutureWarning: Feature names only support names that are all strings. Got feature names with dtypes: ['str', 'str_']. An error will be raised in 1.2.\n",
      "  warnings.warn(\n"
     ]
    }
   ],
   "source": [
    "# split into a train and test set \n",
    "#(Even though we're working with the competition training set, you may want to have your own internal train and test sets.)\n",
    "train_data, test_data = train_test_split(data, test_size=0.2, random_state=1)\n",
    "\n",
    "## Weighted XGBoost\n",
    "\n",
    "# Set class weights\n",
    "class_weights = {0: 1, 1: 10000}  # Class 0: 1, Class 1: 10\n",
    "\n",
    "\n",
    "# Set \"scale_pos_weight\" based on class balance\n",
    "pos_weight = sum(class_weights.values()) / sum(class_weights.keys())\n",
    "\n",
    "# create pipeline\n",
    "pipe = Pipeline(\n",
    "  [(\"scaler\", MinMaxScaler()), (\"model\", xgboost.XGBClassifier(random_state=42,scale_pos_weight=pos_weight, class_weight=class_weights))]\n",
    ")\n",
    "\n",
    "vars = [\"fw_similarity\", \"adp_dist\", \"log_adp_dist\", \"pre_skeletal_distance_to_soma\", \"post_skeletal_distance_to_soma\"]\n",
    "\n",
    "vars = vars + pre_post_brain_area_encoders # Encoder is sparse, regularization is recommended\n",
    "# fit model\n",
    "pipe.fit(train_data[vars], train_data[\"connected\"])\n",
    "\n",
    "# predict on test data\n",
    "test_data[\"pred\"] = pipe.predict_proba(test_data[vars])[:, 1]\n",
    "\n",
    "# compute accuracy\n",
    "print(f\"accuracy: {accuracy_score(test_data['connected'], test_data['pred'] > .5)}\")"
   ]
  },
  {
   "cell_type": "markdown",
   "id": "ccf75d5c",
   "metadata": {},
   "source": [
    "## Decision Trees"
   ]
  },
  {
   "cell_type": "code",
   "execution_count": 37,
   "id": "0de4353c",
   "metadata": {},
   "outputs": [],
   "source": [
    "from sklearn.tree import DecisionTreeClassifier"
   ]
  },
  {
   "cell_type": "code",
   "execution_count": 39,
   "id": "5f5781cf",
   "metadata": {},
   "outputs": [
    {
     "name": "stderr",
     "output_type": "stream",
     "text": [
      "c:\\Users\\danie\\anaconda3\\lib\\site-packages\\sklearn\\utils\\validation.py:1858: FutureWarning: Feature names only support names that are all strings. Got feature names with dtypes: ['str', 'str_']. An error will be raised in 1.2.\n",
      "  warnings.warn(\n",
      "c:\\Users\\danie\\anaconda3\\lib\\site-packages\\sklearn\\utils\\validation.py:1858: FutureWarning: Feature names only support names that are all strings. Got feature names with dtypes: ['str', 'str_']. An error will be raised in 1.2.\n",
      "  warnings.warn(\n"
     ]
    },
    {
     "name": "stdout",
     "output_type": "stream",
     "text": [
      "accuracy: 0.986466489089784\n"
     ]
    },
    {
     "name": "stderr",
     "output_type": "stream",
     "text": [
      "c:\\Users\\danie\\anaconda3\\lib\\site-packages\\sklearn\\utils\\validation.py:1858: FutureWarning: Feature names only support names that are all strings. Got feature names with dtypes: ['str', 'str_']. An error will be raised in 1.2.\n",
      "  warnings.warn(\n"
     ]
    }
   ],
   "source": [
    "# split into a train and test set \n",
    "#(Even though we're working with the competition training set, you may want to have your own internal train and test sets.)\n",
    "train_data, test_data = train_test_split(data, test_size=0.2, random_state=1)\n",
    "\n",
    "#WEIGHTS\n",
    "class_weights = {0: 1, 1: 10000}\n",
    "\n",
    "# create pipeline\n",
    "pipe = Pipeline(\n",
    "  [(\"scaler\", MinMaxScaler()), (\"model\", DecisionTreeClassifier(random_state=42, class_weight=class_weights))]\n",
    ")\n",
    "\n",
    "vars = [\"fw_similarity\", \"adp_dist\", \"log_adp_dist\", \"pre_skeletal_distance_to_soma\", \"post_skeletal_distance_to_soma\"]\n",
    "\n",
    "vars = vars + pre_post_brain_area_encoders \n",
    "# fit model\n",
    "pipe.fit(train_data[vars], train_data[\"connected\"])\n",
    "\n",
    "# predict on test data\n",
    "test_data[\"pred\"] = pipe.predict_proba(test_data[vars])[:, 1]\n",
    "\n",
    "# compute accuracy\n",
    "print(f\"accuracy: {accuracy_score(test_data['connected'], test_data['pred'] > .5)}\")\n"
   ]
  },
  {
   "cell_type": "markdown",
   "id": "2486a477",
   "metadata": {},
   "source": [
    "## Confusion Matrix"
   ]
  },
  {
   "cell_type": "markdown",
   "id": "ec2397d5",
   "metadata": {},
   "source": [
    "Wow.  This looks like terrific accuracy.  But, remember the data is unbalanced.  Let's check the confusion matrix."
   ]
  },
  {
   "cell_type": "code",
   "execution_count": 42,
   "id": "2b351fdd",
   "metadata": {},
   "outputs": [
    {
     "data": {
      "text/plain": [
       "array([[36896,     0],\n",
       "       [  271,     0]], dtype=int64)"
      ]
     },
     "execution_count": 42,
     "metadata": {},
     "output_type": "execute_result"
    }
   ],
   "source": [
    "confusion_matrix(test_data['connected'], test_data['pred'] > .5)"
   ]
  },
  {
   "cell_type": "markdown",
   "id": "e4faf555",
   "metadata": {},
   "source": [
    "The model always predicts not connected!  We need a new evaluation metric."
   ]
  },
  {
   "cell_type": "markdown",
   "id": "5157b7fb",
   "metadata": {},
   "source": [
    "### Balanced Accuracy Metric"
   ]
  },
  {
   "cell_type": "markdown",
   "id": "b83390f1",
   "metadata": {},
   "source": [
    "Sensitivity = True Positive Rate = True Positive / (True Positive + False Negative)\n",
    "Specificity = True Negative Rate = True Negative / (True Negative + False Positive)\n",
    "\n",
    "Balanced Accuracy = (Sensitivity + Specificity)/2"
   ]
  },
  {
   "cell_type": "code",
   "execution_count": 43,
   "id": "2481e7b8",
   "metadata": {},
   "outputs": [
    {
     "name": "stdout",
     "output_type": "stream",
     "text": [
      "balanced accuracy: 0.5\n"
     ]
    }
   ],
   "source": [
    "print(\n",
    "    f\"balanced accuracy: {balanced_accuracy_score(test_data['connected'], test_data['pred'] > .5)}\"\n",
    ")"
   ]
  },
  {
   "cell_type": "markdown",
   "id": "5947b122",
   "metadata": {},
   "source": [
    "## Data Augmentation for Unbalanced Classification"
   ]
  },
  {
   "cell_type": "markdown",
   "id": "5b4b933c",
   "metadata": {},
   "source": [
    "As our simple model always predicts not connected, we need to use some technique that balances the two classes.  While there are many strategies one can employ, we demostrate a simple random over sampling strategy that uses the bootstrap to augment the data for the minority ('connected') class.  "
   ]
  },
  {
   "cell_type": "code",
   "execution_count": 45,
   "id": "b45c9e7e",
   "metadata": {},
   "outputs": [],
   "source": [
    "from imblearn.over_sampling import RandomOverSampler, SMOTE\n"
   ]
  },
  {
   "cell_type": "code",
   "execution_count": 46,
   "id": "d70613b9",
   "metadata": {},
   "outputs": [
    {
     "name": "stderr",
     "output_type": "stream",
     "text": [
      "c:\\Users\\danie\\anaconda3\\lib\\site-packages\\sklearn\\utils\\validation.py:1858: FutureWarning: Feature names only support names that are all strings. Got feature names with dtypes: ['str', 'str_']. An error will be raised in 1.2.\n",
      "  warnings.warn(\n",
      "c:\\Users\\danie\\anaconda3\\lib\\site-packages\\sklearn\\utils\\validation.py:1858: FutureWarning: Feature names only support names that are all strings. Got feature names with dtypes: ['str', 'str_']. An error will be raised in 1.2.\n",
      "  warnings.warn(\n",
      "c:\\Users\\danie\\anaconda3\\lib\\site-packages\\sklearn\\utils\\validation.py:1858: FutureWarning: Feature names only support names that are all strings. Got feature names with dtypes: ['str', 'str_']. An error will be raised in 1.2.\n",
      "  warnings.warn(\n"
     ]
    },
    {
     "name": "stdout",
     "output_type": "stream",
     "text": [
      "accuracy: 0.6854198617052761\n",
      "[[25238 11658]\n",
      " [   34   237]]\n",
      "balanced accuracy: 0.7792847673164502\n"
     ]
    },
    {
     "name": "stderr",
     "output_type": "stream",
     "text": [
      "c:\\Users\\danie\\anaconda3\\lib\\site-packages\\sklearn\\utils\\validation.py:1858: FutureWarning: Feature names only support names that are all strings. Got feature names with dtypes: ['str', 'str_']. An error will be raised in 1.2.\n",
      "  warnings.warn(\n"
     ]
    }
   ],
   "source": [
    "\n",
    "# oversample connected neuron pairs\n",
    "oversample = RandomOverSampler(random_state=0)\n",
    "#oversample = SMOTE()\n",
    "X_resampled, y_resampled = oversample.fit_resample(\n",
    "    train_data[vars], train_data[\"connected\"]\n",
    ")\n",
    "\n",
    "# fit model\n",
    "pipe.fit(X_resampled, y_resampled)\n",
    "\n",
    "# predict on test data\n",
    "test_data[\"pred\"] = pipe.predict_proba(test_data[vars])[:, 1]\n",
    "\n",
    "# compute accuracy\n",
    "print(f\"accuracy: {accuracy_score(test_data['connected'], test_data['pred'] > .5)}\")\n",
    "\n",
    "# confusion matrix\n",
    "print(confusion_matrix(test_data['connected'], test_data['pred'] > .5))\n",
    "\n",
    "# compute balanced accuracy\n",
    "print(\n",
    "    f\"balanced accuracy: {balanced_accuracy_score(test_data['connected'], test_data['pred'] > .5)}\"\n",
    ")"
   ]
  },
  {
   "cell_type": "markdown",
   "id": "f80c8131",
   "metadata": {},
   "source": [
    "scaler : model : vars : balanced accuracy\n",
    "LinearRegression:\n",
    "StandardScaler(): LogisticRegression(random_state=42) : vars = [\"fw_similarity\", \"adp_dist\", \"log_adp_dist\" ] :  0.7223400250589669\n",
    "MinMaxScaler(): LogisticRegression(random_state=42) : vars = [\"fw_similarity\", \"adp_dist\", \"log_adp_dist\" ] :  0.7225026443130866\n",
    "MinMaxScaler(): LogisticRegression(random_state=42) : vars = [\"fw_similarity\", \"adp_dist\", \"log_adp_dist\", \"pre_skeletal_distance_to_soma\", \"post_skeletal_distance_to_soma\"] :  0.7284864527960111\n",
    "MinMaxScaler(): LogisticRegression(random_state=42) : vars = [\"fw_similarity\", \"adp_dist\", \"log_adp_dist\", \"pre_skeletal_distance_to_soma\", \"post_skeletal_distance_to_soma\"] + pre_post_brain_area_encoders : 0.7372156863372623\n",
    "MinMaxScaler(): LogisticRegression(random_state=42, penalty = 'l1', solver='saga'): vars = [\"fw_similarity\", \"adp_dist\", \"log_adp_dist\", \"pre_skeletal_distance_to_soma\", \"post_skeletal_distance_to_soma\"] + pre_post_brain_area_encoders : 0.7792847673164502\n",
    "sub5^\n",
    "MinMaxScaler(): LogisticRegression(random_state=42, penalty = 'l1', solver='saga'): vars = [\"fw_similarity\", \"adp_dist\", \"log_adp_dist\", \"pre_skeletal_distance_to_soma\", \"post_skeletal_distance_to_soma\"] + pre_post_brain_area_encoders + compartment_encoders :  0.7792847673164502\n",
    "XGBoost:\n",
    "MinMaxScaler(): xgboost.XGBClassifier(random_state=42): vars = [\"fw_similarity\", \"adp_dist\", \"log_adp_dist\", \"pre_skeletal_distance_to_soma\", \"post_skeletal_distance_to_soma\"] + pre_post_brain_area_encoders : 0.6123606535013746\n",
    " with: class_weights = {0: 1, 1: 10000}\n",
    "MinMaxScaler(): xgboost.XGBClassifier(random_state=42,scale_pos_weight=pos_weight, class_weight=class_weights):vars = [\"fw_similarity\", \"adp_dist\", \"log_adp_dist\", \"pre_skeletal_distance_to_soma\", \"post_skeletal_distance_to_soma\"] + pre_post_brain_area_encoders : 0.6462639176478495\n",
    "DecisionTreeClassifier: \n",
    "MinMaxScaler(): DecisionTreeClassifier(random_state=42):vars = [\"fw_similarity\", \"adp_dist\", \"log_adp_dist\", \"pre_skeletal_distance_to_soma\", \"post_skeletal_distance_to_soma\"] + pre_post_brain_area_encoders : 0.519641175515181\n",
    "\n",
    "svm:\n",
    "MinMaxScaler(): CalibratedClassifierCV(SVC(kernel ='poly'),method= \"isotonic\"): vars = [\"fw_similarity\", \"adp_dist\", \"log_adp_dist\", \"pre_skeletal_distance_to_soma\", \"post_skeletal_distance_to_soma\"] + pre_post_brain_area_encoders : "
   ]
  },
  {
   "cell_type": "markdown",
   "id": "48d1a156",
   "metadata": {},
   "source": [
    "Simple data augmentation improves our balanced accuracy dramatically!"
   ]
  },
  {
   "cell_type": "markdown",
   "id": "bb82ab85",
   "metadata": {},
   "source": [
    "# Create Example Prediction File for Leaderboard Submission"
   ]
  },
  {
   "cell_type": "markdown",
   "id": "0d12af71",
   "metadata": {},
   "source": [
    "### Load and Merge Leaderboard Data"
   ]
  },
  {
   "cell_type": "code",
   "execution_count": 47,
   "id": "a8bdc8d8",
   "metadata": {},
   "outputs": [],
   "source": [
    "#we need to first load and merge the leaderboard data to have the same format as the training set\n",
    "lb_data = pd.read_csv(\"./leaderboard_data.csv\")"
   ]
  },
  {
   "cell_type": "code",
   "execution_count": 48,
   "id": "4d0b97fd",
   "metadata": {},
   "outputs": [],
   "source": [
    "lb_data = (\n",
    "    lb_data.merge(\n",
    "        feature_weights.rename(columns=lambda x: \"pre_\" + x), \n",
    "        how=\"left\", \n",
    "        validate=\"m:1\",\n",
    "        copy=False,\n",
    "    )\n",
    "    .merge(\n",
    "        feature_weights.rename(columns=lambda x: \"post_\" + x),\n",
    "        how=\"left\",\n",
    "        validate=\"m:1\",\n",
    "        copy=False,\n",
    "    )\n",
    "    .merge(\n",
    "        morph_embeddings.rename(columns=lambda x: \"pre_\" + x),\n",
    "        how=\"left\",\n",
    "        validate=\"m:1\",\n",
    "        copy=False,\n",
    "    )\n",
    "    .merge(\n",
    "        morph_embeddings.rename(columns=lambda x: \"post_\" + x),\n",
    "        how=\"left\",\n",
    "        validate=\"m:1\",\n",
    "        copy=False,\n",
    "    )\n",
    ")"
   ]
  },
  {
   "cell_type": "code",
   "execution_count": 49,
   "id": "4074a460",
   "metadata": {},
   "outputs": [
    {
     "data": {
      "text/plain": [
       "<bound method NDFrame.head of           ID  axonal_coor_x  axonal_coor_y  axonal_coor_z  dendritic_coor_x  \\\n",
       "0          0         527499         544761         912282            529457   \n",
       "1          1        1269890         471870         837816           1271230   \n",
       "2          2         666057         469875         925239            665387   \n",
       "3          3         696633         453516         925806            696648   \n",
       "4          4         567525         585921         888426            570714   \n",
       "...      ...            ...            ...            ...               ...   \n",
       "42588  42588         765513         818622         870114            766346   \n",
       "42589  42589         784476         609000         828177            782564   \n",
       "42590  42590         766038         773808         861693            763428   \n",
       "42591  42591         738276         614460         855099            741617   \n",
       "42592  42592         769314         457443         874419            771959   \n",
       "\n",
       "       dendritic_coor_y  dendritic_coor_z  adp_dist  \\\n",
       "0                543459            916958   4783.37   \n",
       "1                469651            841045   4060.72   \n",
       "2                467214            923430   2912.80   \n",
       "3                453417            921875   3272.83   \n",
       "4                583676            891264   4441.75   \n",
       "...                 ...               ...       ...   \n",
       "42588            817181            871011   1597.63   \n",
       "42589            606911            828562   2607.11   \n",
       "42590            773490            862976   2648.36   \n",
       "42591            612387            854028   3843.24   \n",
       "42592            456564            869856   4978.29   \n",
       "\n",
       "       post_skeletal_distance_to_soma  pre_skeletal_distance_to_soma  ...  \\\n",
       "0                           239163.00                       178032.0  ...   \n",
       "1                           294573.00                      1193910.0  ...   \n",
       "2                             4102.75                       387714.0  ...   \n",
       "3                            31123.00                       424714.0  ...   \n",
       "4                           114201.00                       250411.0  ...   \n",
       "...                               ...                            ...  ...   \n",
       "42588                        74187.70                       426027.0  ...   \n",
       "42589                       172794.00                       553175.0  ...   \n",
       "42590                        44174.50                       372663.0  ...   \n",
       "42591                       178179.00                       517147.0  ...   \n",
       "42592                       321244.00                       763630.0  ...   \n",
       "\n",
       "       pre_nucleus_z  post_nucleus_x  post_nucleus_y  post_nucleus_z  \\\n",
       "0             861240          566528          777344          920800   \n",
       "1             861240         1196352          492736          919560   \n",
       "2             861240          669760          470336          913720   \n",
       "3             861240          669760          470336          913720   \n",
       "4             861240          672384          609728          932720   \n",
       "...              ...             ...             ...             ...   \n",
       "42588         837120          807168          757376          869080   \n",
       "42589         837120          807168          757376          869080   \n",
       "42590         837120          807168          757376          869080   \n",
       "42591         837120          807168          757376          869080   \n",
       "42592         837120          807168          757376          869080   \n",
       "\n",
       "       pre_nucleus_id  post_nucleus_id  \\\n",
       "0              582471           199477   \n",
       "1              582471           518848   \n",
       "2              582471           256716   \n",
       "3              582471           256716   \n",
       "4              582471           260802   \n",
       "...               ...              ...   \n",
       "42588          294484           335443   \n",
       "42589          294484           335443   \n",
       "42590          294484           335443   \n",
       "42591          294484           335443   \n",
       "42592          294484           335443   \n",
       "\n",
       "                                     pre_feature_weights  \\\n",
       "0      [0.19683373, 0.19128098, 0.49339047, -0.029781...   \n",
       "1      [0.19683373, 0.19128098, 0.49339047, -0.029781...   \n",
       "2      [0.19683373, 0.19128098, 0.49339047, -0.029781...   \n",
       "3      [0.19683373, 0.19128098, 0.49339047, -0.029781...   \n",
       "4      [0.19683373, 0.19128098, 0.49339047, -0.029781...   \n",
       "...                                                  ...   \n",
       "42588  [0.4097931, 0.2948376, 0.05925691, 0.111899965...   \n",
       "42589  [0.4097931, 0.2948376, 0.05925691, 0.111899965...   \n",
       "42590  [0.4097931, 0.2948376, 0.05925691, 0.111899965...   \n",
       "42591  [0.4097931, 0.2948376, 0.05925691, 0.111899965...   \n",
       "42592  [0.4097931, 0.2948376, 0.05925691, 0.111899965...   \n",
       "\n",
       "                                    post_feature_weights  \\\n",
       "0      [-0.03441501, 0.41964892, 0.23311342, 0.327173...   \n",
       "1      [-0.03917461, -0.1830603, -0.3704222, 0.183293...   \n",
       "2      [-0.66653997, 0.5036552, 0.047438737, 0.181578...   \n",
       "3      [-0.66653997, 0.5036552, 0.047438737, 0.181578...   \n",
       "4      [-0.40308818, 0.20905656, 0.25083357, -0.19731...   \n",
       "...                                                  ...   \n",
       "42588  [-0.2947989, -0.35604966, 0.7178404, 0.1323682...   \n",
       "42589  [-0.2947989, -0.35604966, 0.7178404, 0.1323682...   \n",
       "42590  [-0.2947989, -0.35604966, 0.7178404, 0.1323682...   \n",
       "42591  [-0.2947989, -0.35604966, 0.7178404, 0.1323682...   \n",
       "42592  [-0.2947989, -0.35604966, 0.7178404, 0.1323682...   \n",
       "\n",
       "                                    pre_morph_embeddings  \\\n",
       "0      [0.5603107213973999, -0.3908874094486236, -0.1...   \n",
       "1      [0.5603107213973999, -0.3908874094486236, -0.1...   \n",
       "2      [0.5603107213973999, -0.3908874094486236, -0.1...   \n",
       "3      [0.5603107213973999, -0.3908874094486236, -0.1...   \n",
       "4      [0.5603107213973999, -0.3908874094486236, -0.1...   \n",
       "...                                                  ...   \n",
       "42588                                                NaN   \n",
       "42589                                                NaN   \n",
       "42590                                                NaN   \n",
       "42591                                                NaN   \n",
       "42592                                                NaN   \n",
       "\n",
       "                                   post_morph_embeddings  \n",
       "0      [1.132591724395752, -0.0064769592136144, -0.67...  \n",
       "1      [1.0723994970321655, -0.7540942430496216, 0.11...  \n",
       "2      [-0.0201839506626129, -0.2563340067863464, 0.1...  \n",
       "3      [-0.0201839506626129, -0.2563340067863464, 0.1...  \n",
       "4      [-0.0254557952284812, 0.7573301792144775, -0.2...  \n",
       "...                                                  ...  \n",
       "42588  [1.4674314260482788, 0.6272068619728088, 0.410...  \n",
       "42589  [1.4674314260482788, 0.6272068619728088, 0.410...  \n",
       "42590  [1.4674314260482788, 0.6272068619728088, 0.410...  \n",
       "42591  [1.4674314260482788, 0.6272068619728088, 0.410...  \n",
       "42592  [1.4674314260482788, 0.6272068619728088, 0.410...  \n",
       "\n",
       "[42593 rows x 33 columns]>"
      ]
     },
     "execution_count": 49,
     "metadata": {},
     "output_type": "execute_result"
    }
   ],
   "source": [
    "lb_data.shape\n",
    "lb_data.head"
   ]
  },
  {
   "cell_type": "markdown",
   "id": "6b6d054a",
   "metadata": {},
   "source": [
    "### Example Prediction: Simple Logistic Regression"
   ]
  },
  {
   "cell_type": "markdown",
   "id": "cc2467bc",
   "metadata": {},
   "source": [
    "Now we fit a our logistic regression model on the full training data and use it to make predictions on the leaderboard data. But first, we need to add in our new engineered feature on neural tuning similarity.  "
   ]
  },
  {
   "cell_type": "code",
   "execution_count": 54,
   "id": "089e47f4",
   "metadata": {},
   "outputs": [
    {
     "name": "stderr",
     "output_type": "stream",
     "text": [
      "c:\\Users\\danie\\anaconda3\\lib\\site-packages\\pandas\\core\\arraylike.py:397: RuntimeWarning: divide by zero encountered in log\n",
      "  result = getattr(ufunc, method)(*inputs, **kwargs)\n"
     ]
    }
   ],
   "source": [
    "# compute the cosine similarity between the pre- and post- feature weights\n",
    "lb_data[\"fw_similarity\"] = lb_data.apply(row_feature_similarity, axis=1)\n",
    "\n",
    "#log_adp_dist\n",
    "lb_data[\"log_adp_dist\"] = np.log(lb_data[\"adp_dist\"])\n",
    "\n",
    "#log_soma_dists\n",
    "lb_data['log_pre_skeletal_distance_to_soma'] = np.log(lb_data['pre_skeletal_distance_to_soma'])\n",
    "lb_data['log_post_skeletal_distance_to_soma'] = np.log(lb_data['post_skeletal_distance_to_soma'])\n",
    "\n",
    "# brain_area_encoding\n",
    "# generate projection group as pre->post\n",
    "lb_data[\"projection_group\"] = (\n",
    "    lb_data[\"pre_brain_area\"].astype(str)\n",
    "    + \"_to_\"\n",
    "    + lb_data[\"post_brain_area\"].astype(str)\n",
    ")\n",
    "\n",
    "encoder = LabelBinarizer()\n",
    "\n",
    "one_hot_encoded1 = encoder.fit_transform(lb_data[\"projection_group\"])\n",
    "\n",
    "pre_post_brain_area_encoders = list(encoder.classes_)\n",
    "oh_df = pd.DataFrame(one_hot_encoded1, columns=pre_post_brain_area_encoders)\n",
    "lb_data[pre_post_brain_area_encoders] = oh_df\n",
    "\n",
    "## compartment encoding\n",
    "encoder = LabelBinarizer()\n",
    "\n",
    "one_hot_encoded2 = encoder.fit_transform(lb_data[\"compartment\"])\n",
    "\n",
    "compartment_encoders = list(encoder.classes_)\n",
    "oh2_df = pd.DataFrame(one_hot_encoded2, columns=compartment_encoders)\n",
    "lb_data[compartment_encoders] = oh2_df"
   ]
  },
  {
   "cell_type": "code",
   "execution_count": 55,
   "id": "7a8e702c",
   "metadata": {},
   "outputs": [
    {
     "name": "stderr",
     "output_type": "stream",
     "text": [
      "c:\\Users\\danie\\anaconda3\\lib\\site-packages\\sklearn\\utils\\validation.py:1858: FutureWarning: Feature names only support names that are all strings. Got feature names with dtypes: ['str', 'str_']. An error will be raised in 1.2.\n",
      "  warnings.warn(\n",
      "c:\\Users\\danie\\anaconda3\\lib\\site-packages\\sklearn\\utils\\validation.py:1858: FutureWarning: Feature names only support names that are all strings. Got feature names with dtypes: ['str', 'str_']. An error will be raised in 1.2.\n",
      "  warnings.warn(\n",
      "c:\\Users\\danie\\anaconda3\\lib\\site-packages\\sklearn\\utils\\validation.py:1858: FutureWarning: Feature names only support names that are all strings. Got feature names with dtypes: ['str', 'str_']. An error will be raised in 1.2.\n",
      "  warnings.warn(\n",
      "c:\\Users\\danie\\anaconda3\\lib\\site-packages\\sklearn\\utils\\validation.py:1858: FutureWarning: Feature names only support names that are all strings. Got feature names with dtypes: ['str', 'str_']. An error will be raised in 1.2.\n",
      "  warnings.warn(\n"
     ]
    }
   ],
   "source": [
    "# set vars\n",
    "vars = [\"fw_similarity\", \"adp_dist\", \"log_adp_dist\", \"pre_skeletal_distance_to_soma\", \"post_skeletal_distance_to_soma\"]\n",
    "\n",
    "vars = vars + pre_post_brain_area_encoders + compartment_encoders # Encoder is sparse, regularization is recommended\n",
    "\n",
    "# oversample connected neuron pairs for full training data\n",
    "ros = RandomOverSampler(random_state=0)\n",
    "X_resampled, y_resampled = ros.fit_resample(\n",
    "    data[vars], data[\"connected\"]\n",
    ")\n",
    "\n",
    "# fit model\n",
    "pipe.fit(X_resampled, y_resampled)\n",
    "\n",
    "# predict on leaderboard data\n",
    "lb_data[\"pred\"] = pipe.predict_proba(lb_data[vars])[:, 1]\n",
    "\n",
    "#create a boolean prediction solution\n",
    "lb_data[\"connected\"] = lb_data[\"pred\"] > .5"
   ]
  },
  {
   "cell_type": "markdown",
   "id": "69c96a3f",
   "metadata": {},
   "source": [
    "### Example of Creating a Leaderboard Submission File"
   ]
  },
  {
   "cell_type": "code",
   "execution_count": 56,
   "id": "771bb7d2",
   "metadata": {},
   "outputs": [],
   "source": [
    "#columns should be ID, connected\n",
    "submission_data = lb_data.filter(['ID','connected'])"
   ]
  },
  {
   "cell_type": "code",
   "execution_count": 57,
   "id": "6eb83024",
   "metadata": {},
   "outputs": [],
   "source": [
    "import os\n",
    "os.chdir(r\"C:\\Users\\danie\\OneDrive\\Desktop\\Fall2023\\ELEC478\\Competition\")"
   ]
  },
  {
   "cell_type": "code",
   "execution_count": 58,
   "id": "9ad284b2",
   "metadata": {},
   "outputs": [],
   "source": [
    "#writing csv files\n",
    "submission_data.to_csv('submission_6.csv',index=False)"
   ]
  }
 ],
 "metadata": {
  "kernelspec": {
   "display_name": "Python 3 (ipykernel)",
   "language": "python",
   "name": "python3"
  },
  "language_info": {
   "codemirror_mode": {
    "name": "ipython",
    "version": 3
   },
   "file_extension": ".py",
   "mimetype": "text/x-python",
   "name": "python",
   "nbconvert_exporter": "python",
   "pygments_lexer": "ipython3",
   "version": "3.9.13"
  }
 },
 "nbformat": 4,
 "nbformat_minor": 5
}
