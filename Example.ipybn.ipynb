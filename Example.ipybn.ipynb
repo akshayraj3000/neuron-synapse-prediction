{
 "cells": [
  {
   "cell_type": "markdown",
   "metadata": {},
   "source": [
    "# Competition Notebook 0\n",
    "## Load Data\n"
   ]
  },
  {
   "cell_type": "code",
   "execution_count": 1,
   "metadata": {},
   "outputs": [],
   "source": [
    "import pandas as pd\n",
    "import numpy as np\n",
    "import matplotlib.pyplot as plt\n",
    "import seaborn as sns\n",
    "\n",
    "#load in training data on each potential synapse\n",
    "data = pd.read_csv(r\"C:\\Users\\danie\\OneDrive\\Desktop\\Fall2023\\ELEC478\\Competition\\neuron-synapse-prediction\\train_data.csv\")\n",
    "\n",
    "#load in additional features for each neuron\n",
    "feature_weights = pd.read_csv(r\"C:\\Users\\danie\\OneDrive\\Desktop\\Fall2023\\ELEC478\\Competition\\neuron-synapse-prediction\\feature_weights.csv\")\n",
    "morph_embeddings = pd.read_csv(r\"C:\\Users\\danie\\OneDrive\\Desktop\\Fall2023\\ELEC478\\Competition\\neuron-synapse-prediction\\morph_embeddings.csv\")\n"
   ]
  },
  {
   "cell_type": "markdown",
   "metadata": {},
   "source": [
    "### Basic Info"
   ]
  },
  {
   "cell_type": "code",
   "execution_count": 2,
   "metadata": {},
   "outputs": [
    {
     "name": "stdout",
     "output_type": "stream",
     "text": [
      "Main Dataframe Size: (185832, 30)\n",
      "\n",
      "Main Dataframe:\n",
      "<class 'pandas.core.frame.DataFrame'>\n",
      "RangeIndex: 185832 entries, 0 to 185831\n",
      "Data columns (total 30 columns):\n",
      " #   Column                          Non-Null Count   Dtype  \n",
      "---  ------                          --------------   -----  \n",
      " 0   ID                              185832 non-null  int64  \n",
      " 1   axonal_coor_x                   185832 non-null  int64  \n",
      " 2   axonal_coor_y                   185832 non-null  int64  \n",
      " 3   axonal_coor_z                   185832 non-null  int64  \n",
      " 4   dendritic_coor_x                185832 non-null  int64  \n",
      " 5   dendritic_coor_y                185832 non-null  int64  \n",
      " 6   dendritic_coor_z                185832 non-null  int64  \n",
      " 7   adp_dist                        185832 non-null  float64\n",
      " 8   post_skeletal_distance_to_soma  185832 non-null  float64\n",
      " 9   pre_skeletal_distance_to_soma   185832 non-null  float64\n",
      " 10  pre_oracle                      185832 non-null  float64\n",
      " 11  pre_test_score                  185832 non-null  float64\n",
      " 12  pre_rf_x                        185832 non-null  float64\n",
      " 13  pre_rf_y                        185832 non-null  float64\n",
      " 14  post_oracle                     185832 non-null  float64\n",
      " 15  post_test_score                 185832 non-null  float64\n",
      " 16  post_rf_x                       185832 non-null  float64\n",
      " 17  post_rf_y                       185832 non-null  float64\n",
      " 18  compartment                     185832 non-null  object \n",
      " 19  pre_brain_area                  185832 non-null  object \n",
      " 20  post_brain_area                 185832 non-null  object \n",
      " 21  pre_nucleus_x                   185832 non-null  int64  \n",
      " 22  pre_nucleus_y                   185832 non-null  int64  \n",
      " 23  pre_nucleus_z                   185832 non-null  int64  \n",
      " 24  post_nucleus_x                  185832 non-null  int64  \n",
      " 25  post_nucleus_y                  185832 non-null  int64  \n",
      " 26  post_nucleus_z                  185832 non-null  int64  \n",
      " 27  pre_nucleus_id                  185832 non-null  int64  \n",
      " 28  post_nucleus_id                 185832 non-null  int64  \n",
      " 29  connected                       185832 non-null  bool   \n",
      "dtypes: bool(1), float64(11), int64(15), object(3)\n",
      "memory usage: 41.3+ MB\n",
      "\n",
      "Feature Weights Size: (2692, 513)\n",
      "\n",
      "Feature Weights:\n",
      "<class 'pandas.core.frame.DataFrame'>\n",
      "RangeIndex: 2692 entries, 0 to 2691\n",
      "Columns: 513 entries, nucleus_id to feature_weight_511\n",
      "dtypes: float64(512), int64(1)\n",
      "memory usage: 10.5 MB\n",
      "\n",
      "Morphological Embeddings Size: (2667, 33)\n",
      "\n",
      "Morphological Embeddings:\n",
      "<class 'pandas.core.frame.DataFrame'>\n",
      "RangeIndex: 2667 entries, 0 to 2666\n",
      "Columns: 33 entries, nucleus_id to morph_emb_31\n",
      "dtypes: float64(32), int64(1)\n",
      "memory usage: 687.7 KB\n"
     ]
    }
   ],
   "source": [
    "print(\"Main Dataframe Size:\",data.shape)\n",
    "print(\"\\nMain Dataframe:\")\n",
    "data.info()\n",
    "\n",
    "print(\"\\nFeature Weights Size:\",feature_weights.shape)\n",
    "print(\"\\nFeature Weights:\")\n",
    "feature_weights.info(verbose=False)\n",
    "\n",
    "print(\"\\nMorphological Embeddings Size:\",morph_embeddings.shape)\n",
    "print(\"\\nMorphological Embeddings:\")\n",
    "morph_embeddings.info(verbose=False)"
   ]
  },
  {
   "cell_type": "markdown",
   "metadata": {},
   "source": [
    "## Merge Data"
   ]
  },
  {
   "cell_type": "code",
   "execution_count": 3,
   "metadata": {},
   "outputs": [],
   "source": [
    "# join all feature_weight_i columns into a single np.array column\n",
    "feature_weights[\"feature_weights\"] = (\n",
    "    feature_weights.filter(regex=\"feature_weight_\")\n",
    "    .sort_index(axis=1)\n",
    "    .apply(lambda x: np.array(x), axis=1)\n",
    ")\n",
    "# delete the feature_weight_i columns\n",
    "feature_weights.drop(\n",
    "    feature_weights.filter(regex=\"feature_weight_\").columns, axis=1, inplace=True\n",
    ")\n",
    "\n",
    "# join all morph_embed_i columns into a single np.array column\n",
    "morph_embeddings[\"morph_embeddings\"] = (\n",
    "    morph_embeddings.filter(regex=\"morph_emb_\")\n",
    "    .sort_index(axis=1)\n",
    "    .apply(lambda x: np.array(x), axis=1)\n",
    ")\n",
    "# delete the morph_embed_i columns\n",
    "morph_embeddings.drop(\n",
    "    morph_embeddings.filter(regex=\"morph_emb_\").columns, axis=1, inplace=True\n",
    ")"
   ]
  },
  {
   "cell_type": "code",
   "execution_count": 4,
   "metadata": {},
   "outputs": [],
   "source": [
    "data = (\n",
    "    data.merge(\n",
    "        feature_weights.rename(columns=lambda x: \"pre_\" + x), \n",
    "        how=\"left\", \n",
    "        validate=\"m:1\",\n",
    "        copy=False,\n",
    "    )\n",
    "    .merge(\n",
    "        feature_weights.rename(columns=lambda x: \"post_\" + x),\n",
    "        how=\"left\",\n",
    "        validate=\"m:1\",\n",
    "        copy=False,\n",
    "    )\n",
    "    .merge(\n",
    "        morph_embeddings.rename(columns=lambda x: \"pre_\" + x),\n",
    "        how=\"left\",\n",
    "        validate=\"m:1\",\n",
    "        copy=False,\n",
    "    )\n",
    "    .merge(\n",
    "        morph_embeddings.rename(columns=lambda x: \"post_\" + x),\n",
    "        how=\"left\",\n",
    "        validate=\"m:1\",\n",
    "        copy=False,\n",
    "    )\n",
    ")"
   ]
  },
  {
   "cell_type": "code",
   "execution_count": 5,
   "metadata": {},
   "outputs": [
    {
     "name": "stdout",
     "output_type": "stream",
     "text": [
      "Data Size: (185832, 34)\n",
      "\n",
      "Data:\n",
      "<class 'pandas.core.frame.DataFrame'>\n",
      "Int64Index: 185832 entries, 0 to 185831\n",
      "Data columns (total 34 columns):\n",
      " #   Column                          Non-Null Count   Dtype  \n",
      "---  ------                          --------------   -----  \n",
      " 0   ID                              185832 non-null  int64  \n",
      " 1   axonal_coor_x                   185832 non-null  int64  \n",
      " 2   axonal_coor_y                   185832 non-null  int64  \n",
      " 3   axonal_coor_z                   185832 non-null  int64  \n",
      " 4   dendritic_coor_x                185832 non-null  int64  \n",
      " 5   dendritic_coor_y                185832 non-null  int64  \n",
      " 6   dendritic_coor_z                185832 non-null  int64  \n",
      " 7   adp_dist                        185832 non-null  float64\n",
      " 8   post_skeletal_distance_to_soma  185832 non-null  float64\n",
      " 9   pre_skeletal_distance_to_soma   185832 non-null  float64\n",
      " 10  pre_oracle                      185832 non-null  float64\n",
      " 11  pre_test_score                  185832 non-null  float64\n",
      " 12  pre_rf_x                        185832 non-null  float64\n",
      " 13  pre_rf_y                        185832 non-null  float64\n",
      " 14  post_oracle                     185832 non-null  float64\n",
      " 15  post_test_score                 185832 non-null  float64\n",
      " 16  post_rf_x                       185832 non-null  float64\n",
      " 17  post_rf_y                       185832 non-null  float64\n",
      " 18  compartment                     185832 non-null  object \n",
      " 19  pre_brain_area                  185832 non-null  object \n",
      " 20  post_brain_area                 185832 non-null  object \n",
      " 21  pre_nucleus_x                   185832 non-null  int64  \n",
      " 22  pre_nucleus_y                   185832 non-null  int64  \n",
      " 23  pre_nucleus_z                   185832 non-null  int64  \n",
      " 24  post_nucleus_x                  185832 non-null  int64  \n",
      " 25  post_nucleus_y                  185832 non-null  int64  \n",
      " 26  post_nucleus_z                  185832 non-null  int64  \n",
      " 27  pre_nucleus_id                  185832 non-null  int64  \n",
      " 28  post_nucleus_id                 185832 non-null  int64  \n",
      " 29  connected                       185832 non-null  bool   \n",
      " 30  pre_feature_weights             185832 non-null  object \n",
      " 31  post_feature_weights            185832 non-null  object \n",
      " 32  pre_morph_embeddings            138123 non-null  object \n",
      " 33  post_morph_embeddings           185832 non-null  object \n",
      "dtypes: bool(1), float64(11), int64(15), object(7)\n",
      "memory usage: 48.4+ MB\n"
     ]
    }
   ],
   "source": [
    "print(\"Data Size:\",data.shape)\n",
    "print(\"\\nData:\")\n",
    "data.info()"
   ]
  },
  {
   "cell_type": "code",
   "execution_count": 6,
   "metadata": {},
   "outputs": [
    {
     "data": {
      "text/html": [
       "<div>\n",
       "<style scoped>\n",
       "    .dataframe tbody tr th:only-of-type {\n",
       "        vertical-align: middle;\n",
       "    }\n",
       "\n",
       "    .dataframe tbody tr th {\n",
       "        vertical-align: top;\n",
       "    }\n",
       "\n",
       "    .dataframe thead th {\n",
       "        text-align: right;\n",
       "    }\n",
       "</style>\n",
       "<table border=\"1\" class=\"dataframe\">\n",
       "  <thead>\n",
       "    <tr style=\"text-align: right;\">\n",
       "      <th></th>\n",
       "      <th>ID</th>\n",
       "      <th>axonal_coor_x</th>\n",
       "      <th>axonal_coor_y</th>\n",
       "      <th>axonal_coor_z</th>\n",
       "      <th>dendritic_coor_x</th>\n",
       "      <th>dendritic_coor_y</th>\n",
       "      <th>dendritic_coor_z</th>\n",
       "      <th>adp_dist</th>\n",
       "      <th>post_skeletal_distance_to_soma</th>\n",
       "      <th>pre_skeletal_distance_to_soma</th>\n",
       "      <th>...</th>\n",
       "      <th>post_nucleus_x</th>\n",
       "      <th>post_nucleus_y</th>\n",
       "      <th>post_nucleus_z</th>\n",
       "      <th>pre_nucleus_id</th>\n",
       "      <th>post_nucleus_id</th>\n",
       "      <th>connected</th>\n",
       "      <th>pre_feature_weights</th>\n",
       "      <th>post_feature_weights</th>\n",
       "      <th>pre_morph_embeddings</th>\n",
       "      <th>post_morph_embeddings</th>\n",
       "    </tr>\n",
       "  </thead>\n",
       "  <tbody>\n",
       "    <tr>\n",
       "      <th>0</th>\n",
       "      <td>42593</td>\n",
       "      <td>1187660</td>\n",
       "      <td>411978</td>\n",
       "      <td>1089020</td>\n",
       "      <td>1187390</td>\n",
       "      <td>412220</td>\n",
       "      <td>1089160</td>\n",
       "      <td>304.185</td>\n",
       "      <td>353043.0</td>\n",
       "      <td>1182170.0</td>\n",
       "      <td>...</td>\n",
       "      <td>1196352</td>\n",
       "      <td>492736</td>\n",
       "      <td>919560</td>\n",
       "      <td>557121</td>\n",
       "      <td>518848</td>\n",
       "      <td>False</td>\n",
       "      <td>[0.40828925, 0.051097646, -0.02682111, 0.04239...</td>\n",
       "      <td>[-0.03917461, -0.1830603, -0.3704222, 0.183293...</td>\n",
       "      <td>[0.3733156323432922, 0.209817960858345, -0.123...</td>\n",
       "      <td>[1.0723994970321655, -0.7540942430496216, 0.11...</td>\n",
       "    </tr>\n",
       "    <tr>\n",
       "      <th>1</th>\n",
       "      <td>42594</td>\n",
       "      <td>1204580</td>\n",
       "      <td>682542</td>\n",
       "      <td>873138</td>\n",
       "      <td>1204640</td>\n",
       "      <td>682870</td>\n",
       "      <td>873890</td>\n",
       "      <td>725.431</td>\n",
       "      <td>244156.0</td>\n",
       "      <td>914243.0</td>\n",
       "      <td>...</td>\n",
       "      <td>1196352</td>\n",
       "      <td>492736</td>\n",
       "      <td>919560</td>\n",
       "      <td>557121</td>\n",
       "      <td>518848</td>\n",
       "      <td>False</td>\n",
       "      <td>[0.40828925, 0.051097646, -0.02682111, 0.04239...</td>\n",
       "      <td>[-0.03917461, -0.1830603, -0.3704222, 0.183293...</td>\n",
       "      <td>[0.3733156323432922, 0.209817960858345, -0.123...</td>\n",
       "      <td>[1.0723994970321655, -0.7540942430496216, 0.11...</td>\n",
       "    </tr>\n",
       "    <tr>\n",
       "      <th>2</th>\n",
       "      <td>42595</td>\n",
       "      <td>1191790</td>\n",
       "      <td>403683</td>\n",
       "      <td>1093180</td>\n",
       "      <td>1188590</td>\n",
       "      <td>402414</td>\n",
       "      <td>1092660</td>\n",
       "      <td>3423.030</td>\n",
       "      <td>363829.0</td>\n",
       "      <td>1171820.0</td>\n",
       "      <td>...</td>\n",
       "      <td>1196352</td>\n",
       "      <td>492736</td>\n",
       "      <td>919560</td>\n",
       "      <td>557121</td>\n",
       "      <td>518848</td>\n",
       "      <td>False</td>\n",
       "      <td>[0.40828925, 0.051097646, -0.02682111, 0.04239...</td>\n",
       "      <td>[-0.03917461, -0.1830603, -0.3704222, 0.183293...</td>\n",
       "      <td>[0.3733156323432922, 0.209817960858345, -0.123...</td>\n",
       "      <td>[1.0723994970321655, -0.7540942430496216, 0.11...</td>\n",
       "    </tr>\n",
       "    <tr>\n",
       "      <th>3</th>\n",
       "      <td>42596</td>\n",
       "      <td>1184320</td>\n",
       "      <td>419286</td>\n",
       "      <td>1082930</td>\n",
       "      <td>1186620</td>\n",
       "      <td>419721</td>\n",
       "      <td>1085540</td>\n",
       "      <td>3442.390</td>\n",
       "      <td>344267.0</td>\n",
       "      <td>1192340.0</td>\n",
       "      <td>...</td>\n",
       "      <td>1196352</td>\n",
       "      <td>492736</td>\n",
       "      <td>919560</td>\n",
       "      <td>557121</td>\n",
       "      <td>518848</td>\n",
       "      <td>False</td>\n",
       "      <td>[0.40828925, 0.051097646, -0.02682111, 0.04239...</td>\n",
       "      <td>[-0.03917461, -0.1830603, -0.3704222, 0.183293...</td>\n",
       "      <td>[0.3733156323432922, 0.209817960858345, -0.123...</td>\n",
       "      <td>[1.0723994970321655, -0.7540942430496216, 0.11...</td>\n",
       "    </tr>\n",
       "    <tr>\n",
       "      <th>4</th>\n",
       "      <td>42597</td>\n",
       "      <td>1189150</td>\n",
       "      <td>673302</td>\n",
       "      <td>944202</td>\n",
       "      <td>1188790</td>\n",
       "      <td>677771</td>\n",
       "      <td>942901</td>\n",
       "      <td>4442.380</td>\n",
       "      <td>313630.0</td>\n",
       "      <td>788566.0</td>\n",
       "      <td>...</td>\n",
       "      <td>1196352</td>\n",
       "      <td>492736</td>\n",
       "      <td>919560</td>\n",
       "      <td>557121</td>\n",
       "      <td>518848</td>\n",
       "      <td>False</td>\n",
       "      <td>[0.40828925, 0.051097646, -0.02682111, 0.04239...</td>\n",
       "      <td>[-0.03917461, -0.1830603, -0.3704222, 0.183293...</td>\n",
       "      <td>[0.3733156323432922, 0.209817960858345, -0.123...</td>\n",
       "      <td>[1.0723994970321655, -0.7540942430496216, 0.11...</td>\n",
       "    </tr>\n",
       "  </tbody>\n",
       "</table>\n",
       "<p>5 rows × 34 columns</p>\n",
       "</div>"
      ],
      "text/plain": [
       "      ID  axonal_coor_x  axonal_coor_y  axonal_coor_z  dendritic_coor_x  \\\n",
       "0  42593        1187660         411978        1089020           1187390   \n",
       "1  42594        1204580         682542         873138           1204640   \n",
       "2  42595        1191790         403683        1093180           1188590   \n",
       "3  42596        1184320         419286        1082930           1186620   \n",
       "4  42597        1189150         673302         944202           1188790   \n",
       "\n",
       "   dendritic_coor_y  dendritic_coor_z  adp_dist  \\\n",
       "0            412220           1089160   304.185   \n",
       "1            682870            873890   725.431   \n",
       "2            402414           1092660  3423.030   \n",
       "3            419721           1085540  3442.390   \n",
       "4            677771            942901  4442.380   \n",
       "\n",
       "   post_skeletal_distance_to_soma  pre_skeletal_distance_to_soma  ...  \\\n",
       "0                        353043.0                      1182170.0  ...   \n",
       "1                        244156.0                       914243.0  ...   \n",
       "2                        363829.0                      1171820.0  ...   \n",
       "3                        344267.0                      1192340.0  ...   \n",
       "4                        313630.0                       788566.0  ...   \n",
       "\n",
       "   post_nucleus_x  post_nucleus_y  post_nucleus_z  pre_nucleus_id  \\\n",
       "0         1196352          492736          919560          557121   \n",
       "1         1196352          492736          919560          557121   \n",
       "2         1196352          492736          919560          557121   \n",
       "3         1196352          492736          919560          557121   \n",
       "4         1196352          492736          919560          557121   \n",
       "\n",
       "   post_nucleus_id  connected  \\\n",
       "0           518848      False   \n",
       "1           518848      False   \n",
       "2           518848      False   \n",
       "3           518848      False   \n",
       "4           518848      False   \n",
       "\n",
       "                                 pre_feature_weights  \\\n",
       "0  [0.40828925, 0.051097646, -0.02682111, 0.04239...   \n",
       "1  [0.40828925, 0.051097646, -0.02682111, 0.04239...   \n",
       "2  [0.40828925, 0.051097646, -0.02682111, 0.04239...   \n",
       "3  [0.40828925, 0.051097646, -0.02682111, 0.04239...   \n",
       "4  [0.40828925, 0.051097646, -0.02682111, 0.04239...   \n",
       "\n",
       "                                post_feature_weights  \\\n",
       "0  [-0.03917461, -0.1830603, -0.3704222, 0.183293...   \n",
       "1  [-0.03917461, -0.1830603, -0.3704222, 0.183293...   \n",
       "2  [-0.03917461, -0.1830603, -0.3704222, 0.183293...   \n",
       "3  [-0.03917461, -0.1830603, -0.3704222, 0.183293...   \n",
       "4  [-0.03917461, -0.1830603, -0.3704222, 0.183293...   \n",
       "\n",
       "                                pre_morph_embeddings  \\\n",
       "0  [0.3733156323432922, 0.209817960858345, -0.123...   \n",
       "1  [0.3733156323432922, 0.209817960858345, -0.123...   \n",
       "2  [0.3733156323432922, 0.209817960858345, -0.123...   \n",
       "3  [0.3733156323432922, 0.209817960858345, -0.123...   \n",
       "4  [0.3733156323432922, 0.209817960858345, -0.123...   \n",
       "\n",
       "                               post_morph_embeddings  \n",
       "0  [1.0723994970321655, -0.7540942430496216, 0.11...  \n",
       "1  [1.0723994970321655, -0.7540942430496216, 0.11...  \n",
       "2  [1.0723994970321655, -0.7540942430496216, 0.11...  \n",
       "3  [1.0723994970321655, -0.7540942430496216, 0.11...  \n",
       "4  [1.0723994970321655, -0.7540942430496216, 0.11...  \n",
       "\n",
       "[5 rows x 34 columns]"
      ]
     },
     "execution_count": 6,
     "metadata": {},
     "output_type": "execute_result"
    }
   ],
   "source": [
    "data.head()"
   ]
  },
  {
   "cell_type": "markdown",
   "metadata": {},
   "source": [
    "## Basic Exploratory Analysis"
   ]
  },
  {
   "cell_type": "code",
   "execution_count": 7,
   "metadata": {},
   "outputs": [],
   "source": [
    "from tqdm import tqdm\n",
    "from sklearn.metrics.pairwise import cosine_similarity"
   ]
  },
  {
   "cell_type": "code",
   "execution_count": 8,
   "metadata": {},
   "outputs": [
    {
     "name": "stdout",
     "output_type": "stream",
     "text": [
      "Number Connected (Synapses): 1366\n",
      "\n",
      "Number Not Connected: 184466\n"
     ]
    }
   ],
   "source": [
    "print(\"Number Connected (Synapses):\",data['connected'].sum())\n",
    "\n",
    "print(\"\\nNumber Not Connected:\",(~data['connected']).sum())"
   ]
  },
  {
   "cell_type": "code",
   "execution_count": 9,
   "metadata": {},
   "outputs": [
    {
     "name": "stdout",
     "output_type": "stream",
     "text": [
      "All the adps are from 77 pre- neurons and 2663 post- neurons.\n"
     ]
    }
   ],
   "source": [
    "print(f\"All the adps are from {data['pre_nucleus_id'].nunique()} pre- neurons and {data['post_nucleus_id'].nunique()} post- neurons.\")"
   ]
  },
  {
   "cell_type": "markdown",
   "metadata": {},
   "source": [
    "Note that we see unbalance between Connected and Non-Connected and between pre-neurons and post-neurons"
   ]
  },
  {
   "cell_type": "code",
   "execution_count": 11,
   "metadata": {},
   "outputs": [
    {
     "data": {
      "text/plain": [
       "<seaborn.axisgrid.FacetGrid at 0x19875e9c4f0>"
      ]
     },
     "execution_count": 11,
     "metadata": {},
     "output_type": "execute_result"
    },
    {
     "data": {
      "image/png": "[encoded data removed]",
      "text/plain": [
       "<Figure size 500x500 with 1 Axes>"
      ]
     },
     "metadata": {},
     "output_type": "display_data"
    }
   ],
   "source": [
    "sns.catplot(data=data, x='connected', y='adp_dist', kind='boxen')"
   ]
  },
  {
   "cell_type": "markdown",
   "metadata": {},
   "source": [
    "# ..."
   ]
  },
  {
   "cell_type": "code",
   "execution_count": 12,
   "metadata": {},
   "outputs": [],
   "source": [
    "#cosine similarity function\n",
    "def row_feature_similarity(row):\n",
    "    pre = row[\"pre_feature_weights\"]\n",
    "    post = row[\"post_feature_weights\"]\n",
    "    return (pre * post).sum() / (np.linalg.norm(pre) * np.linalg.norm(post))"
   ]
  },
  {
   "cell_type": "code",
   "execution_count": 13,
   "metadata": {},
   "outputs": [],
   "source": [
    "# compute the cosine similarity between the pre- and post- feature weights\n",
    "data[\"fw_similarity\"] = data.apply(row_feature_similarity, axis=1)"
   ]
  },
  {
   "cell_type": "code",
   "execution_count": 14,
   "metadata": {},
   "outputs": [
    {
     "data": {
      "text/plain": [
       "<seaborn.axisgrid.FacetGrid at 0x198735dffd0>"
      ]
     },
     "execution_count": 14,
     "metadata": {},
     "output_type": "execute_result"
    },
    {
     "data": {
      "image/png": "[encoded data removed]",
      "text/plain": [
       "<Figure size 500x500 with 1 Axes>"
      ]
     },
     "metadata": {},
     "output_type": "display_data"
    }
   ],
   "source": [
    "#visualize these results\n",
    "sns.catplot(data=data, x='connected', y='fw_similarity', kind='boxen')"
   ]
  },
  {
   "cell_type": "markdown",
   "metadata": {},
   "source": [
    "# ... "
   ]
  },
  {
   "cell_type": "code",
   "execution_count": 15,
   "metadata": {},
   "outputs": [],
   "source": [
    "# generate projection group as pre->post\n",
    "data[\"projection_group\"] = (\n",
    "    data[\"pre_brain_area\"].astype(str)\n",
    "    + \"->\"\n",
    "    + data[\"post_brain_area\"].astype(str)\n",
    ")"
   ]
  },
  {
   "cell_type": "code",
   "execution_count": 16,
   "metadata": {},
   "outputs": [
    {
     "data": {
      "text/plain": [
       "<seaborn.axisgrid.FacetGrid at 0x19800ee4a90>"
      ]
     },
     "execution_count": 16,
     "metadata": {},
     "output_type": "execute_result"
    },
    {
     "data": {
      "image/png": "[encoded data removed]",
      "text/plain": [
       "<Figure size 884.875x800 with 4 Axes>"
      ]
     },
     "metadata": {},
     "output_type": "display_data"
    }
   ],
   "source": [
    "# check the distribution of the cosine similarity for projections groups with more than 100 synapses\n",
    "projection_group_counts = data.query('connected')['projection_group'].value_counts()\n",
    "projection_group_counts = projection_group_counts[projection_group_counts > 100].index\n",
    "sns.displot(\n",
    "    data=data.query('projection_group in @projection_group_counts'), \n",
    "    x='fw_similarity', \n",
    "    hue='connected', \n",
    "    row='projection_group',\n",
    "    common_norm=False, \n",
    "    stat='probability',\n",
    "    binwidth=.02,\n",
    "    height=2,\n",
    "    aspect=4,\n",
    "    facet_kws={'sharey': False}\n",
    ")"
   ]
  },
  {
   "cell_type": "code",
   "execution_count": 17,
   "metadata": {},
   "outputs": [
    {
     "data": {
      "image/png": "[encoded data removed]",
      "text/plain": [
       "<Figure size 584.875x500 with 1 Axes>"
      ]
     },
     "metadata": {},
     "output_type": "display_data"
    }
   ],
   "source": [
    "sns.catplot(data=data, x='projection_group', y='fw_similarity', hue='connected', kind='bar', alpha=.7)\n",
    "plt.tight_layout()\n",
    "plt.legend(bbox_to_anchor=(1.05, 1), loc=2, borderaxespad=0.);\n",
    "plt.xticks(rotation=90);"
   ]
  },
  {
   "cell_type": "code",
   "execution_count": 35,
   "metadata": {},
   "outputs": [],
   "source": [
    "import xgboost\n",
    "from sklearn.svm import SVC\n",
    "from sklearn.tree import DecisionTreeClassifier\n",
    "from sklearn.calibration import CalibratedClassifierCV\n",
    "from sklearn.linear_model import LogisticRegression"
   ]
  },
  {
   "cell_type": "code",
   "execution_count": 43,
   "metadata": {},
   "outputs": [],
   "source": [
    "# logistic regression model (connected ~ fw_similarity + adp)\n",
    "from sklearn.linear_model import LogisticRegressionCV\n",
    "from sklearn.metrics import balanced_accuracy_score, accuracy_score, confusion_matrix\n",
    "from sklearn.model_selection import train_test_split\n",
    "from sklearn.preprocessing import StandardScaler\n",
    "from sklearn.pipeline import Pipeline\n",
    "\n",
    "# split into a train and test set \n",
    "#(Even though we're working with the competition training set, you may want to have your own internal train and test sets.)\n",
    "train_data, test_data = train_test_split(data, test_size=0.2, random_state=1)\n",
    "\n",
    "#create model\n",
    "#svc = SVC(kernel = 'linear', probability= True)\n",
    "#calibrated_svc = CalibratedClassifierCV(svc, method='isotonic')\n",
    "\n",
    "Cs = np.logspace(-2,3,50)\n",
    "\n",
    "model =  LogisticRegressionCV(Cs=Cs, cv=5, solver='saga', penalty='l1', scoring='balanced_accuracy')\n",
    "\n",
    "# create pipeline\n",
    "pipe = Pipeline(\n",
    "    [(\"scaler\", StandardScaler()), (\"model\",model)]\n",
    ")\n",
    "\n",
    "# fit model\n",
    "#pipe.fit(train_data[[\"fw_similarity\", \"adp_dist\"]], train_data[\"connected\"])\n",
    "\n",
    "# predict on test data\n",
    "#test_data[\"pred\"] = pipe.predict_proba(test_data[[\"fw_similarity\", \"adp_dist\"]])[:, 1]\n",
    "\n",
    "# compute accuracy\n",
    "#print(f\"accuracy: {accuracy_score(test_data['connected'], test_data['pred'] > .5)}\")"
   ]
  },
  {
   "cell_type": "code",
   "execution_count": 44,
   "metadata": {},
   "outputs": [
    {
     "data": {
      "text/html": [
       "<style>#sk-container-id-2 {color: black;background-color: white;}#sk-container-id-2 pre{padding: 0;}#sk-container-id-2 div.sk-toggleable {background-color: white;}#sk-container-id-2 label.sk-toggleable__label {cursor: pointer;display: block;width: 100%;margin-bottom: 0;padding: 0.3em;box-sizing: border-box;text-align: center;}#sk-container-id-2 label.sk-toggleable__label-arrow:before {content: \"▸\";float: left;margin-right: 0.25em;color: #696969;}#sk-container-id-2 label.sk-toggleable__label-arrow:hover:before {color: black;}#sk-container-id-2 div.sk-estimator:hover label.sk-toggleable__label-arrow:before {color: black;}#sk-container-id-2 div.sk-toggleable__content {max-height: 0;max-width: 0;overflow: hidden;text-align: left;background-color: #f0f8ff;}#sk-container-id-2 div.sk-toggleable__content pre {margin: 0.2em;color: black;border-radius: 0.25em;background-color: #f0f8ff;}#sk-container-id-2 input.sk-toggleable__control:checked~div.sk-toggleable__content {max-height: 200px;max-width: 100%;overflow: auto;}#sk-container-id-2 input.sk-toggleable__control:checked~label.sk-toggleable__label-arrow:before {content: \"▾\";}#sk-container-id-2 div.sk-estimator input.sk-toggleable__control:checked~label.sk-toggleable__label {background-color: #d4ebff;}#sk-container-id-2 div.sk-label input.sk-toggleable__control:checked~label.sk-toggleable__label {background-color: #d4ebff;}#sk-container-id-2 input.sk-hidden--visually {border: 0;clip: rect(1px 1px 1px 1px);clip: rect(1px, 1px, 1px, 1px);height: 1px;margin: -1px;overflow: hidden;padding: 0;position: absolute;width: 1px;}#sk-container-id-2 div.sk-estimator {font-family: monospace;background-color: #f0f8ff;border: 1px dotted black;border-radius: 0.25em;box-sizing: border-box;margin-bottom: 0.5em;}#sk-container-id-2 div.sk-estimator:hover {background-color: #d4ebff;}#sk-container-id-2 div.sk-parallel-item::after {content: \"\";width: 100%;border-bottom: 1px solid gray;flex-grow: 1;}#sk-container-id-2 div.sk-label:hover label.sk-toggleable__label {background-color: #d4ebff;}#sk-container-id-2 div.sk-serial::before {content: \"\";position: absolute;border-left: 1px solid gray;box-sizing: border-box;top: 0;bottom: 0;left: 50%;z-index: 0;}#sk-container-id-2 div.sk-serial {display: flex;flex-direction: column;align-items: center;background-color: white;padding-right: 0.2em;padding-left: 0.2em;position: relative;}#sk-container-id-2 div.sk-item {position: relative;z-index: 1;}#sk-container-id-2 div.sk-parallel {display: flex;align-items: stretch;justify-content: center;background-color: white;position: relative;}#sk-container-id-2 div.sk-item::before, #sk-container-id-2 div.sk-parallel-item::before {content: \"\";position: absolute;border-left: 1px solid gray;box-sizing: border-box;top: 0;bottom: 0;left: 50%;z-index: -1;}#sk-container-id-2 div.sk-parallel-item {display: flex;flex-direction: column;z-index: 1;position: relative;background-color: white;}#sk-container-id-2 div.sk-parallel-item:first-child::after {align-self: flex-end;width: 50%;}#sk-container-id-2 div.sk-parallel-item:last-child::after {align-self: flex-start;width: 50%;}#sk-container-id-2 div.sk-parallel-item:only-child::after {width: 0;}#sk-container-id-2 div.sk-dashed-wrapped {border: 1px dashed gray;margin: 0 0.4em 0.5em 0.4em;box-sizing: border-box;padding-bottom: 0.4em;background-color: white;}#sk-container-id-2 div.sk-label label {font-family: monospace;font-weight: bold;display: inline-block;line-height: 1.2em;}#sk-container-id-2 div.sk-label-container {text-align: center;}#sk-container-id-2 div.sk-container {/* jupyter's `normalize.less` sets `[hidden] { display: none; }` but bootstrap.min.css set `[hidden] { display: none !important; }` so we also need the `!important` here to be able to override the default hidden behavior on the sphinx rendered scikit-learn.org. See: https://github.com/scikit-learn/scikit-learn/issues/21755 */display: inline-block !important;position: relative;}#sk-container-id-2 div.sk-text-repr-fallback {display: none;}</style><div id=\"sk-container-id-2\" class=\"sk-top-container\"><div class=\"sk-text-repr-fallback\"><pre>Pipeline(steps=[(&#x27;scaler&#x27;, StandardScaler()),\n",
       "                (&#x27;model&#x27;,\n",
       "                 LogisticRegressionCV(Cs=array([1.00000000e-02, 1.26485522e-02, 1.59985872e-02, 2.02358965e-02,\n",
       "       2.55954792e-02, 3.23745754e-02, 4.09491506e-02, 5.17947468e-02,\n",
       "       6.55128557e-02, 8.28642773e-02, 1.04811313e-01, 1.32571137e-01,\n",
       "       1.67683294e-01, 2.12095089e-01, 2.68269580e-01, 3.39322177e-01,\n",
       "       4.29193426e-01, 5.42867544e...\n",
       "       7.19685673e+00, 9.10298178e+00, 1.15139540e+01, 1.45634848e+01,\n",
       "       1.84206997e+01, 2.32995181e+01, 2.94705170e+01, 3.72759372e+01,\n",
       "       4.71486636e+01, 5.96362332e+01, 7.54312006e+01, 9.54095476e+01,\n",
       "       1.20679264e+02, 1.52641797e+02, 1.93069773e+02, 2.44205309e+02,\n",
       "       3.08884360e+02, 3.90693994e+02, 4.94171336e+02, 6.25055193e+02,\n",
       "       7.90604321e+02, 1.00000000e+03]),\n",
       "                                      cv=5, penalty=&#x27;l1&#x27;,\n",
       "                                      scoring=&#x27;balanced_accuracy&#x27;,\n",
       "                                      solver=&#x27;saga&#x27;))])</pre><b>In a Jupyter environment, please rerun this cell to show the HTML representation or trust the notebook. <br />On GitHub, the HTML representation is unable to render, please try loading this page with nbviewer.org.</b></div><div class=\"sk-container\" hidden><div class=\"sk-item sk-dashed-wrapped\"><div class=\"sk-label-container\"><div class=\"sk-label sk-toggleable\"><input class=\"sk-toggleable__control sk-hidden--visually\" id=\"sk-estimator-id-4\" type=\"checkbox\" ><label for=\"sk-estimator-id-4\" class=\"sk-toggleable__label sk-toggleable__label-arrow\">Pipeline</label><div class=\"sk-toggleable__content\"><pre>Pipeline(steps=[(&#x27;scaler&#x27;, StandardScaler()),\n",
       "                (&#x27;model&#x27;,\n",
       "                 LogisticRegressionCV(Cs=array([1.00000000e-02, 1.26485522e-02, 1.59985872e-02, 2.02358965e-02,\n",
       "       2.55954792e-02, 3.23745754e-02, 4.09491506e-02, 5.17947468e-02,\n",
       "       6.55128557e-02, 8.28642773e-02, 1.04811313e-01, 1.32571137e-01,\n",
       "       1.67683294e-01, 2.12095089e-01, 2.68269580e-01, 3.39322177e-01,\n",
       "       4.29193426e-01, 5.42867544e...\n",
       "       7.19685673e+00, 9.10298178e+00, 1.15139540e+01, 1.45634848e+01,\n",
       "       1.84206997e+01, 2.32995181e+01, 2.94705170e+01, 3.72759372e+01,\n",
       "       4.71486636e+01, 5.96362332e+01, 7.54312006e+01, 9.54095476e+01,\n",
       "       1.20679264e+02, 1.52641797e+02, 1.93069773e+02, 2.44205309e+02,\n",
       "       3.08884360e+02, 3.90693994e+02, 4.94171336e+02, 6.25055193e+02,\n",
       "       7.90604321e+02, 1.00000000e+03]),\n",
       "                                      cv=5, penalty=&#x27;l1&#x27;,\n",
       "                                      scoring=&#x27;balanced_accuracy&#x27;,\n",
       "                                      solver=&#x27;saga&#x27;))])</pre></div></div></div><div class=\"sk-serial\"><div class=\"sk-item\"><div class=\"sk-estimator sk-toggleable\"><input class=\"sk-toggleable__control sk-hidden--visually\" id=\"sk-estimator-id-5\" type=\"checkbox\" ><label for=\"sk-estimator-id-5\" class=\"sk-toggleable__label sk-toggleable__label-arrow\">StandardScaler</label><div class=\"sk-toggleable__content\"><pre>StandardScaler()</pre></div></div></div><div class=\"sk-item\"><div class=\"sk-estimator sk-toggleable\"><input class=\"sk-toggleable__control sk-hidden--visually\" id=\"sk-estimator-id-6\" type=\"checkbox\" ><label for=\"sk-estimator-id-6\" class=\"sk-toggleable__label sk-toggleable__label-arrow\">LogisticRegressionCV</label><div class=\"sk-toggleable__content\"><pre>LogisticRegressionCV(Cs=array([1.00000000e-02, 1.26485522e-02, 1.59985872e-02, 2.02358965e-02,\n",
       "       2.55954792e-02, 3.23745754e-02, 4.09491506e-02, 5.17947468e-02,\n",
       "       6.55128557e-02, 8.28642773e-02, 1.04811313e-01, 1.32571137e-01,\n",
       "       1.67683294e-01, 2.12095089e-01, 2.68269580e-01, 3.39322177e-01,\n",
       "       4.29193426e-01, 5.42867544e-01, 6.86648845e-01, 8.68511374e-01,\n",
       "       1.09854114e+00, 1.38...\n",
       "       7.19685673e+00, 9.10298178e+00, 1.15139540e+01, 1.45634848e+01,\n",
       "       1.84206997e+01, 2.32995181e+01, 2.94705170e+01, 3.72759372e+01,\n",
       "       4.71486636e+01, 5.96362332e+01, 7.54312006e+01, 9.54095476e+01,\n",
       "       1.20679264e+02, 1.52641797e+02, 1.93069773e+02, 2.44205309e+02,\n",
       "       3.08884360e+02, 3.90693994e+02, 4.94171336e+02, 6.25055193e+02,\n",
       "       7.90604321e+02, 1.00000000e+03]),\n",
       "                     cv=5, penalty=&#x27;l1&#x27;, scoring=&#x27;balanced_accuracy&#x27;,\n",
       "                     solver=&#x27;saga&#x27;)</pre></div></div></div></div></div></div></div>"
      ],
      "text/plain": [
       "Pipeline(steps=[('scaler', StandardScaler()),\n",
       "                ('model',\n",
       "                 LogisticRegressionCV(Cs=array([1.00000000e-02, 1.26485522e-02, 1.59985872e-02, 2.02358965e-02,\n",
       "       2.55954792e-02, 3.23745754e-02, 4.09491506e-02, 5.17947468e-02,\n",
       "       6.55128557e-02, 8.28642773e-02, 1.04811313e-01, 1.32571137e-01,\n",
       "       1.67683294e-01, 2.12095089e-01, 2.68269580e-01, 3.39322177e-01,\n",
       "       4.29193426e-01, 5.42867544e...\n",
       "       7.19685673e+00, 9.10298178e+00, 1.15139540e+01, 1.45634848e+01,\n",
       "       1.84206997e+01, 2.32995181e+01, 2.94705170e+01, 3.72759372e+01,\n",
       "       4.71486636e+01, 5.96362332e+01, 7.54312006e+01, 9.54095476e+01,\n",
       "       1.20679264e+02, 1.52641797e+02, 1.93069773e+02, 2.44205309e+02,\n",
       "       3.08884360e+02, 3.90693994e+02, 4.94171336e+02, 6.25055193e+02,\n",
       "       7.90604321e+02, 1.00000000e+03]),\n",
       "                                      cv=5, penalty='l1',\n",
       "                                      scoring='balanced_accuracy',\n",
       "                                      solver='saga'))])"
      ]
     },
     "execution_count": 44,
     "metadata": {},
     "output_type": "execute_result"
    }
   ],
   "source": [
    "from imblearn.over_sampling import RandomOverSampler, SMOTE, ADASYN\n",
    "\n",
    "# oversample connected neuron pairs\n",
    "\n",
    "#ros = RandomOverSampler(random_state=0)\n",
    "\n",
    "oversample = SMOTE()\n",
    "#oversample = ADASYN()\n",
    "X_resampled, y_resampled = oversample.fit_resample(\n",
    "    train_data[[\"fw_similarity\", \"adp_dist\"]], train_data[\"connected\"]\n",
    ")\n",
    "\n",
    "# fit model\n",
    "pipe.fit(X_resampled, y_resampled)\n"
   ]
  },
  {
   "cell_type": "code",
   "execution_count": 45,
   "metadata": {},
   "outputs": [],
   "source": [
    "best_C = model.C_\n",
    "best_score = model.scores_[1].max()"
   ]
  },
  {
   "cell_type": "code",
   "execution_count": 46,
   "metadata": {},
   "outputs": [
    {
     "data": {
      "text/plain": [
       "array([0.10481131])"
      ]
     },
     "execution_count": 46,
     "metadata": {},
     "output_type": "execute_result"
    }
   ],
   "source": [
    "best_C"
   ]
  },
  {
   "cell_type": "code",
   "execution_count": 47,
   "metadata": {},
   "outputs": [
    {
     "name": "stdout",
     "output_type": "stream",
     "text": [
      "accuracy: 0.6479941883929292\n",
      "[[23868 13028]\n",
      " [   55   216]]\n",
      "balanced accuracy: 0.7219736816839113\n"
     ]
    }
   ],
   "source": [
    "# predict on test data\n",
    "test_data[\"pred\"] = pipe.predict_proba(test_data[[\"fw_similarity\", \"adp_dist\"]])[:, 1]\n",
    "\n",
    "# compute accuracy\n",
    "print(f\"accuracy: {accuracy_score(test_data['connected'], test_data['pred'] > .5)}\")\n",
    "\n",
    "# confusion matrix\n",
    "print(confusion_matrix(test_data['connected'], test_data['pred'] > .5))\n",
    "\n",
    "# compute balanced accuracy\n",
    "print(\n",
    "    f\"balanced accuracy: {balanced_accuracy_score(test_data['connected'], test_data['pred'] > .5)}\"\n",
    ")"
   ]
  },
  {
   "cell_type": "code",
   "execution_count": 48,
   "metadata": {},
   "outputs": [],
   "source": [
    "#we need to first load and merge the leaderboard data to have the same format as the training set\n",
    "lb_data = pd.read_csv(r\"C:\\Users\\danie\\OneDrive\\Desktop\\Fall2023\\ELEC478\\Competition\\neuron-synapse-prediction/leaderboard_data.csv\")"
   ]
  },
  {
   "cell_type": "code",
   "execution_count": 49,
   "metadata": {},
   "outputs": [],
   "source": [
    "lb_data = (\n",
    "    lb_data.merge(\n",
    "        feature_weights.rename(columns=lambda x: \"pre_\" + x), \n",
    "        how=\"left\", \n",
    "        validate=\"m:1\",\n",
    "        copy=False,\n",
    "    )\n",
    "    .merge(\n",
    "        feature_weights.rename(columns=lambda x: \"post_\" + x),\n",
    "        how=\"left\",\n",
    "        validate=\"m:1\",\n",
    "        copy=False,\n",
    "    )\n",
    "    .merge(\n",
    "        morph_embeddings.rename(columns=lambda x: \"pre_\" + x),\n",
    "        how=\"left\",\n",
    "        validate=\"m:1\",\n",
    "        copy=False,\n",
    "    )\n",
    "    .merge(\n",
    "        morph_embeddings.rename(columns=lambda x: \"post_\" + x),\n",
    "        how=\"left\",\n",
    "        validate=\"m:1\",\n",
    "        copy=False,\n",
    "    )\n",
    ")"
   ]
  },
  {
   "cell_type": "code",
   "execution_count": 50,
   "metadata": {},
   "outputs": [
    {
     "data": {
      "text/plain": [
       "<bound method NDFrame.head of           ID  axonal_coor_x  axonal_coor_y  axonal_coor_z  dendritic_coor_x  \\\n",
       "0          0         527499         544761         912282            529457   \n",
       "1          1        1269890         471870         837816           1271230   \n",
       "2          2         666057         469875         925239            665387   \n",
       "3          3         696633         453516         925806            696648   \n",
       "4          4         567525         585921         888426            570714   \n",
       "...      ...            ...            ...            ...               ...   \n",
       "42588  42588         765513         818622         870114            766346   \n",
       "42589  42589         784476         609000         828177            782564   \n",
       "42590  42590         766038         773808         861693            763428   \n",
       "42591  42591         738276         614460         855099            741617   \n",
       "42592  42592         769314         457443         874419            771959   \n",
       "\n",
       "       dendritic_coor_y  dendritic_coor_z  adp_dist  \\\n",
       "0                543459            916958   4783.37   \n",
       "1                469651            841045   4060.72   \n",
       "2                467214            923430   2912.80   \n",
       "3                453417            921875   3272.83   \n",
       "4                583676            891264   4441.75   \n",
       "...                 ...               ...       ...   \n",
       "42588            817181            871011   1597.63   \n",
       "42589            606911            828562   2607.11   \n",
       "42590            773490            862976   2648.36   \n",
       "42591            612387            854028   3843.24   \n",
       "42592            456564            869856   4978.29   \n",
       "\n",
       "       post_skeletal_distance_to_soma  pre_skeletal_distance_to_soma  ...  \\\n",
       "0                           239163.00                       178032.0  ...   \n",
       "1                           294573.00                      1193910.0  ...   \n",
       "2                             4102.75                       387714.0  ...   \n",
       "3                            31123.00                       424714.0  ...   \n",
       "4                           114201.00                       250411.0  ...   \n",
       "...                               ...                            ...  ...   \n",
       "42588                        74187.70                       426027.0  ...   \n",
       "42589                       172794.00                       553175.0  ...   \n",
       "42590                        44174.50                       372663.0  ...   \n",
       "42591                       178179.00                       517147.0  ...   \n",
       "42592                       321244.00                       763630.0  ...   \n",
       "\n",
       "       pre_nucleus_z  post_nucleus_x  post_nucleus_y  post_nucleus_z  \\\n",
       "0             861240          566528          777344          920800   \n",
       "1             861240         1196352          492736          919560   \n",
       "2             861240          669760          470336          913720   \n",
       "3             861240          669760          470336          913720   \n",
       "4             861240          672384          609728          932720   \n",
       "...              ...             ...             ...             ...   \n",
       "42588         837120          807168          757376          869080   \n",
       "42589         837120          807168          757376          869080   \n",
       "42590         837120          807168          757376          869080   \n",
       "42591         837120          807168          757376          869080   \n",
       "42592         837120          807168          757376          869080   \n",
       "\n",
       "       pre_nucleus_id  post_nucleus_id  \\\n",
       "0              582471           199477   \n",
       "1              582471           518848   \n",
       "2              582471           256716   \n",
       "3              582471           256716   \n",
       "4              582471           260802   \n",
       "...               ...              ...   \n",
       "42588          294484           335443   \n",
       "42589          294484           335443   \n",
       "42590          294484           335443   \n",
       "42591          294484           335443   \n",
       "42592          294484           335443   \n",
       "\n",
       "                                     pre_feature_weights  \\\n",
       "0      [0.19683373, 0.19128098, 0.49339047, -0.029781...   \n",
       "1      [0.19683373, 0.19128098, 0.49339047, -0.029781...   \n",
       "2      [0.19683373, 0.19128098, 0.49339047, -0.029781...   \n",
       "3      [0.19683373, 0.19128098, 0.49339047, -0.029781...   \n",
       "4      [0.19683373, 0.19128098, 0.49339047, -0.029781...   \n",
       "...                                                  ...   \n",
       "42588  [0.4097931, 0.2948376, 0.05925691, 0.111899965...   \n",
       "42589  [0.4097931, 0.2948376, 0.05925691, 0.111899965...   \n",
       "42590  [0.4097931, 0.2948376, 0.05925691, 0.111899965...   \n",
       "42591  [0.4097931, 0.2948376, 0.05925691, 0.111899965...   \n",
       "42592  [0.4097931, 0.2948376, 0.05925691, 0.111899965...   \n",
       "\n",
       "                                    post_feature_weights  \\\n",
       "0      [-0.03441501, 0.41964892, 0.23311342, 0.327173...   \n",
       "1      [-0.03917461, -0.1830603, -0.3704222, 0.183293...   \n",
       "2      [-0.66653997, 0.5036552, 0.047438737, 0.181578...   \n",
       "3      [-0.66653997, 0.5036552, 0.047438737, 0.181578...   \n",
       "4      [-0.40308818, 0.20905656, 0.25083357, -0.19731...   \n",
       "...                                                  ...   \n",
       "42588  [-0.2947989, -0.35604966, 0.7178404, 0.1323682...   \n",
       "42589  [-0.2947989, -0.35604966, 0.7178404, 0.1323682...   \n",
       "42590  [-0.2947989, -0.35604966, 0.7178404, 0.1323682...   \n",
       "42591  [-0.2947989, -0.35604966, 0.7178404, 0.1323682...   \n",
       "42592  [-0.2947989, -0.35604966, 0.7178404, 0.1323682...   \n",
       "\n",
       "                                    pre_morph_embeddings  \\\n",
       "0      [0.5603107213973999, -0.3908874094486236, -0.1...   \n",
       "1      [0.5603107213973999, -0.3908874094486236, -0.1...   \n",
       "2      [0.5603107213973999, -0.3908874094486236, -0.1...   \n",
       "3      [0.5603107213973999, -0.3908874094486236, -0.1...   \n",
       "4      [0.5603107213973999, -0.3908874094486236, -0.1...   \n",
       "...                                                  ...   \n",
       "42588                                                NaN   \n",
       "42589                                                NaN   \n",
       "42590                                                NaN   \n",
       "42591                                                NaN   \n",
       "42592                                                NaN   \n",
       "\n",
       "                                   post_morph_embeddings  \n",
       "0      [1.132591724395752, -0.0064769592136144, -0.67...  \n",
       "1      [1.0723994970321655, -0.7540942430496216, 0.11...  \n",
       "2      [-0.0201839506626129, -0.2563340067863464, 0.1...  \n",
       "3      [-0.0201839506626129, -0.2563340067863464, 0.1...  \n",
       "4      [-0.0254557952284812, 0.7573301792144775, -0.2...  \n",
       "...                                                  ...  \n",
       "42588  [1.4674314260482788, 0.6272068619728088, 0.410...  \n",
       "42589  [1.4674314260482788, 0.6272068619728088, 0.410...  \n",
       "42590  [1.4674314260482788, 0.6272068619728088, 0.410...  \n",
       "42591  [1.4674314260482788, 0.6272068619728088, 0.410...  \n",
       "42592  [1.4674314260482788, 0.6272068619728088, 0.410...  \n",
       "\n",
       "[42593 rows x 33 columns]>"
      ]
     },
     "execution_count": 50,
     "metadata": {},
     "output_type": "execute_result"
    }
   ],
   "source": [
    "lb_data.shape\n",
    "lb_data.head"
   ]
  },
  {
   "cell_type": "code",
   "execution_count": 51,
   "metadata": {},
   "outputs": [],
   "source": [
    "# compute the cosine similarity between the pre- and post- feature weights\n",
    "lb_data[\"fw_similarity\"] = lb_data.apply(row_feature_similarity, axis=1)"
   ]
  },
  {
   "cell_type": "code",
   "execution_count": 52,
   "metadata": {},
   "outputs": [],
   "source": [
    "oversample = SMOTE()\n",
    "X_resampled, y_resampled = oversample.fit_resample(\n",
    "    data[[\"fw_similarity\", \"adp_dist\"]], data[\"connected\"]\n",
    ")\n",
    "\n",
    "# fit model\n",
    "pipe.fit(X_resampled, y_resampled)\n",
    "\n",
    "# predict on leaderboard data\n",
    "lb_data[\"pred\"] = pipe.predict_proba(lb_data[[\"fw_similarity\", \"adp_dist\"]])[:, 1]\n",
    "\n",
    "#create a boolean prediction solution\n",
    "lb_data[\"connected\"] = lb_data[\"pred\"] > .5"
   ]
  },
  {
   "cell_type": "code",
   "execution_count": 53,
   "metadata": {},
   "outputs": [],
   "source": [
    "#columns should be ID, connected\n",
    "submission_data = lb_data.filter(['ID','connected'])"
   ]
  },
  {
   "cell_type": "code",
   "execution_count": 54,
   "metadata": {},
   "outputs": [],
   "source": [
    "#writing csv files\n",
    "submission_data.to_csv('submission_2.csv',index=False)"
   ]
  }
 ],
 "metadata": {
  "kernelspec": {
   "display_name": "base",
   "language": "python",
   "name": "python3"
  },
  "language_info": {
   "codemirror_mode": {
    "name": "ipython",
    "version": 3
   },
   "file_extension": ".py",
   "mimetype": "text/x-python",
   "name": "python",
   "nbconvert_exporter": "python",
   "pygments_lexer": "ipython3",
   "version": "3.9.13"
  }
 },
 "nbformat": 4,
 "nbformat_minor": 2
}
